{
 "cells": [
  {
   "cell_type": "markdown",
   "metadata": {},
   "source": [
    "# Multiperiod Reports by Quarter in Beancount\n",
    "If you've ever used [hledger](https://hledger.org/), you might like its ability to produce nice reports. One of the reports' feature is the table structure, where rows are accounts and columns are weeks, months, quarters or years. Looking at earnings and spendings as a function of time can give you more insights about your finances.\n",
    "\n",
    "However, if you are using [beancount](http://furius.ca/beancount/), this feature is not yet supported in the command line interface. You need to use [fava](https://github.com/beancount/fava), an awesome web-interface for beancount, which has a graph drawing capability as described in this tutorial. fava is not ideal and sometimes you might need more custom reports than the ones available in fava.\n",
    "\n",
    "This notebook provides methodology and tools to:\n",
    "- Process BQL query's output using Pandas library\n",
    "- Generate quarterly totals (multiperiod reports by quarter) by pivoting a table\n",
    "- Aggregate values at different account levels for the provided account hierarchy\n",
    "- Draw treemap plots of expenses for all time period\n",
    "\n",
    "Details are in [this blog post](https://www.isabekov.pro/multiperiod-hledger-style-reports-in-beancount-pivoting-a-table/)."
   ]
  },
  {
   "cell_type": "code",
   "execution_count": 1,
   "metadata": {},
   "outputs": [],
   "source": [
    "from beancount.loader import load_file\n",
    "from beancount.query.query import run_query\n",
    "from beancount.query.numberify import numberify_results\n",
    "import os\n",
    "import numpy as np\n",
    "import pandas as pd\n",
    "pd.set_option('display.max_column', 15)\n",
    "pd.set_option('display.max_rows', 5)\n",
    "pd.set_option(\"max_rows\", 5)\n",
    "pd.set_option('display.max_seq_items', 5)\n",
    "pd.set_option('display.max_colwidth', 50000)\n",
    "pd.set_option('display.width', 500)\n",
    "#pd.set_option('display.expand_frame_repr', True)\n",
    "pd.set_option('display.notebook_repr_html', True)\n",
    "pd.set_option('precision', 2)\n",
    "#pd.set_option('expand_frame_repr', True)\n",
    "import squarify\n",
    "from matplotlib import pyplot as plt\n",
    "font = {'weight' : 'normal',\n",
    "        'size'   : 12}\n",
    "plt.rc('font', **font)\n",
    "plt.rcParams[\"figure.figsize\"] = (15, 5)"
   ]
  },
  {
   "cell_type": "markdown",
   "metadata": {},
   "source": [
    "## Create and Load an Example Beancount Journal File"
   ]
  },
  {
   "cell_type": "code",
   "execution_count": 2,
   "metadata": {},
   "outputs": [
    {
     "data": {
      "text/plain": [
       "'USD'"
      ]
     },
     "execution_count": 2,
     "metadata": {},
     "output_type": "execute_result"
    }
   ],
   "source": [
    "FileName = \"example.beancount\"\n",
    "if not os.path.isfile(FileName):\n",
    "    os.system(\"bean-example > {}\".format(FileName))      \n",
    "    \n",
    "entries, _, opts = load_file(FileName)\n",
    "currency = opts[\"operating_currency\"][0]\n",
    "# Main currency\n",
    "currency"
   ]
  },
  {
   "cell_type": "markdown",
   "metadata": {},
   "source": [
    "## Investigating a Transaction"
   ]
  },
  {
   "cell_type": "code",
   "execution_count": 3,
   "metadata": {},
   "outputs": [
    {
     "data": {
      "text/plain": [
       "1517"
      ]
     },
     "execution_count": 3,
     "metadata": {},
     "output_type": "execute_result"
    }
   ],
   "source": [
    "# Not all of the entries are transactions\n",
    "len(entries)"
   ]
  },
  {
   "cell_type": "markdown",
   "metadata": {},
   "source": [
    "## Executing a BQL Query"
   ]
  },
  {
   "cell_type": "code",
   "execution_count": 4,
   "metadata": {},
   "outputs": [
    {
     "data": {
      "text/plain": [
       "[('account', str),\n",
       " ('year', int),\n",
       " ('month', int),\n",
       " ('amount', beancount.core.inventory.Inventory)]"
      ]
     },
     "execution_count": 4,
     "metadata": {},
     "output_type": "execute_result"
    }
   ],
   "source": [
    "cols, rows = run_query(entries, opts, \n",
    "                       \"SELECT   account,   YEAR(date) AS year,\\\n",
    "                                 MONTH(date) as month,\\\n",
    "                                 SUM(convert(position, '{}', date)) AS amount\\\n",
    "                        WHERE    account ~ 'Expenses'\\\n",
    "                        OR       account ~ 'Income'\\\n",
    "                        GROUP BY account, year, month\\\n",
    "                        ORDER BY account, year, month\".format(currency)\n",
    "                      )\n",
    "cols"
   ]
  },
  {
   "cell_type": "code",
   "execution_count": 5,
   "metadata": {},
   "outputs": [
    {
     "data": {
      "text/plain": [
       "[ResultRow(account='Expenses:Financial:Commissions', year=2019, month=10, amount=(26.85 USD)),\n",
       " ResultRow(account='Expenses:Financial:Commissions', year=2019, month=12, amount=(17.90 USD)),\n",
       " ResultRow(account='Expenses:Financial:Commissions', year=2020, month=4, amount=(17.90 USD))]"
      ]
     },
     "execution_count": 5,
     "metadata": {},
     "output_type": "execute_result"
    }
   ],
   "source": [
    "rows[:3]"
   ]
  },
  {
   "cell_type": "code",
   "execution_count": 6,
   "metadata": {},
   "outputs": [
    {
     "data": {
      "text/plain": [
       "[('account', str),\n",
       " ('year', int),\n",
       " ('month', int),\n",
       " ('amount (USD)', decimal.Decimal),\n",
       " ('amount (VACHR)', decimal.Decimal),\n",
       " ('amount (IRAUSD)', decimal.Decimal)]"
      ]
     },
     "execution_count": 6,
     "metadata": {},
     "output_type": "execute_result"
    }
   ],
   "source": [
    "cols, rows = numberify_results(cols, rows)\n",
    "cols"
   ]
  },
  {
   "cell_type": "code",
   "execution_count": 7,
   "metadata": {},
   "outputs": [
    {
     "data": {
      "text/plain": [
       "[['Expenses:Financial:Commissions', 2019, 10, Decimal('26.85'), None, None],\n",
       " ['Expenses:Financial:Commissions', 2019, 12, Decimal('17.90'), None, None],\n",
       " ['Expenses:Financial:Commissions', 2020, 4, Decimal('17.90'), None, None]]"
      ]
     },
     "execution_count": 7,
     "metadata": {},
     "output_type": "execute_result"
    }
   ],
   "source": [
    "rows[:3]"
   ]
  },
  {
   "cell_type": "markdown",
   "metadata": {},
   "source": [
    "## Converting Result Rows to a Pandas Dataframe"
   ]
  },
  {
   "cell_type": "code",
   "execution_count": 8,
   "metadata": {},
   "outputs": [
    {
     "data": {
      "text/html": [
       "<div>\n",
       "<style scoped>\n",
       "    .dataframe tbody tr th:only-of-type {\n",
       "        vertical-align: middle;\n",
       "    }\n",
       "\n",
       "    .dataframe tbody tr th {\n",
       "        vertical-align: top;\n",
       "    }\n",
       "\n",
       "    .dataframe thead th {\n",
       "        text-align: right;\n",
       "    }\n",
       "</style>\n",
       "<table border=\"1\" class=\"dataframe\">\n",
       "  <thead>\n",
       "    <tr style=\"text-align: right;\">\n",
       "      <th></th>\n",
       "      <th>account</th>\n",
       "      <th>year</th>\n",
       "      <th>month</th>\n",
       "      <th>amount (USD)</th>\n",
       "      <th>amount (VACHR)</th>\n",
       "      <th>amount (IRAUSD)</th>\n",
       "    </tr>\n",
       "  </thead>\n",
       "  <tbody>\n",
       "    <tr>\n",
       "      <th>0</th>\n",
       "      <td>Expenses:Financial:Commissions</td>\n",
       "      <td>2019</td>\n",
       "      <td>10</td>\n",
       "      <td>26.85</td>\n",
       "      <td>None</td>\n",
       "      <td>None</td>\n",
       "    </tr>\n",
       "    <tr>\n",
       "      <th>1</th>\n",
       "      <td>Expenses:Financial:Commissions</td>\n",
       "      <td>2019</td>\n",
       "      <td>12</td>\n",
       "      <td>17.90</td>\n",
       "      <td>None</td>\n",
       "      <td>None</td>\n",
       "    </tr>\n",
       "    <tr>\n",
       "      <th>2</th>\n",
       "      <td>Expenses:Financial:Commissions</td>\n",
       "      <td>2020</td>\n",
       "      <td>4</td>\n",
       "      <td>17.90</td>\n",
       "      <td>None</td>\n",
       "      <td>None</td>\n",
       "    </tr>\n",
       "    <tr>\n",
       "      <th>3</th>\n",
       "      <td>Expenses:Financial:Commissions</td>\n",
       "      <td>2020</td>\n",
       "      <td>6</td>\n",
       "      <td>26.85</td>\n",
       "      <td>None</td>\n",
       "      <td>None</td>\n",
       "    </tr>\n",
       "    <tr>\n",
       "      <th>4</th>\n",
       "      <td>Expenses:Financial:Commissions</td>\n",
       "      <td>2020</td>\n",
       "      <td>8</td>\n",
       "      <td>44.75</td>\n",
       "      <td>None</td>\n",
       "      <td>None</td>\n",
       "    </tr>\n",
       "  </tbody>\n",
       "</table>\n",
       "</div>"
      ],
      "text/plain": [
       "                          account  year  month amount (USD) amount (VACHR) amount (IRAUSD)\n",
       "0  Expenses:Financial:Commissions  2019     10        26.85           None            None\n",
       "1  Expenses:Financial:Commissions  2019     12        17.90           None            None\n",
       "2  Expenses:Financial:Commissions  2020      4        17.90           None            None\n",
       "3  Expenses:Financial:Commissions  2020      6        26.85           None            None\n",
       "4  Expenses:Financial:Commissions  2020      8        44.75           None            None"
      ]
     },
     "execution_count": 8,
     "metadata": {},
     "output_type": "execute_result"
    }
   ],
   "source": [
    "df = pd.DataFrame(rows, columns=[k[0] for k in cols])\n",
    "df.head()"
   ]
  },
  {
   "cell_type": "code",
   "execution_count": 9,
   "metadata": {},
   "outputs": [
    {
     "data": {
      "text/plain": [
       "Account            object\n",
       "Year                int64\n",
       "                    ...  \n",
       "amount (VACHR)     object\n",
       "amount (IRAUSD)    object\n",
       "Length: 6, dtype: object"
      ]
     },
     "execution_count": 9,
     "metadata": {},
     "output_type": "execute_result"
    }
   ],
   "source": [
    "df.rename(columns={\"account\": \"Account\", \"year\":\"Year\", \"month\": \"Month\", \"amount ({})\".format(currency): \"Amount ({})\".format(currency)}, inplace=True)\n",
    "df.dtypes"
   ]
  },
  {
   "cell_type": "code",
   "execution_count": 10,
   "metadata": {},
   "outputs": [
    {
     "data": {
      "text/html": [
       "<div>\n",
       "<style scoped>\n",
       "    .dataframe tbody tr th:only-of-type {\n",
       "        vertical-align: middle;\n",
       "    }\n",
       "\n",
       "    .dataframe tbody tr th {\n",
       "        vertical-align: top;\n",
       "    }\n",
       "\n",
       "    .dataframe thead th {\n",
       "        text-align: right;\n",
       "    }\n",
       "</style>\n",
       "<table border=\"1\" class=\"dataframe\">\n",
       "  <thead>\n",
       "    <tr style=\"text-align: right;\">\n",
       "      <th></th>\n",
       "      <th>Account</th>\n",
       "      <th>Year</th>\n",
       "      <th>Month</th>\n",
       "      <th>Amount (USD)</th>\n",
       "    </tr>\n",
       "  </thead>\n",
       "  <tbody>\n",
       "    <tr>\n",
       "      <th>0</th>\n",
       "      <td>Expenses:Financial:Commissions</td>\n",
       "      <td>2019</td>\n",
       "      <td>10</td>\n",
       "      <td>26.85</td>\n",
       "    </tr>\n",
       "    <tr>\n",
       "      <th>1</th>\n",
       "      <td>Expenses:Financial:Commissions</td>\n",
       "      <td>2019</td>\n",
       "      <td>12</td>\n",
       "      <td>17.90</td>\n",
       "    </tr>\n",
       "    <tr>\n",
       "      <th>2</th>\n",
       "      <td>Expenses:Financial:Commissions</td>\n",
       "      <td>2020</td>\n",
       "      <td>4</td>\n",
       "      <td>17.90</td>\n",
       "    </tr>\n",
       "    <tr>\n",
       "      <th>3</th>\n",
       "      <td>Expenses:Financial:Commissions</td>\n",
       "      <td>2020</td>\n",
       "      <td>6</td>\n",
       "      <td>26.85</td>\n",
       "    </tr>\n",
       "    <tr>\n",
       "      <th>4</th>\n",
       "      <td>Expenses:Financial:Commissions</td>\n",
       "      <td>2020</td>\n",
       "      <td>8</td>\n",
       "      <td>44.75</td>\n",
       "    </tr>\n",
       "  </tbody>\n",
       "</table>\n",
       "</div>"
      ],
      "text/plain": [
       "                          Account  Year  Month  Amount (USD)\n",
       "0  Expenses:Financial:Commissions  2019     10         26.85\n",
       "1  Expenses:Financial:Commissions  2019     12         17.90\n",
       "2  Expenses:Financial:Commissions  2020      4         17.90\n",
       "3  Expenses:Financial:Commissions  2020      6         26.85\n",
       "4  Expenses:Financial:Commissions  2020      8         44.75"
      ]
     },
     "execution_count": 10,
     "metadata": {},
     "output_type": "execute_result"
    }
   ],
   "source": [
    "df = df.astype({\"Account\": str, \"Year\": int, \"Month\": int, \"Amount ({})\".format(currency): np.float})\n",
    "df = df[[\"Account\", \"Year\", \"Month\", \"Amount ({})\".format(currency)]].fillna(0)\n",
    "df.head()"
   ]
  },
  {
   "cell_type": "code",
   "execution_count": 11,
   "metadata": {},
   "outputs": [
    {
     "data": {
      "text/html": [
       "<div>\n",
       "<style scoped>\n",
       "    .dataframe tbody tr th:only-of-type {\n",
       "        vertical-align: middle;\n",
       "    }\n",
       "\n",
       "    .dataframe tbody tr th {\n",
       "        vertical-align: top;\n",
       "    }\n",
       "\n",
       "    .dataframe thead th {\n",
       "        text-align: right;\n",
       "    }\n",
       "</style>\n",
       "<table border=\"1\" class=\"dataframe\">\n",
       "  <thead>\n",
       "    <tr style=\"text-align: right;\">\n",
       "      <th></th>\n",
       "      <th>Account</th>\n",
       "      <th>YearMonth</th>\n",
       "      <th>Amount (USD)</th>\n",
       "    </tr>\n",
       "  </thead>\n",
       "  <tbody>\n",
       "    <tr>\n",
       "      <th>0</th>\n",
       "      <td>Expenses:Financial:Commissions</td>\n",
       "      <td>2019-10</td>\n",
       "      <td>26.85</td>\n",
       "    </tr>\n",
       "    <tr>\n",
       "      <th>1</th>\n",
       "      <td>Expenses:Financial:Commissions</td>\n",
       "      <td>2019-12</td>\n",
       "      <td>17.90</td>\n",
       "    </tr>\n",
       "    <tr>\n",
       "      <th>2</th>\n",
       "      <td>Expenses:Financial:Commissions</td>\n",
       "      <td>2020-04</td>\n",
       "      <td>17.90</td>\n",
       "    </tr>\n",
       "    <tr>\n",
       "      <th>3</th>\n",
       "      <td>Expenses:Financial:Commissions</td>\n",
       "      <td>2020-06</td>\n",
       "      <td>26.85</td>\n",
       "    </tr>\n",
       "    <tr>\n",
       "      <th>4</th>\n",
       "      <td>Expenses:Financial:Commissions</td>\n",
       "      <td>2020-08</td>\n",
       "      <td>44.75</td>\n",
       "    </tr>\n",
       "  </tbody>\n",
       "</table>\n",
       "</div>"
      ],
      "text/plain": [
       "                          Account YearMonth  Amount (USD)\n",
       "0  Expenses:Financial:Commissions   2019-10         26.85\n",
       "1  Expenses:Financial:Commissions   2019-12         17.90\n",
       "2  Expenses:Financial:Commissions   2020-04         17.90\n",
       "3  Expenses:Financial:Commissions   2020-06         26.85\n",
       "4  Expenses:Financial:Commissions   2020-08         44.75"
      ]
     },
     "execution_count": 11,
     "metadata": {},
     "output_type": "execute_result"
    }
   ],
   "source": [
    "df[\"YearMonth\"] = df.apply(lambda x: \"{}-{:0>2d}\".format(x[\"Year\"], x[\"Month\"]),axis=1)\n",
    "df = df[[\"Account\", \"YearMonth\", \"Amount ({})\".format(currency)]]\n",
    "df.head()"
   ]
  },
  {
   "cell_type": "code",
   "execution_count": 12,
   "metadata": {},
   "outputs": [
    {
     "name": "stdout",
     "output_type": "stream",
     "text": [
      "                            Account YearMonth  Amount (USD)\n",
      "0    Expenses:Financial:Commissions   2019-10         26.85\n",
      "1    Expenses:Financial:Commissions   2019-12         17.90\n",
      "..                              ...       ...           ...\n",
      "561       Income:US:Hoogle:Vacation   2020-11          0.00\n",
      "562       Income:US:Hoogle:Vacation   2020-12          0.00\n",
      "\n",
      "[563 rows x 3 columns]\n"
     ]
    }
   ],
   "source": [
    "print(df.__repr__())"
   ]
  },
  {
   "cell_type": "code",
   "execution_count": 13,
   "metadata": {},
   "outputs": [
    {
     "name": "stdout",
     "output_type": "stream",
     "text": [
      "|    |   index | Account                        | YearMonth   |   Amount (USD) |\n",
      "|---:|--------:|:-------------------------------|:------------|---------------:|\n",
      "|  0 |       0 | Expenses:Financial:Commissions | 2019-10     |          26.85 |\n",
      "|  1 |       1 | Expenses:Financial:Commissions | 2019-12     |          17.9  |\n",
      "|  2 |       2 | Expenses:Financial:Commissions | 2020-04     |          17.9  |\n",
      "|  3 |       3 | Expenses:Financial:Commissions | 2020-06     |          26.85 |\n",
      "|  4 |       4 | Expenses:Financial:Commissions | 2020-08     |          44.75 |\n"
     ]
    }
   ],
   "source": [
    "print(df.head().reset_index().to_markdown())"
   ]
  },
  {
   "cell_type": "code",
   "execution_count": 14,
   "metadata": {},
   "outputs": [
    {
     "data": {
      "text/html": [
       "<div>\n",
       "<style scoped>\n",
       "    .dataframe tbody tr th:only-of-type {\n",
       "        vertical-align: middle;\n",
       "    }\n",
       "\n",
       "    .dataframe tbody tr th {\n",
       "        vertical-align: top;\n",
       "    }\n",
       "\n",
       "    .dataframe thead th {\n",
       "        text-align: right;\n",
       "    }\n",
       "</style>\n",
       "<table border=\"1\" class=\"dataframe\">\n",
       "  <thead>\n",
       "    <tr style=\"text-align: right;\">\n",
       "      <th></th>\n",
       "      <th>Account</th>\n",
       "      <th>Amount (USD)</th>\n",
       "    </tr>\n",
       "    <tr>\n",
       "      <th>YearMonth</th>\n",
       "      <th></th>\n",
       "      <th></th>\n",
       "    </tr>\n",
       "  </thead>\n",
       "  <tbody>\n",
       "    <tr>\n",
       "      <th>2019-10-31</th>\n",
       "      <td>Expenses:Financial:Commissions</td>\n",
       "      <td>26.85</td>\n",
       "    </tr>\n",
       "    <tr>\n",
       "      <th>2019-12-31</th>\n",
       "      <td>Expenses:Financial:Commissions</td>\n",
       "      <td>17.90</td>\n",
       "    </tr>\n",
       "    <tr>\n",
       "      <th>2020-04-30</th>\n",
       "      <td>Expenses:Financial:Commissions</td>\n",
       "      <td>17.90</td>\n",
       "    </tr>\n",
       "    <tr>\n",
       "      <th>2020-06-30</th>\n",
       "      <td>Expenses:Financial:Commissions</td>\n",
       "      <td>26.85</td>\n",
       "    </tr>\n",
       "    <tr>\n",
       "      <th>2020-08-31</th>\n",
       "      <td>Expenses:Financial:Commissions</td>\n",
       "      <td>44.75</td>\n",
       "    </tr>\n",
       "  </tbody>\n",
       "</table>\n",
       "</div>"
      ],
      "text/plain": [
       "                                   Account  Amount (USD)\n",
       "YearMonth                                               \n",
       "2019-10-31  Expenses:Financial:Commissions         26.85\n",
       "2019-12-31  Expenses:Financial:Commissions         17.90\n",
       "2020-04-30  Expenses:Financial:Commissions         17.90\n",
       "2020-06-30  Expenses:Financial:Commissions         26.85\n",
       "2020-08-31  Expenses:Financial:Commissions         44.75"
      ]
     },
     "execution_count": 14,
     "metadata": {},
     "output_type": "execute_result"
    }
   ],
   "source": [
    "df.index = pd.to_datetime(df[\"YearMonth\"], format='%Y-%m') + pd.offsets.MonthEnd(0)\n",
    "df.drop(columns=\"YearMonth\", inplace=True)\n",
    "df.head()"
   ]
  },
  {
   "cell_type": "code",
   "execution_count": 15,
   "metadata": {},
   "outputs": [
    {
     "data": {
      "text/html": [
       "<div>\n",
       "<style scoped>\n",
       "    .dataframe tbody tr th:only-of-type {\n",
       "        vertical-align: middle;\n",
       "    }\n",
       "\n",
       "    .dataframe tbody tr th {\n",
       "        vertical-align: top;\n",
       "    }\n",
       "\n",
       "    .dataframe thead th {\n",
       "        text-align: right;\n",
       "    }\n",
       "</style>\n",
       "<table border=\"1\" class=\"dataframe\">\n",
       "  <thead>\n",
       "    <tr style=\"text-align: right;\">\n",
       "      <th></th>\n",
       "      <th></th>\n",
       "      <th>Amount (USD)</th>\n",
       "    </tr>\n",
       "    <tr>\n",
       "      <th>Account</th>\n",
       "      <th>YearMonth</th>\n",
       "      <th></th>\n",
       "    </tr>\n",
       "  </thead>\n",
       "  <tbody>\n",
       "    <tr>\n",
       "      <th rowspan=\"2\" valign=\"top\">Expenses:Financial:Commissions</th>\n",
       "      <th>2019-12-31</th>\n",
       "      <td>44.75</td>\n",
       "    </tr>\n",
       "    <tr>\n",
       "      <th>2020-06-30</th>\n",
       "      <td>44.75</td>\n",
       "    </tr>\n",
       "    <tr>\n",
       "      <th>...</th>\n",
       "      <th>...</th>\n",
       "      <td>...</td>\n",
       "    </tr>\n",
       "    <tr>\n",
       "      <th rowspan=\"2\" valign=\"top\">Expenses:Food:Groceries</th>\n",
       "      <th>2019-12-31</th>\n",
       "      <td>729.28</td>\n",
       "    </tr>\n",
       "    <tr>\n",
       "      <th>2020-03-31</th>\n",
       "      <td>761.37</td>\n",
       "    </tr>\n",
       "  </tbody>\n",
       "</table>\n",
       "<p>20 rows × 1 columns</p>\n",
       "</div>"
      ],
      "text/plain": [
       "                                           Amount (USD)\n",
       "Account                        YearMonth               \n",
       "Expenses:Financial:Commissions 2019-12-31         44.75\n",
       "                               2020-06-30         44.75\n",
       "...                                                 ...\n",
       "Expenses:Food:Groceries        2019-12-31        729.28\n",
       "                               2020-03-31        761.37\n",
       "\n",
       "[20 rows x 1 columns]"
      ]
     },
     "execution_count": 15,
     "metadata": {},
     "output_type": "execute_result"
    }
   ],
   "source": [
    "# Aggregate at month level\n",
    "df = df.groupby([\"Account\", pd.Grouper(freq='Q')]).sum()\n",
    "df.head(20)"
   ]
  },
  {
   "cell_type": "markdown",
   "metadata": {},
   "source": [
    "## Pivoting a Table by Quarter"
   ]
  },
  {
   "cell_type": "code",
   "execution_count": 16,
   "metadata": {},
   "outputs": [
    {
     "data": {
      "text/html": [
       "<div>\n",
       "<style scoped>\n",
       "    .dataframe tbody tr th:only-of-type {\n",
       "        vertical-align: middle;\n",
       "    }\n",
       "\n",
       "    .dataframe tbody tr th {\n",
       "        vertical-align: top;\n",
       "    }\n",
       "\n",
       "    .dataframe thead tr th {\n",
       "        text-align: left;\n",
       "    }\n",
       "</style>\n",
       "<table border=\"1\" class=\"dataframe\">\n",
       "  <thead>\n",
       "    <tr>\n",
       "      <th></th>\n",
       "      <th>Account</th>\n",
       "      <th colspan=\"8\" halign=\"left\">Amount (USD)</th>\n",
       "    </tr>\n",
       "    <tr>\n",
       "      <th>YearMonth</th>\n",
       "      <th></th>\n",
       "      <th>2019-Q1</th>\n",
       "      <th>2019-Q2</th>\n",
       "      <th>2019-Q3</th>\n",
       "      <th>2019-Q4</th>\n",
       "      <th>2020-Q1</th>\n",
       "      <th>2020-Q2</th>\n",
       "      <th>2020-Q3</th>\n",
       "      <th>2020-Q4</th>\n",
       "    </tr>\n",
       "  </thead>\n",
       "  <tbody>\n",
       "    <tr>\n",
       "      <th>0</th>\n",
       "      <td>Expenses:Financial:Commissions</td>\n",
       "      <td>0.00</td>\n",
       "      <td>0.00</td>\n",
       "      <td>0.00</td>\n",
       "      <td>44.75</td>\n",
       "      <td>0.00</td>\n",
       "      <td>44.75</td>\n",
       "      <td>53.70</td>\n",
       "      <td>143.20</td>\n",
       "    </tr>\n",
       "    <tr>\n",
       "      <th>1</th>\n",
       "      <td>Expenses:Financial:Fees</td>\n",
       "      <td>12.00</td>\n",
       "      <td>12.00</td>\n",
       "      <td>12.00</td>\n",
       "      <td>12.00</td>\n",
       "      <td>12.00</td>\n",
       "      <td>12.00</td>\n",
       "      <td>12.00</td>\n",
       "      <td>12.00</td>\n",
       "    </tr>\n",
       "    <tr>\n",
       "      <th>2</th>\n",
       "      <td>Expenses:Food:Alcohol</td>\n",
       "      <td>0.00</td>\n",
       "      <td>0.00</td>\n",
       "      <td>0.00</td>\n",
       "      <td>0.00</td>\n",
       "      <td>26.34</td>\n",
       "      <td>0.00</td>\n",
       "      <td>0.00</td>\n",
       "      <td>0.00</td>\n",
       "    </tr>\n",
       "    <tr>\n",
       "      <th>3</th>\n",
       "      <td>Expenses:Food:Coffee</td>\n",
       "      <td>0.00</td>\n",
       "      <td>0.00</td>\n",
       "      <td>0.00</td>\n",
       "      <td>0.00</td>\n",
       "      <td>31.72</td>\n",
       "      <td>0.00</td>\n",
       "      <td>34.75</td>\n",
       "      <td>0.00</td>\n",
       "    </tr>\n",
       "    <tr>\n",
       "      <th>4</th>\n",
       "      <td>Expenses:Food:Groceries</td>\n",
       "      <td>582.79</td>\n",
       "      <td>473.92</td>\n",
       "      <td>449.42</td>\n",
       "      <td>729.28</td>\n",
       "      <td>761.37</td>\n",
       "      <td>459.74</td>\n",
       "      <td>526.52</td>\n",
       "      <td>471.39</td>\n",
       "    </tr>\n",
       "  </tbody>\n",
       "</table>\n",
       "</div>"
      ],
      "text/plain": [
       "                                  Account Amount (USD)                                                        \n",
       "YearMonth                                      2019-Q1 2019-Q2 2019-Q3 2019-Q4 2020-Q1 2020-Q2 2020-Q3 2020-Q4\n",
       "0          Expenses:Financial:Commissions         0.00    0.00    0.00   44.75    0.00   44.75   53.70  143.20\n",
       "1                 Expenses:Financial:Fees        12.00   12.00   12.00   12.00   12.00   12.00   12.00   12.00\n",
       "2                   Expenses:Food:Alcohol         0.00    0.00    0.00    0.00   26.34    0.00    0.00    0.00\n",
       "3                    Expenses:Food:Coffee         0.00    0.00    0.00    0.00   31.72    0.00   34.75    0.00\n",
       "4                 Expenses:Food:Groceries       582.79  473.92  449.42  729.28  761.37  459.74  526.52  471.39"
      ]
     },
     "execution_count": 16,
     "metadata": {},
     "output_type": "execute_result"
    }
   ],
   "source": [
    "df = df.pivot_table(index=\"Account\", columns=df.index.get_level_values(1).map(lambda s: s.strftime('%Y-%m')).astype('period[Q]').strftime('%F-Q%q')).fillna(0).reset_index()\n",
    "df.head()"
   ]
  },
  {
   "cell_type": "code",
   "execution_count": 17,
   "metadata": {},
   "outputs": [
    {
     "data": {
      "text/html": [
       "<div>\n",
       "<style scoped>\n",
       "    .dataframe tbody tr th:only-of-type {\n",
       "        vertical-align: middle;\n",
       "    }\n",
       "\n",
       "    .dataframe tbody tr th {\n",
       "        vertical-align: top;\n",
       "    }\n",
       "\n",
       "    .dataframe thead th {\n",
       "        text-align: right;\n",
       "    }\n",
       "</style>\n",
       "<table border=\"1\" class=\"dataframe\">\n",
       "  <thead>\n",
       "    <tr style=\"text-align: right;\">\n",
       "      <th>YearMonth</th>\n",
       "      <th></th>\n",
       "      <th>2019-Q1</th>\n",
       "      <th>2019-Q2</th>\n",
       "      <th>2019-Q3</th>\n",
       "      <th>2019-Q4</th>\n",
       "      <th>2020-Q1</th>\n",
       "      <th>2020-Q2</th>\n",
       "      <th>2020-Q3</th>\n",
       "      <th>2020-Q4</th>\n",
       "    </tr>\n",
       "  </thead>\n",
       "  <tbody>\n",
       "    <tr>\n",
       "      <th>0</th>\n",
       "      <td>Expenses:Financial:Commissions</td>\n",
       "      <td>0.00</td>\n",
       "      <td>0.00</td>\n",
       "      <td>0.00</td>\n",
       "      <td>44.75</td>\n",
       "      <td>0.00</td>\n",
       "      <td>44.75</td>\n",
       "      <td>53.70</td>\n",
       "      <td>143.20</td>\n",
       "    </tr>\n",
       "    <tr>\n",
       "      <th>1</th>\n",
       "      <td>Expenses:Financial:Fees</td>\n",
       "      <td>12.00</td>\n",
       "      <td>12.00</td>\n",
       "      <td>12.00</td>\n",
       "      <td>12.00</td>\n",
       "      <td>12.00</td>\n",
       "      <td>12.00</td>\n",
       "      <td>12.00</td>\n",
       "      <td>12.00</td>\n",
       "    </tr>\n",
       "    <tr>\n",
       "      <th>2</th>\n",
       "      <td>Expenses:Food:Alcohol</td>\n",
       "      <td>0.00</td>\n",
       "      <td>0.00</td>\n",
       "      <td>0.00</td>\n",
       "      <td>0.00</td>\n",
       "      <td>26.34</td>\n",
       "      <td>0.00</td>\n",
       "      <td>0.00</td>\n",
       "      <td>0.00</td>\n",
       "    </tr>\n",
       "    <tr>\n",
       "      <th>3</th>\n",
       "      <td>Expenses:Food:Coffee</td>\n",
       "      <td>0.00</td>\n",
       "      <td>0.00</td>\n",
       "      <td>0.00</td>\n",
       "      <td>0.00</td>\n",
       "      <td>31.72</td>\n",
       "      <td>0.00</td>\n",
       "      <td>34.75</td>\n",
       "      <td>0.00</td>\n",
       "    </tr>\n",
       "    <tr>\n",
       "      <th>4</th>\n",
       "      <td>Expenses:Food:Groceries</td>\n",
       "      <td>582.79</td>\n",
       "      <td>473.92</td>\n",
       "      <td>449.42</td>\n",
       "      <td>729.28</td>\n",
       "      <td>761.37</td>\n",
       "      <td>459.74</td>\n",
       "      <td>526.52</td>\n",
       "      <td>471.39</td>\n",
       "    </tr>\n",
       "  </tbody>\n",
       "</table>\n",
       "</div>"
      ],
      "text/plain": [
       "YearMonth                                  2019-Q1  2019-Q2  2019-Q3  2019-Q4  2020-Q1  2020-Q2  2020-Q3  2020-Q4\n",
       "0          Expenses:Financial:Commissions     0.00     0.00     0.00    44.75     0.00    44.75    53.70   143.20\n",
       "1                 Expenses:Financial:Fees    12.00    12.00    12.00    12.00    12.00    12.00    12.00    12.00\n",
       "2                   Expenses:Food:Alcohol     0.00     0.00     0.00     0.00    26.34     0.00     0.00     0.00\n",
       "3                    Expenses:Food:Coffee     0.00     0.00     0.00     0.00    31.72     0.00    34.75     0.00\n",
       "4                 Expenses:Food:Groceries   582.79   473.92   449.42   729.28   761.37   459.74   526.52   471.39"
      ]
     },
     "execution_count": 17,
     "metadata": {},
     "output_type": "execute_result"
    }
   ],
   "source": [
    "dfm = df.copy()\n",
    "dfm.columns = dfm.columns.droplevel(level=0)\n",
    "dfm.head()"
   ]
  },
  {
   "cell_type": "code",
   "execution_count": 18,
   "metadata": {},
   "outputs": [
    {
     "name": "stdout",
     "output_type": "stream",
     "text": [
      "|    |                                |   2019-Q1 |   2019-Q2 |   2019-Q3 |   2019-Q4 |   2020-Q1 |   2020-Q2 |   2020-Q3 |   2020-Q4 |\n",
      "|---:|:-------------------------------|----------:|----------:|----------:|----------:|----------:|----------:|----------:|----------:|\n",
      "|  0 | Expenses:Financial:Commissions |      0    |      0    |      0    |     44.75 |      0    |     44.75 |     53.7  |    143.2  |\n",
      "|  1 | Expenses:Financial:Fees        |     12    |     12    |     12    |     12    |     12    |     12    |     12    |     12    |\n",
      "|  2 | Expenses:Food:Alcohol          |      0    |      0    |      0    |      0    |     26.34 |      0    |      0    |      0    |\n",
      "|  3 | Expenses:Food:Coffee           |      0    |      0    |      0    |      0    |     31.72 |      0    |     34.75 |      0    |\n",
      "|  4 | Expenses:Food:Groceries        |    582.79 |    473.92 |    449.42 |    729.28 |    761.37 |    459.74 |    526.52 |    471.39 |\n"
     ]
    }
   ],
   "source": [
    "print(dfm.head().to_markdown())"
   ]
  },
  {
   "cell_type": "markdown",
   "metadata": {},
   "source": [
    "## Creating Multi-Level Accounts"
   ]
  },
  {
   "cell_type": "code",
   "execution_count": 19,
   "metadata": {},
   "outputs": [
    {
     "data": {
      "text/plain": [
       "6"
      ]
     },
     "execution_count": 19,
     "metadata": {},
     "output_type": "execute_result"
    }
   ],
   "source": [
    "n_levels = df[\"Account\"].str.count(\":\").max() + 1\n",
    "n_levels"
   ]
  },
  {
   "cell_type": "code",
   "execution_count": 20,
   "metadata": {},
   "outputs": [
    {
     "data": {
      "text/plain": [
       "['Account_L0',\n",
       " 'Account_L1',\n",
       " 'Account_L2',\n",
       " 'Account_L3',\n",
       " 'Account_L4',\n",
       " 'Account_L5']"
      ]
     },
     "execution_count": 20,
     "metadata": {},
     "output_type": "execute_result"
    }
   ],
   "source": [
    "cols = [\"Account_L{}\".format(k) for k in range(n_levels)]\n",
    "cols"
   ]
  },
  {
   "cell_type": "code",
   "execution_count": 21,
   "metadata": {},
   "outputs": [
    {
     "data": {
      "text/html": [
       "<div>\n",
       "<style scoped>\n",
       "    .dataframe tbody tr th:only-of-type {\n",
       "        vertical-align: middle;\n",
       "    }\n",
       "\n",
       "    .dataframe tbody tr th {\n",
       "        vertical-align: top;\n",
       "    }\n",
       "\n",
       "    .dataframe thead tr th {\n",
       "        text-align: left;\n",
       "    }\n",
       "\n",
       "    .dataframe thead tr:last-of-type th {\n",
       "        text-align: right;\n",
       "    }\n",
       "</style>\n",
       "<table border=\"1\" class=\"dataframe\">\n",
       "  <thead>\n",
       "    <tr>\n",
       "      <th></th>\n",
       "      <th></th>\n",
       "      <th></th>\n",
       "      <th></th>\n",
       "      <th></th>\n",
       "      <th></th>\n",
       "      <th colspan=\"8\" halign=\"left\">Amount (USD)</th>\n",
       "    </tr>\n",
       "    <tr>\n",
       "      <th></th>\n",
       "      <th></th>\n",
       "      <th></th>\n",
       "      <th></th>\n",
       "      <th></th>\n",
       "      <th>YearMonth</th>\n",
       "      <th>2019-Q1</th>\n",
       "      <th>2019-Q2</th>\n",
       "      <th>2019-Q3</th>\n",
       "      <th>2019-Q4</th>\n",
       "      <th>2020-Q1</th>\n",
       "      <th>2020-Q2</th>\n",
       "      <th>2020-Q3</th>\n",
       "      <th>2020-Q4</th>\n",
       "    </tr>\n",
       "    <tr>\n",
       "      <th>Account_L0</th>\n",
       "      <th>Account_L1</th>\n",
       "      <th>Account_L2</th>\n",
       "      <th>Account_L3</th>\n",
       "      <th>Account_L4</th>\n",
       "      <th>Account_L5</th>\n",
       "      <th></th>\n",
       "      <th></th>\n",
       "      <th></th>\n",
       "      <th></th>\n",
       "      <th></th>\n",
       "      <th></th>\n",
       "      <th></th>\n",
       "      <th></th>\n",
       "    </tr>\n",
       "  </thead>\n",
       "  <tbody>\n",
       "    <tr>\n",
       "      <th rowspan=\"5\" valign=\"top\">Expenses</th>\n",
       "      <th rowspan=\"2\" valign=\"top\">Financial</th>\n",
       "      <th>Commissions</th>\n",
       "      <th></th>\n",
       "      <th></th>\n",
       "      <th></th>\n",
       "      <td>0.00</td>\n",
       "      <td>0.00</td>\n",
       "      <td>0.00</td>\n",
       "      <td>44.75</td>\n",
       "      <td>0.00</td>\n",
       "      <td>44.75</td>\n",
       "      <td>53.70</td>\n",
       "      <td>143.20</td>\n",
       "    </tr>\n",
       "    <tr>\n",
       "      <th>Fees</th>\n",
       "      <th></th>\n",
       "      <th></th>\n",
       "      <th></th>\n",
       "      <td>12.00</td>\n",
       "      <td>12.00</td>\n",
       "      <td>12.00</td>\n",
       "      <td>12.00</td>\n",
       "      <td>12.00</td>\n",
       "      <td>12.00</td>\n",
       "      <td>12.00</td>\n",
       "      <td>12.00</td>\n",
       "    </tr>\n",
       "    <tr>\n",
       "      <th rowspan=\"3\" valign=\"top\">Food</th>\n",
       "      <th>Alcohol</th>\n",
       "      <th></th>\n",
       "      <th></th>\n",
       "      <th></th>\n",
       "      <td>0.00</td>\n",
       "      <td>0.00</td>\n",
       "      <td>0.00</td>\n",
       "      <td>0.00</td>\n",
       "      <td>26.34</td>\n",
       "      <td>0.00</td>\n",
       "      <td>0.00</td>\n",
       "      <td>0.00</td>\n",
       "    </tr>\n",
       "    <tr>\n",
       "      <th>Coffee</th>\n",
       "      <th></th>\n",
       "      <th></th>\n",
       "      <th></th>\n",
       "      <td>0.00</td>\n",
       "      <td>0.00</td>\n",
       "      <td>0.00</td>\n",
       "      <td>0.00</td>\n",
       "      <td>31.72</td>\n",
       "      <td>0.00</td>\n",
       "      <td>34.75</td>\n",
       "      <td>0.00</td>\n",
       "    </tr>\n",
       "    <tr>\n",
       "      <th>Groceries</th>\n",
       "      <th></th>\n",
       "      <th></th>\n",
       "      <th></th>\n",
       "      <td>582.79</td>\n",
       "      <td>473.92</td>\n",
       "      <td>449.42</td>\n",
       "      <td>729.28</td>\n",
       "      <td>761.37</td>\n",
       "      <td>459.74</td>\n",
       "      <td>526.52</td>\n",
       "      <td>471.39</td>\n",
       "    </tr>\n",
       "  </tbody>\n",
       "</table>\n",
       "</div>"
      ],
      "text/plain": [
       "                                                                   Amount (USD)                                                        \n",
       "YearMonth                                                               2019-Q1 2019-Q2 2019-Q3 2019-Q4 2020-Q1 2020-Q2 2020-Q3 2020-Q4\n",
       "Account_L0 Account_L1 Account_L2  Account_L3 Account_L4 Account_L5                                                                     \n",
       "Expenses   Financial  Commissions                                          0.00    0.00    0.00   44.75    0.00   44.75   53.70  143.20\n",
       "                      Fees                                                12.00   12.00   12.00   12.00   12.00   12.00   12.00   12.00\n",
       "           Food       Alcohol                                              0.00    0.00    0.00    0.00   26.34    0.00    0.00    0.00\n",
       "                      Coffee                                               0.00    0.00    0.00    0.00   31.72    0.00   34.75    0.00\n",
       "                      Groceries                                          582.79  473.92  449.42  729.28  761.37  459.74  526.52  471.39"
      ]
     },
     "execution_count": 21,
     "metadata": {},
     "output_type": "execute_result"
    }
   ],
   "source": [
    "df[cols] = df[\"Account\"].str.split(':', n_levels - 1, expand=True)\n",
    "df = df.fillna('').drop(columns=\"Account\", level=0).set_index(cols)\n",
    "df.head()"
   ]
  },
  {
   "cell_type": "code",
   "execution_count": 22,
   "metadata": {},
   "outputs": [
    {
     "data": {
      "text/html": [
       "<div>\n",
       "<style scoped>\n",
       "    .dataframe tbody tr th:only-of-type {\n",
       "        vertical-align: middle;\n",
       "    }\n",
       "\n",
       "    .dataframe tbody tr th {\n",
       "        vertical-align: top;\n",
       "    }\n",
       "\n",
       "    .dataframe thead th {\n",
       "        text-align: right;\n",
       "    }\n",
       "</style>\n",
       "<table border=\"1\" class=\"dataframe\">\n",
       "  <thead>\n",
       "    <tr style=\"text-align: right;\">\n",
       "      <th></th>\n",
       "      <th></th>\n",
       "      <th></th>\n",
       "      <th></th>\n",
       "      <th></th>\n",
       "      <th>YearMonth</th>\n",
       "      <th>2019-Q1</th>\n",
       "      <th>2019-Q2</th>\n",
       "      <th>2019-Q3</th>\n",
       "      <th>2019-Q4</th>\n",
       "      <th>2020-Q1</th>\n",
       "      <th>2020-Q2</th>\n",
       "      <th>2020-Q3</th>\n",
       "      <th>2020-Q4</th>\n",
       "    </tr>\n",
       "    <tr>\n",
       "      <th>Account_L0</th>\n",
       "      <th>Account_L1</th>\n",
       "      <th>Account_L2</th>\n",
       "      <th>Account_L3</th>\n",
       "      <th>Account_L4</th>\n",
       "      <th>Account_L5</th>\n",
       "      <th></th>\n",
       "      <th></th>\n",
       "      <th></th>\n",
       "      <th></th>\n",
       "      <th></th>\n",
       "      <th></th>\n",
       "      <th></th>\n",
       "      <th></th>\n",
       "    </tr>\n",
       "  </thead>\n",
       "  <tbody>\n",
       "    <tr>\n",
       "      <th rowspan=\"5\" valign=\"top\">Expenses</th>\n",
       "      <th rowspan=\"2\" valign=\"top\">Financial</th>\n",
       "      <th>Commissions</th>\n",
       "      <th></th>\n",
       "      <th></th>\n",
       "      <th></th>\n",
       "      <td>0.00</td>\n",
       "      <td>0.00</td>\n",
       "      <td>0.00</td>\n",
       "      <td>44.75</td>\n",
       "      <td>0.00</td>\n",
       "      <td>44.75</td>\n",
       "      <td>53.70</td>\n",
       "      <td>143.20</td>\n",
       "    </tr>\n",
       "    <tr>\n",
       "      <th>Fees</th>\n",
       "      <th></th>\n",
       "      <th></th>\n",
       "      <th></th>\n",
       "      <td>12.00</td>\n",
       "      <td>12.00</td>\n",
       "      <td>12.00</td>\n",
       "      <td>12.00</td>\n",
       "      <td>12.00</td>\n",
       "      <td>12.00</td>\n",
       "      <td>12.00</td>\n",
       "      <td>12.00</td>\n",
       "    </tr>\n",
       "    <tr>\n",
       "      <th rowspan=\"3\" valign=\"top\">Food</th>\n",
       "      <th>Alcohol</th>\n",
       "      <th></th>\n",
       "      <th></th>\n",
       "      <th></th>\n",
       "      <td>0.00</td>\n",
       "      <td>0.00</td>\n",
       "      <td>0.00</td>\n",
       "      <td>0.00</td>\n",
       "      <td>26.34</td>\n",
       "      <td>0.00</td>\n",
       "      <td>0.00</td>\n",
       "      <td>0.00</td>\n",
       "    </tr>\n",
       "    <tr>\n",
       "      <th>Coffee</th>\n",
       "      <th></th>\n",
       "      <th></th>\n",
       "      <th></th>\n",
       "      <td>0.00</td>\n",
       "      <td>0.00</td>\n",
       "      <td>0.00</td>\n",
       "      <td>0.00</td>\n",
       "      <td>31.72</td>\n",
       "      <td>0.00</td>\n",
       "      <td>34.75</td>\n",
       "      <td>0.00</td>\n",
       "    </tr>\n",
       "    <tr>\n",
       "      <th>Groceries</th>\n",
       "      <th></th>\n",
       "      <th></th>\n",
       "      <th></th>\n",
       "      <td>582.79</td>\n",
       "      <td>473.92</td>\n",
       "      <td>449.42</td>\n",
       "      <td>729.28</td>\n",
       "      <td>761.37</td>\n",
       "      <td>459.74</td>\n",
       "      <td>526.52</td>\n",
       "      <td>471.39</td>\n",
       "    </tr>\n",
       "  </tbody>\n",
       "</table>\n",
       "</div>"
      ],
      "text/plain": [
       "YearMonth                                                           2019-Q1  2019-Q2  2019-Q3  2019-Q4  2020-Q1  2020-Q2  2020-Q3  2020-Q4\n",
       "Account_L0 Account_L1 Account_L2  Account_L3 Account_L4 Account_L5                                                                        \n",
       "Expenses   Financial  Commissions                                      0.00     0.00     0.00    44.75     0.00    44.75    53.70   143.20\n",
       "                      Fees                                            12.00    12.00    12.00    12.00    12.00    12.00    12.00    12.00\n",
       "           Food       Alcohol                                          0.00     0.00     0.00     0.00    26.34     0.00     0.00     0.00\n",
       "                      Coffee                                           0.00     0.00     0.00     0.00    31.72     0.00    34.75     0.00\n",
       "                      Groceries                                      582.79   473.92   449.42   729.28   761.37   459.74   526.52   471.39"
      ]
     },
     "execution_count": 22,
     "metadata": {},
     "output_type": "execute_result"
    }
   ],
   "source": [
    "dfm = df.copy()\n",
    "dfm.columns = dfm.columns.droplevel(level=0)\n",
    "dfm.head()"
   ]
  },
  {
   "cell_type": "code",
   "execution_count": 23,
   "metadata": {},
   "outputs": [
    {
     "name": "stdout",
     "output_type": "stream",
     "text": [
      "|    | Account_L0   | Account_L1   | Account_L2   | Account_L3   | Account_L4   | Account_L5   |   2019-Q1 |   2019-Q2 |   2019-Q3 |   2019-Q4 |   2020-Q1 |   2020-Q2 |   2020-Q3 |   2020-Q4 |\n",
      "|---:|:-------------|:-------------|:-------------|:-------------|:-------------|:-------------|----------:|----------:|----------:|----------:|----------:|----------:|----------:|----------:|\n",
      "|  0 | Expenses     | Financial    | Commissions  |              |              |              |      0    |      0    |      0    |     44.75 |      0    |     44.75 |     53.7  |    143.2  |\n",
      "|  1 | Expenses     | Financial    | Fees         |              |              |              |     12    |     12    |     12    |     12    |     12    |     12    |     12    |     12    |\n",
      "|  2 | Expenses     | Food         | Alcohol      |              |              |              |      0    |      0    |      0    |      0    |     26.34 |      0    |      0    |      0    |\n",
      "|  3 | Expenses     | Food         | Coffee       |              |              |              |      0    |      0    |      0    |      0    |     31.72 |      0    |     34.75 |      0    |\n",
      "|  4 | Expenses     | Food         | Groceries    |              |              |              |    582.79 |    473.92 |    449.42 |    729.28 |    761.37 |    459.74 |    526.52 |    471.39 |\n"
     ]
    }
   ],
   "source": [
    "print(dfm.reset_index().head().to_markdown())"
   ]
  },
  {
   "cell_type": "markdown",
   "metadata": {},
   "source": [
    "## Aggregation at Different Account Levels"
   ]
  },
  {
   "cell_type": "code",
   "execution_count": 24,
   "metadata": {},
   "outputs": [
    {
     "data": {
      "text/html": [
       "<style  type=\"text/css\" >\n",
       "    #T_e5cab1ae_4dcd_11eb_81d3_74dfbff0a97c tr:hover {\n",
       "          background-color: yellow;\n",
       "    }</style><table id=\"T_e5cab1ae_4dcd_11eb_81d3_74dfbff0a97c\" ><thead>    <tr>        <th class=\"blank\" ></th>        <th class=\"blank level0\" ></th>        <th class=\"col_heading level0 col0\" colspan=8>Amount (USD)</th>    </tr>    <tr>        <th class=\"blank\" ></th>        <th class=\"index_name level1\" >YearMonth</th>        <th class=\"col_heading level1 col0\" >2019-Q1</th>        <th class=\"col_heading level1 col1\" >2019-Q2</th>        <th class=\"col_heading level1 col2\" >2019-Q3</th>        <th class=\"col_heading level1 col3\" >2019-Q4</th>        <th class=\"col_heading level1 col4\" >2020-Q1</th>        <th class=\"col_heading level1 col5\" >2020-Q2</th>        <th class=\"col_heading level1 col6\" >2020-Q3</th>        <th class=\"col_heading level1 col7\" >2020-Q4</th>    </tr>    <tr>        <th class=\"index_name level0\" >Account_L0</th>        <th class=\"index_name level1\" >Account_L1</th>        <th class=\"blank\" ></th>        <th class=\"blank\" ></th>        <th class=\"blank\" ></th>        <th class=\"blank\" ></th>        <th class=\"blank\" ></th>        <th class=\"blank\" ></th>        <th class=\"blank\" ></th>        <th class=\"blank\" ></th>    </tr></thead><tbody>\n",
       "                <tr>\n",
       "                        <th id=\"T_e5cab1ae_4dcd_11eb_81d3_74dfbff0a97clevel0_row0\" class=\"row_heading level0 row0\" rowspan=7>Expenses</th>\n",
       "                        <th id=\"T_e5cab1ae_4dcd_11eb_81d3_74dfbff0a97clevel1_row0\" class=\"row_heading level1 row0\" >Financial</th>\n",
       "                        <td id=\"T_e5cab1ae_4dcd_11eb_81d3_74dfbff0a97crow0_col0\" class=\"data row0 col0\" >12.00</td>\n",
       "                        <td id=\"T_e5cab1ae_4dcd_11eb_81d3_74dfbff0a97crow0_col1\" class=\"data row0 col1\" >12.00</td>\n",
       "                        <td id=\"T_e5cab1ae_4dcd_11eb_81d3_74dfbff0a97crow0_col2\" class=\"data row0 col2\" >12.00</td>\n",
       "                        <td id=\"T_e5cab1ae_4dcd_11eb_81d3_74dfbff0a97crow0_col3\" class=\"data row0 col3\" >56.75</td>\n",
       "                        <td id=\"T_e5cab1ae_4dcd_11eb_81d3_74dfbff0a97crow0_col4\" class=\"data row0 col4\" >12.00</td>\n",
       "                        <td id=\"T_e5cab1ae_4dcd_11eb_81d3_74dfbff0a97crow0_col5\" class=\"data row0 col5\" >56.75</td>\n",
       "                        <td id=\"T_e5cab1ae_4dcd_11eb_81d3_74dfbff0a97crow0_col6\" class=\"data row0 col6\" >65.70</td>\n",
       "                        <td id=\"T_e5cab1ae_4dcd_11eb_81d3_74dfbff0a97crow0_col7\" class=\"data row0 col7\" >155.20</td>\n",
       "            </tr>\n",
       "            <tr>\n",
       "                                <th id=\"T_e5cab1ae_4dcd_11eb_81d3_74dfbff0a97clevel1_row1\" class=\"row_heading level1 row1\" >Food</th>\n",
       "                        <td id=\"T_e5cab1ae_4dcd_11eb_81d3_74dfbff0a97crow1_col0\" class=\"data row1 col0\" >1363.37</td>\n",
       "                        <td id=\"T_e5cab1ae_4dcd_11eb_81d3_74dfbff0a97crow1_col1\" class=\"data row1 col1\" >1474.85</td>\n",
       "                        <td id=\"T_e5cab1ae_4dcd_11eb_81d3_74dfbff0a97crow1_col2\" class=\"data row1 col2\" >1511.20</td>\n",
       "                        <td id=\"T_e5cab1ae_4dcd_11eb_81d3_74dfbff0a97crow1_col3\" class=\"data row1 col3\" >1658.43</td>\n",
       "                        <td id=\"T_e5cab1ae_4dcd_11eb_81d3_74dfbff0a97crow1_col4\" class=\"data row1 col4\" >1994.22</td>\n",
       "                        <td id=\"T_e5cab1ae_4dcd_11eb_81d3_74dfbff0a97crow1_col5\" class=\"data row1 col5\" >1539.86</td>\n",
       "                        <td id=\"T_e5cab1ae_4dcd_11eb_81d3_74dfbff0a97crow1_col6\" class=\"data row1 col6\" >2041.25</td>\n",
       "                        <td id=\"T_e5cab1ae_4dcd_11eb_81d3_74dfbff0a97crow1_col7\" class=\"data row1 col7\" >1441.73</td>\n",
       "            </tr>\n",
       "            <tr>\n",
       "                                <th id=\"T_e5cab1ae_4dcd_11eb_81d3_74dfbff0a97clevel1_row2\" class=\"row_heading level1 row2\" >Health</th>\n",
       "                        <td id=\"T_e5cab1ae_4dcd_11eb_81d3_74dfbff0a97crow2_col0\" class=\"data row2 col0\" >678.30</td>\n",
       "                        <td id=\"T_e5cab1ae_4dcd_11eb_81d3_74dfbff0a97crow2_col1\" class=\"data row2 col1\" >581.40</td>\n",
       "                        <td id=\"T_e5cab1ae_4dcd_11eb_81d3_74dfbff0a97crow2_col2\" class=\"data row2 col2\" >678.30</td>\n",
       "                        <td id=\"T_e5cab1ae_4dcd_11eb_81d3_74dfbff0a97crow2_col3\" class=\"data row2 col3\" >581.40</td>\n",
       "                        <td id=\"T_e5cab1ae_4dcd_11eb_81d3_74dfbff0a97crow2_col4\" class=\"data row2 col4\" >678.30</td>\n",
       "                        <td id=\"T_e5cab1ae_4dcd_11eb_81d3_74dfbff0a97crow2_col5\" class=\"data row2 col5\" >581.40</td>\n",
       "                        <td id=\"T_e5cab1ae_4dcd_11eb_81d3_74dfbff0a97crow2_col6\" class=\"data row2 col6\" >678.30</td>\n",
       "                        <td id=\"T_e5cab1ae_4dcd_11eb_81d3_74dfbff0a97crow2_col7\" class=\"data row2 col7\" >678.30</td>\n",
       "            </tr>\n",
       "            <tr>\n",
       "                                <th id=\"T_e5cab1ae_4dcd_11eb_81d3_74dfbff0a97clevel1_row3\" class=\"row_heading level1 row3\" >Home</th>\n",
       "                        <td id=\"T_e5cab1ae_4dcd_11eb_81d3_74dfbff0a97crow3_col0\" class=\"data row3 col0\" >7808.39</td>\n",
       "                        <td id=\"T_e5cab1ae_4dcd_11eb_81d3_74dfbff0a97crow3_col1\" class=\"data row3 col1\" >7855.83</td>\n",
       "                        <td id=\"T_e5cab1ae_4dcd_11eb_81d3_74dfbff0a97crow3_col2\" class=\"data row3 col2\" >7787.99</td>\n",
       "                        <td id=\"T_e5cab1ae_4dcd_11eb_81d3_74dfbff0a97crow3_col3\" class=\"data row3 col3\" >7822.96</td>\n",
       "                        <td id=\"T_e5cab1ae_4dcd_11eb_81d3_74dfbff0a97crow3_col4\" class=\"data row3 col4\" >7832.48</td>\n",
       "                        <td id=\"T_e5cab1ae_4dcd_11eb_81d3_74dfbff0a97crow3_col5\" class=\"data row3 col5\" >7818.26</td>\n",
       "                        <td id=\"T_e5cab1ae_4dcd_11eb_81d3_74dfbff0a97crow3_col6\" class=\"data row3 col6\" >7854.17</td>\n",
       "                        <td id=\"T_e5cab1ae_4dcd_11eb_81d3_74dfbff0a97crow3_col7\" class=\"data row3 col7\" >7816.34</td>\n",
       "            </tr>\n",
       "            <tr>\n",
       "                                <th id=\"T_e5cab1ae_4dcd_11eb_81d3_74dfbff0a97clevel1_row4\" class=\"row_heading level1 row4\" >Taxes</th>\n",
       "                        <td id=\"T_e5cab1ae_4dcd_11eb_81d3_74dfbff0a97crow4_col0\" class=\"data row4 col0\" >13945.40</td>\n",
       "                        <td id=\"T_e5cab1ae_4dcd_11eb_81d3_74dfbff0a97crow4_col1\" class=\"data row4 col1\" >11953.20</td>\n",
       "                        <td id=\"T_e5cab1ae_4dcd_11eb_81d3_74dfbff0a97crow4_col2\" class=\"data row4 col2\" >13945.40</td>\n",
       "                        <td id=\"T_e5cab1ae_4dcd_11eb_81d3_74dfbff0a97crow4_col3\" class=\"data row4 col3\" >11633.20</td>\n",
       "                        <td id=\"T_e5cab1ae_4dcd_11eb_81d3_74dfbff0a97crow4_col4\" class=\"data row4 col4\" >14593.39</td>\n",
       "                        <td id=\"T_e5cab1ae_4dcd_11eb_81d3_74dfbff0a97crow4_col5\" class=\"data row4 col5\" >11953.20</td>\n",
       "                        <td id=\"T_e5cab1ae_4dcd_11eb_81d3_74dfbff0a97crow4_col6\" class=\"data row4 col6\" >13945.40</td>\n",
       "                        <td id=\"T_e5cab1ae_4dcd_11eb_81d3_74dfbff0a97crow4_col7\" class=\"data row4 col7\" >13343.86</td>\n",
       "            </tr>\n",
       "            <tr>\n",
       "                                <th id=\"T_e5cab1ae_4dcd_11eb_81d3_74dfbff0a97clevel1_row5\" class=\"row_heading level1 row5\" >Transport</th>\n",
       "                        <td id=\"T_e5cab1ae_4dcd_11eb_81d3_74dfbff0a97crow5_col0\" class=\"data row5 col0\" >240.00</td>\n",
       "                        <td id=\"T_e5cab1ae_4dcd_11eb_81d3_74dfbff0a97crow5_col1\" class=\"data row5 col1\" >360.00</td>\n",
       "                        <td id=\"T_e5cab1ae_4dcd_11eb_81d3_74dfbff0a97crow5_col2\" class=\"data row5 col2\" >360.00</td>\n",
       "                        <td id=\"T_e5cab1ae_4dcd_11eb_81d3_74dfbff0a97crow5_col3\" class=\"data row5 col3\" >480.00</td>\n",
       "                        <td id=\"T_e5cab1ae_4dcd_11eb_81d3_74dfbff0a97crow5_col4\" class=\"data row5 col4\" >360.00</td>\n",
       "                        <td id=\"T_e5cab1ae_4dcd_11eb_81d3_74dfbff0a97crow5_col5\" class=\"data row5 col5\" >360.00</td>\n",
       "                        <td id=\"T_e5cab1ae_4dcd_11eb_81d3_74dfbff0a97crow5_col6\" class=\"data row5 col6\" >360.00</td>\n",
       "                        <td id=\"T_e5cab1ae_4dcd_11eb_81d3_74dfbff0a97crow5_col7\" class=\"data row5 col7\" >360.00</td>\n",
       "            </tr>\n",
       "            <tr>\n",
       "                                <th id=\"T_e5cab1ae_4dcd_11eb_81d3_74dfbff0a97clevel1_row6\" class=\"row_heading level1 row6\" >Vacation</th>\n",
       "                        <td id=\"T_e5cab1ae_4dcd_11eb_81d3_74dfbff0a97crow6_col0\" class=\"data row6 col0\" >0.00</td>\n",
       "                        <td id=\"T_e5cab1ae_4dcd_11eb_81d3_74dfbff0a97crow6_col1\" class=\"data row6 col1\" >0.00</td>\n",
       "                        <td id=\"T_e5cab1ae_4dcd_11eb_81d3_74dfbff0a97crow6_col2\" class=\"data row6 col2\" >0.00</td>\n",
       "                        <td id=\"T_e5cab1ae_4dcd_11eb_81d3_74dfbff0a97crow6_col3\" class=\"data row6 col3\" >0.00</td>\n",
       "                        <td id=\"T_e5cab1ae_4dcd_11eb_81d3_74dfbff0a97crow6_col4\" class=\"data row6 col4\" >0.00</td>\n",
       "                        <td id=\"T_e5cab1ae_4dcd_11eb_81d3_74dfbff0a97crow6_col5\" class=\"data row6 col5\" >0.00</td>\n",
       "                        <td id=\"T_e5cab1ae_4dcd_11eb_81d3_74dfbff0a97crow6_col6\" class=\"data row6 col6\" >0.00</td>\n",
       "                        <td id=\"T_e5cab1ae_4dcd_11eb_81d3_74dfbff0a97crow6_col7\" class=\"data row6 col7\" >0.00</td>\n",
       "            </tr>\n",
       "            <tr>\n",
       "                        <th id=\"T_e5cab1ae_4dcd_11eb_81d3_74dfbff0a97clevel0_row7\" class=\"row_heading level0 row7\" >Income</th>\n",
       "                        <th id=\"T_e5cab1ae_4dcd_11eb_81d3_74dfbff0a97clevel1_row7\" class=\"row_heading level1 row7\" >US</th>\n",
       "                        <td id=\"T_e5cab1ae_4dcd_11eb_81d3_74dfbff0a97crow7_col0\" class=\"data row7 col0\" >-36677.90</td>\n",
       "                        <td id=\"T_e5cab1ae_4dcd_11eb_81d3_74dfbff0a97crow7_col1\" class=\"data row7 col1\" >-31438.20</td>\n",
       "                        <td id=\"T_e5cab1ae_4dcd_11eb_81d3_74dfbff0a97crow7_col2\" class=\"data row7 col2\" >-33927.90</td>\n",
       "                        <td id=\"T_e5cab1ae_4dcd_11eb_81d3_74dfbff0a97crow7_col3\" class=\"data row7 col3\" >-27869.27</td>\n",
       "                        <td id=\"T_e5cab1ae_4dcd_11eb_81d3_74dfbff0a97crow7_col4\" class=\"data row7 col4\" >-36708.97</td>\n",
       "                        <td id=\"T_e5cab1ae_4dcd_11eb_81d3_74dfbff0a97crow7_col5\" class=\"data row7 col5\" >-31141.12</td>\n",
       "                        <td id=\"T_e5cab1ae_4dcd_11eb_81d3_74dfbff0a97crow7_col6\" class=\"data row7 col6\" >-34566.94</td>\n",
       "                        <td id=\"T_e5cab1ae_4dcd_11eb_81d3_74dfbff0a97crow7_col7\" class=\"data row7 col7\" >-32656.45</td>\n",
       "            </tr>\n",
       "    </tbody></table>"
      ],
      "text/plain": [
       "<pandas.io.formats.style.Styler at 0x7f7f51a81b50>"
      ]
     },
     "execution_count": 24,
     "metadata": {},
     "output_type": "execute_result"
    }
   ],
   "source": [
    "df_L1 = df.groupby([\"Account_L0\", \"Account_L1\"]).sum()\n",
    "df_L1.style.set_table_styles(\n",
    "[{'selector': 'tr:hover',\n",
    "  'props': [('background-color', 'yellow')]}]\n",
    ")"
   ]
  },
  {
   "cell_type": "code",
   "execution_count": 25,
   "metadata": {},
   "outputs": [
    {
     "data": {
      "text/html": [
       "<div>\n",
       "<style scoped>\n",
       "    .dataframe tbody tr th:only-of-type {\n",
       "        vertical-align: middle;\n",
       "    }\n",
       "\n",
       "    .dataframe tbody tr th {\n",
       "        vertical-align: top;\n",
       "    }\n",
       "\n",
       "    .dataframe thead th {\n",
       "        text-align: right;\n",
       "    }\n",
       "</style>\n",
       "<table border=\"1\" class=\"dataframe\">\n",
       "  <thead>\n",
       "    <tr style=\"text-align: right;\">\n",
       "      <th></th>\n",
       "      <th>YearMonth</th>\n",
       "      <th>2019-Q1</th>\n",
       "      <th>2019-Q2</th>\n",
       "      <th>2019-Q3</th>\n",
       "      <th>2019-Q4</th>\n",
       "      <th>2020-Q1</th>\n",
       "      <th>2020-Q2</th>\n",
       "      <th>2020-Q3</th>\n",
       "      <th>2020-Q4</th>\n",
       "    </tr>\n",
       "    <tr>\n",
       "      <th>Account_L0</th>\n",
       "      <th>Account_L1</th>\n",
       "      <th></th>\n",
       "      <th></th>\n",
       "      <th></th>\n",
       "      <th></th>\n",
       "      <th></th>\n",
       "      <th></th>\n",
       "      <th></th>\n",
       "      <th></th>\n",
       "    </tr>\n",
       "  </thead>\n",
       "  <tbody>\n",
       "    <tr>\n",
       "      <th rowspan=\"5\" valign=\"top\">Expenses</th>\n",
       "      <th>Financial</th>\n",
       "      <td>12.00</td>\n",
       "      <td>12.00</td>\n",
       "      <td>12.00</td>\n",
       "      <td>56.75</td>\n",
       "      <td>12.00</td>\n",
       "      <td>56.75</td>\n",
       "      <td>65.70</td>\n",
       "      <td>155.20</td>\n",
       "    </tr>\n",
       "    <tr>\n",
       "      <th>Food</th>\n",
       "      <td>1363.37</td>\n",
       "      <td>1474.85</td>\n",
       "      <td>1511.20</td>\n",
       "      <td>1658.43</td>\n",
       "      <td>1994.22</td>\n",
       "      <td>1539.86</td>\n",
       "      <td>2041.25</td>\n",
       "      <td>1441.73</td>\n",
       "    </tr>\n",
       "    <tr>\n",
       "      <th>Health</th>\n",
       "      <td>678.30</td>\n",
       "      <td>581.40</td>\n",
       "      <td>678.30</td>\n",
       "      <td>581.40</td>\n",
       "      <td>678.30</td>\n",
       "      <td>581.40</td>\n",
       "      <td>678.30</td>\n",
       "      <td>678.30</td>\n",
       "    </tr>\n",
       "    <tr>\n",
       "      <th>Home</th>\n",
       "      <td>7808.39</td>\n",
       "      <td>7855.83</td>\n",
       "      <td>7787.99</td>\n",
       "      <td>7822.96</td>\n",
       "      <td>7832.48</td>\n",
       "      <td>7818.26</td>\n",
       "      <td>7854.17</td>\n",
       "      <td>7816.34</td>\n",
       "    </tr>\n",
       "    <tr>\n",
       "      <th>Taxes</th>\n",
       "      <td>13945.40</td>\n",
       "      <td>11953.20</td>\n",
       "      <td>13945.40</td>\n",
       "      <td>11633.20</td>\n",
       "      <td>14593.39</td>\n",
       "      <td>11953.20</td>\n",
       "      <td>13945.40</td>\n",
       "      <td>13343.86</td>\n",
       "    </tr>\n",
       "  </tbody>\n",
       "</table>\n",
       "</div>"
      ],
      "text/plain": [
       "YearMonth               2019-Q1   2019-Q2   2019-Q3   2019-Q4   2020-Q1   2020-Q2   2020-Q3   2020-Q4\n",
       "Account_L0 Account_L1                                                                                \n",
       "Expenses   Financial      12.00     12.00     12.00     56.75     12.00     56.75     65.70    155.20\n",
       "           Food         1363.37   1474.85   1511.20   1658.43   1994.22   1539.86   2041.25   1441.73\n",
       "           Health        678.30    581.40    678.30    581.40    678.30    581.40    678.30    678.30\n",
       "           Home         7808.39   7855.83   7787.99   7822.96   7832.48   7818.26   7854.17   7816.34\n",
       "           Taxes       13945.40  11953.20  13945.40  11633.20  14593.39  11953.20  13945.40  13343.86"
      ]
     },
     "execution_count": 25,
     "metadata": {},
     "output_type": "execute_result"
    }
   ],
   "source": [
    "dfm = df_L1.copy()\n",
    "dfm.columns = dfm.columns.droplevel(level=0)\n",
    "dfm.head()"
   ]
  },
  {
   "cell_type": "code",
   "execution_count": 26,
   "metadata": {},
   "outputs": [
    {
     "name": "stdout",
     "output_type": "stream",
     "text": [
      "|    | Account_L0   | Account_L1   |   2019-Q1 |   2019-Q2 |   2019-Q3 |   2019-Q4 |   2020-Q1 |   2020-Q2 |   2020-Q3 |   2020-Q4 |\n",
      "|---:|:-------------|:-------------|----------:|----------:|----------:|----------:|----------:|----------:|----------:|----------:|\n",
      "|  0 | Expenses     | Financial    |     12    |     12    |     12    |     56.75 |     12    |     56.75 |     65.7  |    155.2  |\n",
      "|  1 | Expenses     | Food         |   1363.37 |   1474.85 |   1511.2  |   1658.43 |   1994.22 |   1539.86 |   2041.25 |   1441.73 |\n",
      "|  2 | Expenses     | Health       |    678.3  |    581.4  |    678.3  |    581.4  |    678.3  |    581.4  |    678.3  |    678.3  |\n",
      "|  3 | Expenses     | Home         |   7808.39 |   7855.83 |   7787.99 |   7822.96 |   7832.48 |   7818.26 |   7854.17 |   7816.34 |\n",
      "|  4 | Expenses     | Taxes        |  13945.4  |  11953.2  |  13945.4  |  11633.2  |  14593.4  |  11953.2  |  13945.4  |  13343.9  |\n"
     ]
    }
   ],
   "source": [
    "print(dfm.reset_index().head().to_markdown())"
   ]
  },
  {
   "cell_type": "code",
   "execution_count": 27,
   "metadata": {},
   "outputs": [
    {
     "data": {
      "text/html": [
       "<style  type=\"text/css\" >\n",
       "    #T_e6339386_4dcd_11eb_81d3_74dfbff0a97c tr:hover {\n",
       "          background-color: yellow;\n",
       "    }</style><table id=\"T_e6339386_4dcd_11eb_81d3_74dfbff0a97c\" ><thead>    <tr>        <th class=\"blank level0\" ></th>        <th class=\"col_heading level0 col0\" colspan=8>Amount (USD)</th>    </tr>    <tr>        <th class=\"index_name level1\" >YearMonth</th>        <th class=\"col_heading level1 col0\" >2019-Q1</th>        <th class=\"col_heading level1 col1\" >2019-Q2</th>        <th class=\"col_heading level1 col2\" >2019-Q3</th>        <th class=\"col_heading level1 col3\" >2019-Q4</th>        <th class=\"col_heading level1 col4\" >2020-Q1</th>        <th class=\"col_heading level1 col5\" >2020-Q2</th>        <th class=\"col_heading level1 col6\" >2020-Q3</th>        <th class=\"col_heading level1 col7\" >2020-Q4</th>    </tr>    <tr>        <th class=\"index_name level0\" >Account_L0</th>        <th class=\"blank\" ></th>        <th class=\"blank\" ></th>        <th class=\"blank\" ></th>        <th class=\"blank\" ></th>        <th class=\"blank\" ></th>        <th class=\"blank\" ></th>        <th class=\"blank\" ></th>        <th class=\"blank\" ></th>    </tr></thead><tbody>\n",
       "                <tr>\n",
       "                        <th id=\"T_e6339386_4dcd_11eb_81d3_74dfbff0a97clevel0_row0\" class=\"row_heading level0 row0\" >Expenses</th>\n",
       "                        <td id=\"T_e6339386_4dcd_11eb_81d3_74dfbff0a97crow0_col0\" class=\"data row0 col0\" >24047.46</td>\n",
       "                        <td id=\"T_e6339386_4dcd_11eb_81d3_74dfbff0a97crow0_col1\" class=\"data row0 col1\" >22237.28</td>\n",
       "                        <td id=\"T_e6339386_4dcd_11eb_81d3_74dfbff0a97crow0_col2\" class=\"data row0 col2\" >24294.89</td>\n",
       "                        <td id=\"T_e6339386_4dcd_11eb_81d3_74dfbff0a97crow0_col3\" class=\"data row0 col3\" >22232.74</td>\n",
       "                        <td id=\"T_e6339386_4dcd_11eb_81d3_74dfbff0a97crow0_col4\" class=\"data row0 col4\" >25470.39</td>\n",
       "                        <td id=\"T_e6339386_4dcd_11eb_81d3_74dfbff0a97crow0_col5\" class=\"data row0 col5\" >22309.47</td>\n",
       "                        <td id=\"T_e6339386_4dcd_11eb_81d3_74dfbff0a97crow0_col6\" class=\"data row0 col6\" >24944.82</td>\n",
       "                        <td id=\"T_e6339386_4dcd_11eb_81d3_74dfbff0a97crow0_col7\" class=\"data row0 col7\" >23795.43</td>\n",
       "            </tr>\n",
       "            <tr>\n",
       "                        <th id=\"T_e6339386_4dcd_11eb_81d3_74dfbff0a97clevel0_row1\" class=\"row_heading level0 row1\" >Income</th>\n",
       "                        <td id=\"T_e6339386_4dcd_11eb_81d3_74dfbff0a97crow1_col0\" class=\"data row1 col0\" >-36677.90</td>\n",
       "                        <td id=\"T_e6339386_4dcd_11eb_81d3_74dfbff0a97crow1_col1\" class=\"data row1 col1\" >-31438.20</td>\n",
       "                        <td id=\"T_e6339386_4dcd_11eb_81d3_74dfbff0a97crow1_col2\" class=\"data row1 col2\" >-33927.90</td>\n",
       "                        <td id=\"T_e6339386_4dcd_11eb_81d3_74dfbff0a97crow1_col3\" class=\"data row1 col3\" >-27869.27</td>\n",
       "                        <td id=\"T_e6339386_4dcd_11eb_81d3_74dfbff0a97crow1_col4\" class=\"data row1 col4\" >-36708.97</td>\n",
       "                        <td id=\"T_e6339386_4dcd_11eb_81d3_74dfbff0a97crow1_col5\" class=\"data row1 col5\" >-31141.12</td>\n",
       "                        <td id=\"T_e6339386_4dcd_11eb_81d3_74dfbff0a97crow1_col6\" class=\"data row1 col6\" >-34566.94</td>\n",
       "                        <td id=\"T_e6339386_4dcd_11eb_81d3_74dfbff0a97crow1_col7\" class=\"data row1 col7\" >-32656.45</td>\n",
       "            </tr>\n",
       "    </tbody></table>"
      ],
      "text/plain": [
       "<pandas.io.formats.style.Styler at 0x7f7f53b715e0>"
      ]
     },
     "execution_count": 27,
     "metadata": {},
     "output_type": "execute_result"
    }
   ],
   "source": [
    "df_L0 = df.groupby([\"Account_L0\"]).sum()\n",
    "df_L0.style.set_table_styles(\n",
    "[{'selector': 'tr:hover',\n",
    "  'props': [('background-color', 'yellow')]}]\n",
    ")"
   ]
  },
  {
   "cell_type": "code",
   "execution_count": 28,
   "metadata": {},
   "outputs": [
    {
     "data": {
      "text/html": [
       "<div>\n",
       "<style scoped>\n",
       "    .dataframe tbody tr th:only-of-type {\n",
       "        vertical-align: middle;\n",
       "    }\n",
       "\n",
       "    .dataframe tbody tr th {\n",
       "        vertical-align: top;\n",
       "    }\n",
       "\n",
       "    .dataframe thead th {\n",
       "        text-align: right;\n",
       "    }\n",
       "</style>\n",
       "<table border=\"1\" class=\"dataframe\">\n",
       "  <thead>\n",
       "    <tr style=\"text-align: right;\">\n",
       "      <th>YearMonth</th>\n",
       "      <th>2019-Q1</th>\n",
       "      <th>2019-Q2</th>\n",
       "      <th>2019-Q3</th>\n",
       "      <th>2019-Q4</th>\n",
       "      <th>2020-Q1</th>\n",
       "      <th>2020-Q2</th>\n",
       "      <th>2020-Q3</th>\n",
       "      <th>2020-Q4</th>\n",
       "    </tr>\n",
       "    <tr>\n",
       "      <th>Account_L0</th>\n",
       "      <th></th>\n",
       "      <th></th>\n",
       "      <th></th>\n",
       "      <th></th>\n",
       "      <th></th>\n",
       "      <th></th>\n",
       "      <th></th>\n",
       "      <th></th>\n",
       "    </tr>\n",
       "  </thead>\n",
       "  <tbody>\n",
       "    <tr>\n",
       "      <th>Expenses</th>\n",
       "      <td>24047.46</td>\n",
       "      <td>22237.28</td>\n",
       "      <td>24294.89</td>\n",
       "      <td>22232.74</td>\n",
       "      <td>25470.39</td>\n",
       "      <td>22309.47</td>\n",
       "      <td>24944.82</td>\n",
       "      <td>23795.43</td>\n",
       "    </tr>\n",
       "    <tr>\n",
       "      <th>Income</th>\n",
       "      <td>-36677.90</td>\n",
       "      <td>-31438.20</td>\n",
       "      <td>-33927.90</td>\n",
       "      <td>-27869.27</td>\n",
       "      <td>-36708.97</td>\n",
       "      <td>-31141.12</td>\n",
       "      <td>-34566.94</td>\n",
       "      <td>-32656.45</td>\n",
       "    </tr>\n",
       "  </tbody>\n",
       "</table>\n",
       "</div>"
      ],
      "text/plain": [
       "YearMonth    2019-Q1   2019-Q2   2019-Q3   2019-Q4   2020-Q1   2020-Q2   2020-Q3   2020-Q4\n",
       "Account_L0                                                                                \n",
       "Expenses    24047.46  22237.28  24294.89  22232.74  25470.39  22309.47  24944.82  23795.43\n",
       "Income     -36677.90 -31438.20 -33927.90 -27869.27 -36708.97 -31141.12 -34566.94 -32656.45"
      ]
     },
     "execution_count": 28,
     "metadata": {},
     "output_type": "execute_result"
    }
   ],
   "source": [
    "dfm = df_L0.copy()\n",
    "dfm.columns = dfm.columns.droplevel(level=0)\n",
    "dfm.head()"
   ]
  },
  {
   "cell_type": "code",
   "execution_count": 29,
   "metadata": {},
   "outputs": [
    {
     "name": "stdout",
     "output_type": "stream",
     "text": [
      "|    | Account_L0   |   2019-Q1 |   2019-Q2 |   2019-Q3 |   2019-Q4 |   2020-Q1 |   2020-Q2 |   2020-Q3 |   2020-Q4 |\n",
      "|---:|:-------------|----------:|----------:|----------:|----------:|----------:|----------:|----------:|----------:|\n",
      "|  0 | Expenses     |   24047.5 |   22237.3 |   24294.9 |   22232.7 |   25470.4 |   22309.5 |   24944.8 |   23795.4 |\n",
      "|  1 | Income       |  -36677.9 |  -31438.2 |  -33927.9 |  -27869.3 |  -36709   |  -31141.1 |  -34566.9 |  -32656.5 |\n"
     ]
    }
   ],
   "source": [
    "print(dfm.reset_index().head().to_markdown())"
   ]
  },
  {
   "cell_type": "code",
   "execution_count": 30,
   "metadata": {},
   "outputs": [
    {
     "data": {
      "text/html": [
       "<div>\n",
       "<style scoped>\n",
       "    .dataframe tbody tr th:only-of-type {\n",
       "        vertical-align: middle;\n",
       "    }\n",
       "\n",
       "    .dataframe tbody tr th {\n",
       "        vertical-align: top;\n",
       "    }\n",
       "\n",
       "    .dataframe thead tr th {\n",
       "        text-align: left;\n",
       "    }\n",
       "</style>\n",
       "<table border=\"1\" class=\"dataframe\">\n",
       "  <thead>\n",
       "    <tr>\n",
       "      <th></th>\n",
       "      <th colspan=\"8\" halign=\"left\">Amount (USD)</th>\n",
       "    </tr>\n",
       "    <tr>\n",
       "      <th>YearMonth</th>\n",
       "      <th>2019-Q1</th>\n",
       "      <th>2019-Q2</th>\n",
       "      <th>2019-Q3</th>\n",
       "      <th>2019-Q4</th>\n",
       "      <th>2020-Q1</th>\n",
       "      <th>2020-Q2</th>\n",
       "      <th>2020-Q3</th>\n",
       "      <th>2020-Q4</th>\n",
       "    </tr>\n",
       "  </thead>\n",
       "  <tbody>\n",
       "    <tr>\n",
       "      <th>Net income</th>\n",
       "      <td>12630.44</td>\n",
       "      <td>9200.92</td>\n",
       "      <td>9633.01</td>\n",
       "      <td>5636.53</td>\n",
       "      <td>11238.58</td>\n",
       "      <td>8831.65</td>\n",
       "      <td>9622.12</td>\n",
       "      <td>8861.02</td>\n",
       "    </tr>\n",
       "  </tbody>\n",
       "</table>\n",
       "</div>"
      ],
      "text/plain": [
       "           Amount (USD)                                                                \n",
       "YearMonth       2019-Q1  2019-Q2  2019-Q3  2019-Q4   2020-Q1  2020-Q2  2020-Q3  2020-Q4\n",
       "Net income     12630.44  9200.92  9633.01  5636.53  11238.58  8831.65  9622.12  8861.02"
      ]
     },
     "execution_count": 30,
     "metadata": {},
     "output_type": "execute_result"
    }
   ],
   "source": [
    "# Net income\n",
    "-df_L0.sum(axis=0).to_frame().rename(columns={0: \"Net income\"}).transpose()"
   ]
  },
  {
   "cell_type": "code",
   "execution_count": 31,
   "metadata": {},
   "outputs": [
    {
     "data": {
      "text/html": [
       "<div>\n",
       "<style scoped>\n",
       "    .dataframe tbody tr th:only-of-type {\n",
       "        vertical-align: middle;\n",
       "    }\n",
       "\n",
       "    .dataframe tbody tr th {\n",
       "        vertical-align: top;\n",
       "    }\n",
       "\n",
       "    .dataframe thead th {\n",
       "        text-align: right;\n",
       "    }\n",
       "</style>\n",
       "<table border=\"1\" class=\"dataframe\">\n",
       "  <thead>\n",
       "    <tr style=\"text-align: right;\">\n",
       "      <th>Account_L0</th>\n",
       "      <th>level_0</th>\n",
       "      <th>YearMonth</th>\n",
       "      <th>Expenses</th>\n",
       "      <th>Income</th>\n",
       "    </tr>\n",
       "  </thead>\n",
       "  <tbody>\n",
       "    <tr>\n",
       "      <th>0</th>\n",
       "      <td>Amount (USD)</td>\n",
       "      <td>2019-Q1</td>\n",
       "      <td>24047.46</td>\n",
       "      <td>36677.90</td>\n",
       "    </tr>\n",
       "    <tr>\n",
       "      <th>1</th>\n",
       "      <td>Amount (USD)</td>\n",
       "      <td>2019-Q2</td>\n",
       "      <td>22237.28</td>\n",
       "      <td>31438.20</td>\n",
       "    </tr>\n",
       "    <tr>\n",
       "      <th>...</th>\n",
       "      <td>...</td>\n",
       "      <td>...</td>\n",
       "      <td>...</td>\n",
       "      <td>...</td>\n",
       "    </tr>\n",
       "    <tr>\n",
       "      <th>6</th>\n",
       "      <td>Amount (USD)</td>\n",
       "      <td>2020-Q3</td>\n",
       "      <td>24944.82</td>\n",
       "      <td>34566.94</td>\n",
       "    </tr>\n",
       "    <tr>\n",
       "      <th>7</th>\n",
       "      <td>Amount (USD)</td>\n",
       "      <td>2020-Q4</td>\n",
       "      <td>23795.43</td>\n",
       "      <td>32656.45</td>\n",
       "    </tr>\n",
       "  </tbody>\n",
       "</table>\n",
       "<p>8 rows × 4 columns</p>\n",
       "</div>"
      ],
      "text/plain": [
       "Account_L0       level_0 YearMonth  Expenses    Income\n",
       "0           Amount (USD)   2019-Q1  24047.46  36677.90\n",
       "1           Amount (USD)   2019-Q2  22237.28  31438.20\n",
       "..                   ...       ...       ...       ...\n",
       "6           Amount (USD)   2020-Q3  24944.82  34566.94\n",
       "7           Amount (USD)   2020-Q4  23795.43  32656.45\n",
       "\n",
       "[8 rows x 4 columns]"
      ]
     },
     "execution_count": 31,
     "metadata": {},
     "output_type": "execute_result"
    }
   ],
   "source": [
    "# Invert the sign of the \"Income\" account. Negative income is counter-intuitive.\n",
    "df_L0.loc[\"Income\"] = -df_L0.loc[\"Income\"]\n",
    "df_L0 = df_L0.transpose().reset_index()\n",
    "df_L0"
   ]
  },
  {
   "cell_type": "code",
   "execution_count": 32,
   "metadata": {},
   "outputs": [
    {
     "data": {
      "image/png": "[encoded data removed]",
      "text/plain": [
       "<Figure size 1080x360 with 1 Axes>"
      ]
     },
     "metadata": {
      "needs_background": "light"
     },
     "output_type": "display_data"
    }
   ],
   "source": [
    "df_L0.columns.name = \"Account\"\n",
    "df_L0.plot.bar(x=\"YearMonth\", y=[\"Income\", \"Expenses\"], xlabel=\"Quarter\", ylabel=df_L0[\"level_0\"][0], rot=90)\n",
    "plt.show()"
   ]
  },
  {
   "cell_type": "markdown",
   "metadata": {},
   "source": [
    "## Treemap Plot of Expenses"
   ]
  },
  {
   "cell_type": "code",
   "execution_count": 33,
   "metadata": {},
   "outputs": [
    {
     "data": {
      "text/html": [
       "<div>\n",
       "<style scoped>\n",
       "    .dataframe tbody tr th:only-of-type {\n",
       "        vertical-align: middle;\n",
       "    }\n",
       "\n",
       "    .dataframe tbody tr th {\n",
       "        vertical-align: top;\n",
       "    }\n",
       "\n",
       "    .dataframe thead th {\n",
       "        text-align: right;\n",
       "    }\n",
       "</style>\n",
       "<table border=\"1\" class=\"dataframe\">\n",
       "  <thead>\n",
       "    <tr style=\"text-align: right;\">\n",
       "      <th></th>\n",
       "      <th></th>\n",
       "      <th>0</th>\n",
       "    </tr>\n",
       "    <tr>\n",
       "      <th>Account_L0</th>\n",
       "      <th>Account_L1</th>\n",
       "      <th></th>\n",
       "    </tr>\n",
       "  </thead>\n",
       "  <tbody>\n",
       "    <tr>\n",
       "      <th rowspan=\"4\" valign=\"top\">Expenses</th>\n",
       "      <th>Taxes</th>\n",
       "      <td>105313.05</td>\n",
       "    </tr>\n",
       "    <tr>\n",
       "      <th>Home</th>\n",
       "      <td>62596.42</td>\n",
       "    </tr>\n",
       "    <tr>\n",
       "      <th>...</th>\n",
       "      <td>...</td>\n",
       "    </tr>\n",
       "    <tr>\n",
       "      <th>Vacation</th>\n",
       "      <td>0.00</td>\n",
       "    </tr>\n",
       "    <tr>\n",
       "      <th>Income</th>\n",
       "      <th>US</th>\n",
       "      <td>-264986.75</td>\n",
       "    </tr>\n",
       "  </tbody>\n",
       "</table>\n",
       "<p>8 rows × 1 columns</p>\n",
       "</div>"
      ],
      "text/plain": [
       "                               0\n",
       "Account_L0 Account_L1           \n",
       "Expenses   Taxes       105313.05\n",
       "           Home         62596.42\n",
       "...                          ...\n",
       "           Vacation         0.00\n",
       "Income     US         -264986.75\n",
       "\n",
       "[8 rows x 1 columns]"
      ]
     },
     "execution_count": 33,
     "metadata": {},
     "output_type": "execute_result"
    }
   ],
   "source": [
    "tot = df_L1.sum(axis=1).to_frame().sort_values(by=0, ascending=False)\n",
    "tot"
   ]
  },
  {
   "cell_type": "code",
   "execution_count": 34,
   "metadata": {},
   "outputs": [
    {
     "data": {
      "image/png": "[encoded data removed]",
      "text/plain": [
       "<Figure size 720x720 with 6 Axes>"
      ]
     },
     "metadata": {},
     "output_type": "display_data"
    }
   ],
   "source": [
    "data = tot.loc[\"Expenses\"].sort_values(by=0, ascending=False)\n",
    "idx = [k[0] != 0 for k in data.values]\n",
    "values = data.values[idx]\n",
    "labels = data.index[idx]\n",
    "\n",
    "width = 1\n",
    "height = 0.5\n",
    "values_norm = squarify.normalize_sizes(values, width, height)\n",
    "rects = squarify.squarify(values_norm, 0, 0, width, height)\n",
    "\n",
    "fig = plt.figure(figsize=(10, 10))\n",
    "fig.suptitle('Expenses', x=0.5, y=0.55, fontsize=16)\n",
    "axes = [fig.add_axes([rect['x'], rect['y'], rect['dx'], rect['dy'], ]) for rect in rects]\n",
    "\n",
    "for ax, txt, color in zip(axes, labels, plt.cm.Pastel1.colors):\n",
    "    ax.text(0.5, 0.5, txt, horizontalalignment='center', verticalalignment='center')\n",
    "    ax.set_yticks([])\n",
    "    ax.set_xticks([])\n",
    "    ax.set_facecolor(color)    \n",
    "plt.show()"
   ]
  }
 ],
 "metadata": {
  "kernelspec": {
   "display_name": "Python 3",
   "language": "python",
   "name": "python3"
  },
  "language_info": {
   "codemirror_mode": {
    "name": "ipython",
    "version": 3
   },
   "file_extension": ".py",
   "mimetype": "text/x-python",
   "name": "python",
   "nbconvert_exporter": "python",
   "pygments_lexer": "ipython3",
   "version": "3.9.1"
  }
 },
 "nbformat": 4,
 "nbformat_minor": 4
}
