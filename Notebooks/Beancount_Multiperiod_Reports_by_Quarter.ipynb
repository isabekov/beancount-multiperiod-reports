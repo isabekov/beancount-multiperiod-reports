{
 "cells": [
  {
   "cell_type": "markdown",
   "metadata": {},
   "source": [
    "# Multiperiod Reports by Quarter in Beancount\n",
    "If you've ever used [hledger](https://hledger.org/), you might like its ability to produce nice reports. One of the reports' feature is the table structure, where rows are accounts and columns are weeks, months, quarters or years. Looking at earnings and spendings as a function of time can give you more insights about your finances.\n",
    "\n",
    "However, if you are using [beancount](http://furius.ca/beancount/), this feature is not yet supported in the command line interface. You need to use [fava](https://github.com/beancount/fava), an awesome web-interface for beancount, which has a graph drawing capability as described in this tutorial. fava is not ideal and sometimes you might need more custom reports than the ones available in fava.\n",
    "\n",
    "This notebook provides methodology and tools to:\n",
    "- Process BQL query's output using Pandas library\n",
    "- Generate quarterly totals (multiperiod reports by quarter) by pivoting a table\n",
    "- Aggregate values at different account levels for the provided account hierarchy\n",
    "- Draw treemap plots of expenses for all time period\n",
    "\n",
    "Details are in [this blog post](https://www.isabekov.pro/multiperiod-hledger-style-reports-in-beancount-pivoting-a-table/)."
   ]
  },
  {
   "cell_type": "code",
   "execution_count": 1,
   "metadata": {},
   "outputs": [],
   "source": [
    "from beancount.loader import load_file\n",
    "from beancount.query.query import run_query\n",
    "from beancount.query.numberify import numberify_results\n",
    "import os\n",
    "import numpy as np\n",
    "import pandas as pd\n",
    "pd.set_option('display.max_column', 15)\n",
    "pd.set_option('display.max_rows', 20)\n",
    "pd.set_option('display.max_seq_items',None)\n",
    "pd.set_option('display.max_colwidth', 50000)\n",
    "pd.set_option('display.width', 5000000)\n",
    "pd.set_option('display.expand_frame_repr', True)\n",
    "pd.set_option('display.notebook_repr_html', True)\n",
    "pd.set_option('precision', 2)\n",
    "pd.set_option('expand_frame_repr', True)\n",
    "import squarify\n",
    "from matplotlib import pyplot as plt\n",
    "font = {'weight' : 'normal',\n",
    "        'size'   : 12}\n",
    "plt.rc('font', **font)\n",
    "plt.rcParams[\"figure.figsize\"] = (15, 5)"
   ]
  },
  {
   "cell_type": "markdown",
   "metadata": {},
   "source": [
    "## Create and Load an Example Beancount Journal File"
   ]
  },
  {
   "cell_type": "code",
   "execution_count": 2,
   "metadata": {},
   "outputs": [
    {
     "data": {
      "text/plain": [
       "'USD'"
      ]
     },
     "execution_count": 2,
     "metadata": {},
     "output_type": "execute_result"
    }
   ],
   "source": [
    "FileName = \"example.beancount\"\n",
    "if not os.path.isfile(FileName):\n",
    "    os.system(\"bean-example > {}\".format(FileName))      \n",
    "    \n",
    "entries, _, opts = load_file(FileName)\n",
    "currency = opts[\"operating_currency\"][0]\n",
    "# Main currency\n",
    "currency"
   ]
  },
  {
   "cell_type": "markdown",
   "metadata": {},
   "source": [
    "## Investigating a Transaction"
   ]
  },
  {
   "cell_type": "code",
   "execution_count": 3,
   "metadata": {},
   "outputs": [
    {
     "data": {
      "text/plain": [
       "2245"
      ]
     },
     "execution_count": 3,
     "metadata": {},
     "output_type": "execute_result"
    }
   ],
   "source": [
    "# Not all of the entries are transactions\n",
    "len(entries)"
   ]
  },
  {
   "cell_type": "code",
   "execution_count": 4,
   "metadata": {},
   "outputs": [
    {
     "data": {
      "text/plain": [
       "beancount.core.data.Transaction"
      ]
     },
     "execution_count": 4,
     "metadata": {},
     "output_type": "execute_result"
    }
   ],
   "source": [
    "type(entries[-1])"
   ]
  },
  {
   "cell_type": "code",
   "execution_count": 5,
   "metadata": {},
   "outputs": [
    {
     "data": {
      "text/plain": [
       "'Assets:US:BofA:Checking'"
      ]
     },
     "execution_count": 5,
     "metadata": {},
     "output_type": "execute_result"
    }
   ],
   "source": [
    "entries[-1].postings[0].account"
   ]
  },
  {
   "cell_type": "code",
   "execution_count": 6,
   "metadata": {},
   "outputs": [
    {
     "data": {
      "text/plain": [
       "2832.14 USD"
      ]
     },
     "execution_count": 6,
     "metadata": {},
     "output_type": "execute_result"
    }
   ],
   "source": [
    "entries[-1].postings[0].units"
   ]
  },
  {
   "cell_type": "code",
   "execution_count": 7,
   "metadata": {},
   "outputs": [
    {
     "data": {
      "text/plain": [
       "'Hoogle'"
      ]
     },
     "execution_count": 7,
     "metadata": {},
     "output_type": "execute_result"
    }
   ],
   "source": [
    "entries[-1].payee"
   ]
  },
  {
   "cell_type": "code",
   "execution_count": 8,
   "metadata": {},
   "outputs": [
    {
     "data": {
      "text/plain": [
       "'Payroll'"
      ]
     },
     "execution_count": 8,
     "metadata": {},
     "output_type": "execute_result"
    }
   ],
   "source": [
    "entries[-1].narration"
   ]
  },
  {
   "cell_type": "markdown",
   "metadata": {},
   "source": [
    "## Executing a BQL Query"
   ]
  },
  {
   "cell_type": "code",
   "execution_count": 9,
   "metadata": {},
   "outputs": [
    {
     "data": {
      "text/plain": [
       "[('account', str),\n",
       " ('year', int),\n",
       " ('month', int),\n",
       " ('amount', beancount.core.inventory.Inventory)]"
      ]
     },
     "execution_count": 9,
     "metadata": {},
     "output_type": "execute_result"
    }
   ],
   "source": [
    "cols, rows = run_query(entries, opts, \n",
    "                       \"SELECT   account,   YEAR(date) AS year,\\\n",
    "                                 MONTH(date) as month,\\\n",
    "                                 SUM(convert(position, '{}', date)) AS amount\\\n",
    "                        WHERE    account ~ 'Expenses'\\\n",
    "                        OR       account ~ 'Income'\\\n",
    "                        GROUP BY account, year, month\\\n",
    "                        ORDER BY account, year, month\".format(currency)\n",
    "                      )\n",
    "cols"
   ]
  },
  {
   "cell_type": "code",
   "execution_count": 10,
   "metadata": {},
   "outputs": [
    {
     "data": {
      "text/plain": [
       "[ResultRow(account='Expenses:Financial:Commissions', year=2018, month=10, amount=(44.75 USD)),\n",
       " ResultRow(account='Expenses:Financial:Commissions', year=2018, month=11, amount=(35.80 USD)),\n",
       " ResultRow(account='Expenses:Financial:Commissions', year=2018, month=12, amount=(35.80 USD))]"
      ]
     },
     "execution_count": 10,
     "metadata": {},
     "output_type": "execute_result"
    }
   ],
   "source": [
    "rows[:3]"
   ]
  },
  {
   "cell_type": "code",
   "execution_count": 11,
   "metadata": {},
   "outputs": [
    {
     "data": {
      "text/plain": [
       "[('account', str),\n",
       " ('year', int),\n",
       " ('month', int),\n",
       " ('amount (USD)', decimal.Decimal),\n",
       " ('amount (VACHR)', decimal.Decimal),\n",
       " ('amount (IRAUSD)', decimal.Decimal)]"
      ]
     },
     "execution_count": 11,
     "metadata": {},
     "output_type": "execute_result"
    }
   ],
   "source": [
    "cols, rows = numberify_results(cols, rows)\n",
    "cols"
   ]
  },
  {
   "cell_type": "code",
   "execution_count": 12,
   "metadata": {},
   "outputs": [
    {
     "data": {
      "text/plain": [
       "[['Expenses:Financial:Commissions', 2018, 10, Decimal('44.75'), None, None],\n",
       " ['Expenses:Financial:Commissions', 2018, 11, Decimal('35.80'), None, None],\n",
       " ['Expenses:Financial:Commissions', 2018, 12, Decimal('35.80'), None, None]]"
      ]
     },
     "execution_count": 12,
     "metadata": {},
     "output_type": "execute_result"
    }
   ],
   "source": [
    "rows[:3]"
   ]
  },
  {
   "cell_type": "markdown",
   "metadata": {},
   "source": [
    "## Converting Result Rows to a Pandas Dataframe"
   ]
  },
  {
   "cell_type": "code",
   "execution_count": 13,
   "metadata": {},
   "outputs": [
    {
     "data": {
      "text/html": [
       "<div>\n",
       "<style scoped>\n",
       "    .dataframe tbody tr th:only-of-type {\n",
       "        vertical-align: middle;\n",
       "    }\n",
       "\n",
       "    .dataframe tbody tr th {\n",
       "        vertical-align: top;\n",
       "    }\n",
       "\n",
       "    .dataframe thead th {\n",
       "        text-align: right;\n",
       "    }\n",
       "</style>\n",
       "<table border=\"1\" class=\"dataframe\">\n",
       "  <thead>\n",
       "    <tr style=\"text-align: right;\">\n",
       "      <th></th>\n",
       "      <th>account</th>\n",
       "      <th>year</th>\n",
       "      <th>month</th>\n",
       "      <th>amount (USD)</th>\n",
       "      <th>amount (VACHR)</th>\n",
       "      <th>amount (IRAUSD)</th>\n",
       "    </tr>\n",
       "  </thead>\n",
       "  <tbody>\n",
       "    <tr>\n",
       "      <th>0</th>\n",
       "      <td>Expenses:Financial:Commissions</td>\n",
       "      <td>2018</td>\n",
       "      <td>10</td>\n",
       "      <td>44.75</td>\n",
       "      <td>None</td>\n",
       "      <td>None</td>\n",
       "    </tr>\n",
       "    <tr>\n",
       "      <th>1</th>\n",
       "      <td>Expenses:Financial:Commissions</td>\n",
       "      <td>2018</td>\n",
       "      <td>11</td>\n",
       "      <td>35.80</td>\n",
       "      <td>None</td>\n",
       "      <td>None</td>\n",
       "    </tr>\n",
       "    <tr>\n",
       "      <th>2</th>\n",
       "      <td>Expenses:Financial:Commissions</td>\n",
       "      <td>2018</td>\n",
       "      <td>12</td>\n",
       "      <td>35.80</td>\n",
       "      <td>None</td>\n",
       "      <td>None</td>\n",
       "    </tr>\n",
       "    <tr>\n",
       "      <th>3</th>\n",
       "      <td>Expenses:Financial:Commissions</td>\n",
       "      <td>2019</td>\n",
       "      <td>5</td>\n",
       "      <td>35.80</td>\n",
       "      <td>None</td>\n",
       "      <td>None</td>\n",
       "    </tr>\n",
       "    <tr>\n",
       "      <th>4</th>\n",
       "      <td>Expenses:Financial:Commissions</td>\n",
       "      <td>2019</td>\n",
       "      <td>6</td>\n",
       "      <td>8.95</td>\n",
       "      <td>None</td>\n",
       "      <td>None</td>\n",
       "    </tr>\n",
       "  </tbody>\n",
       "</table>\n",
       "</div>"
      ],
      "text/plain": [
       "                          account  year  month amount (USD) amount (VACHR) amount (IRAUSD)\n",
       "0  Expenses:Financial:Commissions  2018     10        44.75           None            None\n",
       "1  Expenses:Financial:Commissions  2018     11        35.80           None            None\n",
       "2  Expenses:Financial:Commissions  2018     12        35.80           None            None\n",
       "3  Expenses:Financial:Commissions  2019      5        35.80           None            None\n",
       "4  Expenses:Financial:Commissions  2019      6         8.95           None            None"
      ]
     },
     "execution_count": 13,
     "metadata": {},
     "output_type": "execute_result"
    }
   ],
   "source": [
    "df = pd.DataFrame(rows, columns=[k[0] for k in cols])\n",
    "df.head()"
   ]
  },
  {
   "cell_type": "code",
   "execution_count": 14,
   "metadata": {},
   "outputs": [
    {
     "data": {
      "text/plain": [
       "Account            object\n",
       "Year                int64\n",
       "Month               int64\n",
       "Amount (USD)       object\n",
       "amount (VACHR)     object\n",
       "amount (IRAUSD)    object\n",
       "dtype: object"
      ]
     },
     "execution_count": 14,
     "metadata": {},
     "output_type": "execute_result"
    }
   ],
   "source": [
    "df.rename(columns={\"account\": \"Account\", \"year\":\"Year\", \"month\": \"Month\", \"amount ({})\".format(currency): \"Amount ({})\".format(currency)}, inplace=True)\n",
    "df.dtypes"
   ]
  },
  {
   "cell_type": "code",
   "execution_count": 15,
   "metadata": {},
   "outputs": [
    {
     "data": {
      "text/html": [
       "<div>\n",
       "<style scoped>\n",
       "    .dataframe tbody tr th:only-of-type {\n",
       "        vertical-align: middle;\n",
       "    }\n",
       "\n",
       "    .dataframe tbody tr th {\n",
       "        vertical-align: top;\n",
       "    }\n",
       "\n",
       "    .dataframe thead th {\n",
       "        text-align: right;\n",
       "    }\n",
       "</style>\n",
       "<table border=\"1\" class=\"dataframe\">\n",
       "  <thead>\n",
       "    <tr style=\"text-align: right;\">\n",
       "      <th></th>\n",
       "      <th>Account</th>\n",
       "      <th>Year</th>\n",
       "      <th>Month</th>\n",
       "      <th>Amount (USD)</th>\n",
       "    </tr>\n",
       "  </thead>\n",
       "  <tbody>\n",
       "    <tr>\n",
       "      <th>0</th>\n",
       "      <td>Expenses:Financial:Commissions</td>\n",
       "      <td>2018</td>\n",
       "      <td>10</td>\n",
       "      <td>44.75</td>\n",
       "    </tr>\n",
       "    <tr>\n",
       "      <th>1</th>\n",
       "      <td>Expenses:Financial:Commissions</td>\n",
       "      <td>2018</td>\n",
       "      <td>11</td>\n",
       "      <td>35.80</td>\n",
       "    </tr>\n",
       "    <tr>\n",
       "      <th>2</th>\n",
       "      <td>Expenses:Financial:Commissions</td>\n",
       "      <td>2018</td>\n",
       "      <td>12</td>\n",
       "      <td>35.80</td>\n",
       "    </tr>\n",
       "    <tr>\n",
       "      <th>3</th>\n",
       "      <td>Expenses:Financial:Commissions</td>\n",
       "      <td>2019</td>\n",
       "      <td>5</td>\n",
       "      <td>35.80</td>\n",
       "    </tr>\n",
       "    <tr>\n",
       "      <th>4</th>\n",
       "      <td>Expenses:Financial:Commissions</td>\n",
       "      <td>2019</td>\n",
       "      <td>6</td>\n",
       "      <td>8.95</td>\n",
       "    </tr>\n",
       "  </tbody>\n",
       "</table>\n",
       "</div>"
      ],
      "text/plain": [
       "                          Account  Year  Month  Amount (USD)\n",
       "0  Expenses:Financial:Commissions  2018     10         44.75\n",
       "1  Expenses:Financial:Commissions  2018     11         35.80\n",
       "2  Expenses:Financial:Commissions  2018     12         35.80\n",
       "3  Expenses:Financial:Commissions  2019      5         35.80\n",
       "4  Expenses:Financial:Commissions  2019      6          8.95"
      ]
     },
     "execution_count": 15,
     "metadata": {},
     "output_type": "execute_result"
    }
   ],
   "source": [
    "df = df.astype({\"Account\": str, \"Year\": int, \"Month\": int, \"Amount ({})\".format(currency): np.float})\n",
    "df = df[[\"Account\", \"Year\", \"Month\", \"Amount ({})\".format(currency)]].fillna(0)\n",
    "df.head()"
   ]
  },
  {
   "cell_type": "code",
   "execution_count": 16,
   "metadata": {},
   "outputs": [
    {
     "data": {
      "text/html": [
       "<div>\n",
       "<style scoped>\n",
       "    .dataframe tbody tr th:only-of-type {\n",
       "        vertical-align: middle;\n",
       "    }\n",
       "\n",
       "    .dataframe tbody tr th {\n",
       "        vertical-align: top;\n",
       "    }\n",
       "\n",
       "    .dataframe thead th {\n",
       "        text-align: right;\n",
       "    }\n",
       "</style>\n",
       "<table border=\"1\" class=\"dataframe\">\n",
       "  <thead>\n",
       "    <tr style=\"text-align: right;\">\n",
       "      <th></th>\n",
       "      <th>Account</th>\n",
       "      <th>YearMonth</th>\n",
       "      <th>Amount (USD)</th>\n",
       "    </tr>\n",
       "  </thead>\n",
       "  <tbody>\n",
       "    <tr>\n",
       "      <th>0</th>\n",
       "      <td>Expenses:Financial:Commissions</td>\n",
       "      <td>2018-10</td>\n",
       "      <td>44.75</td>\n",
       "    </tr>\n",
       "    <tr>\n",
       "      <th>1</th>\n",
       "      <td>Expenses:Financial:Commissions</td>\n",
       "      <td>2018-11</td>\n",
       "      <td>35.80</td>\n",
       "    </tr>\n",
       "    <tr>\n",
       "      <th>2</th>\n",
       "      <td>Expenses:Financial:Commissions</td>\n",
       "      <td>2018-12</td>\n",
       "      <td>35.80</td>\n",
       "    </tr>\n",
       "    <tr>\n",
       "      <th>3</th>\n",
       "      <td>Expenses:Financial:Commissions</td>\n",
       "      <td>2019-05</td>\n",
       "      <td>35.80</td>\n",
       "    </tr>\n",
       "    <tr>\n",
       "      <th>4</th>\n",
       "      <td>Expenses:Financial:Commissions</td>\n",
       "      <td>2019-06</td>\n",
       "      <td>8.95</td>\n",
       "    </tr>\n",
       "  </tbody>\n",
       "</table>\n",
       "</div>"
      ],
      "text/plain": [
       "                          Account YearMonth  Amount (USD)\n",
       "0  Expenses:Financial:Commissions   2018-10         44.75\n",
       "1  Expenses:Financial:Commissions   2018-11         35.80\n",
       "2  Expenses:Financial:Commissions   2018-12         35.80\n",
       "3  Expenses:Financial:Commissions   2019-05         35.80\n",
       "4  Expenses:Financial:Commissions   2019-06          8.95"
      ]
     },
     "execution_count": 16,
     "metadata": {},
     "output_type": "execute_result"
    }
   ],
   "source": [
    "df[\"YearMonth\"] = df.apply(lambda x: \"{}-{:0>2d}\".format(x[\"Year\"], x[\"Month\"]),axis=1)\n",
    "df = df[[\"Account\", \"YearMonth\", \"Amount ({})\".format(currency)]]\n",
    "df.head()"
   ]
  },
  {
   "cell_type": "code",
   "execution_count": 17,
   "metadata": {},
   "outputs": [
    {
     "data": {
      "text/html": [
       "<div>\n",
       "<style scoped>\n",
       "    .dataframe tbody tr th:only-of-type {\n",
       "        vertical-align: middle;\n",
       "    }\n",
       "\n",
       "    .dataframe tbody tr th {\n",
       "        vertical-align: top;\n",
       "    }\n",
       "\n",
       "    .dataframe thead th {\n",
       "        text-align: right;\n",
       "    }\n",
       "</style>\n",
       "<table border=\"1\" class=\"dataframe\">\n",
       "  <thead>\n",
       "    <tr style=\"text-align: right;\">\n",
       "      <th></th>\n",
       "      <th>Account</th>\n",
       "      <th>Amount (USD)</th>\n",
       "    </tr>\n",
       "    <tr>\n",
       "      <th>YearMonth</th>\n",
       "      <th></th>\n",
       "      <th></th>\n",
       "    </tr>\n",
       "  </thead>\n",
       "  <tbody>\n",
       "    <tr>\n",
       "      <th>2018-10-31</th>\n",
       "      <td>Expenses:Financial:Commissions</td>\n",
       "      <td>44.75</td>\n",
       "    </tr>\n",
       "    <tr>\n",
       "      <th>2018-11-30</th>\n",
       "      <td>Expenses:Financial:Commissions</td>\n",
       "      <td>35.80</td>\n",
       "    </tr>\n",
       "    <tr>\n",
       "      <th>2018-12-31</th>\n",
       "      <td>Expenses:Financial:Commissions</td>\n",
       "      <td>35.80</td>\n",
       "    </tr>\n",
       "    <tr>\n",
       "      <th>2019-05-31</th>\n",
       "      <td>Expenses:Financial:Commissions</td>\n",
       "      <td>35.80</td>\n",
       "    </tr>\n",
       "    <tr>\n",
       "      <th>2019-06-30</th>\n",
       "      <td>Expenses:Financial:Commissions</td>\n",
       "      <td>8.95</td>\n",
       "    </tr>\n",
       "  </tbody>\n",
       "</table>\n",
       "</div>"
      ],
      "text/plain": [
       "                                   Account  Amount (USD)\n",
       "YearMonth                                               \n",
       "2018-10-31  Expenses:Financial:Commissions         44.75\n",
       "2018-11-30  Expenses:Financial:Commissions         35.80\n",
       "2018-12-31  Expenses:Financial:Commissions         35.80\n",
       "2019-05-31  Expenses:Financial:Commissions         35.80\n",
       "2019-06-30  Expenses:Financial:Commissions          8.95"
      ]
     },
     "execution_count": 17,
     "metadata": {},
     "output_type": "execute_result"
    }
   ],
   "source": [
    "df.index = pd.to_datetime(df[\"YearMonth\"], format='%Y-%m') + pd.offsets.MonthEnd(0)\n",
    "df.drop(columns=\"YearMonth\", inplace=True)\n",
    "df.head()"
   ]
  },
  {
   "cell_type": "code",
   "execution_count": 18,
   "metadata": {},
   "outputs": [
    {
     "data": {
      "text/html": [
       "<div>\n",
       "<style scoped>\n",
       "    .dataframe tbody tr th:only-of-type {\n",
       "        vertical-align: middle;\n",
       "    }\n",
       "\n",
       "    .dataframe tbody tr th {\n",
       "        vertical-align: top;\n",
       "    }\n",
       "\n",
       "    .dataframe thead th {\n",
       "        text-align: right;\n",
       "    }\n",
       "</style>\n",
       "<table border=\"1\" class=\"dataframe\">\n",
       "  <thead>\n",
       "    <tr style=\"text-align: right;\">\n",
       "      <th></th>\n",
       "      <th></th>\n",
       "      <th>Amount (USD)</th>\n",
       "    </tr>\n",
       "    <tr>\n",
       "      <th>Account</th>\n",
       "      <th>Quarter</th>\n",
       "      <th></th>\n",
       "    </tr>\n",
       "  </thead>\n",
       "  <tbody>\n",
       "    <tr>\n",
       "      <th rowspan=\"7\" valign=\"top\">Expenses:Financial:Commissions</th>\n",
       "      <th>2018-12-31</th>\n",
       "      <td>116.35</td>\n",
       "    </tr>\n",
       "    <tr>\n",
       "      <th>2019-06-30</th>\n",
       "      <td>44.75</td>\n",
       "    </tr>\n",
       "    <tr>\n",
       "      <th>2019-09-30</th>\n",
       "      <td>71.60</td>\n",
       "    </tr>\n",
       "    <tr>\n",
       "      <th>2019-12-31</th>\n",
       "      <td>8.95</td>\n",
       "    </tr>\n",
       "    <tr>\n",
       "      <th>2020-06-30</th>\n",
       "      <td>98.45</td>\n",
       "    </tr>\n",
       "    <tr>\n",
       "      <th>2020-09-30</th>\n",
       "      <td>62.65</td>\n",
       "    </tr>\n",
       "    <tr>\n",
       "      <th>2020-12-31</th>\n",
       "      <td>71.60</td>\n",
       "    </tr>\n",
       "    <tr>\n",
       "      <th rowspan=\"12\" valign=\"top\">Expenses:Financial:Fees</th>\n",
       "      <th>2018-03-31</th>\n",
       "      <td>12.00</td>\n",
       "    </tr>\n",
       "    <tr>\n",
       "      <th>2018-06-30</th>\n",
       "      <td>12.00</td>\n",
       "    </tr>\n",
       "    <tr>\n",
       "      <th>2018-09-30</th>\n",
       "      <td>12.00</td>\n",
       "    </tr>\n",
       "    <tr>\n",
       "      <th>2018-12-31</th>\n",
       "      <td>12.00</td>\n",
       "    </tr>\n",
       "    <tr>\n",
       "      <th>2019-03-31</th>\n",
       "      <td>12.00</td>\n",
       "    </tr>\n",
       "    <tr>\n",
       "      <th>2019-06-30</th>\n",
       "      <td>12.00</td>\n",
       "    </tr>\n",
       "    <tr>\n",
       "      <th>2019-09-30</th>\n",
       "      <td>12.00</td>\n",
       "    </tr>\n",
       "    <tr>\n",
       "      <th>2019-12-31</th>\n",
       "      <td>12.00</td>\n",
       "    </tr>\n",
       "    <tr>\n",
       "      <th>2020-03-31</th>\n",
       "      <td>12.00</td>\n",
       "    </tr>\n",
       "    <tr>\n",
       "      <th>2020-06-30</th>\n",
       "      <td>12.00</td>\n",
       "    </tr>\n",
       "    <tr>\n",
       "      <th>2020-09-30</th>\n",
       "      <td>12.00</td>\n",
       "    </tr>\n",
       "    <tr>\n",
       "      <th>2020-12-31</th>\n",
       "      <td>12.00</td>\n",
       "    </tr>\n",
       "    <tr>\n",
       "      <th>Expenses:Food:Coffee</th>\n",
       "      <th>2018-06-30</th>\n",
       "      <td>5.49</td>\n",
       "    </tr>\n",
       "  </tbody>\n",
       "</table>\n",
       "</div>"
      ],
      "text/plain": [
       "                                           Amount (USD)\n",
       "Account                        Quarter                 \n",
       "Expenses:Financial:Commissions 2018-12-31        116.35\n",
       "                               2019-06-30         44.75\n",
       "                               2019-09-30         71.60\n",
       "                               2019-12-31          8.95\n",
       "                               2020-06-30         98.45\n",
       "                               2020-09-30         62.65\n",
       "                               2020-12-31         71.60\n",
       "Expenses:Financial:Fees        2018-03-31         12.00\n",
       "                               2018-06-30         12.00\n",
       "                               2018-09-30         12.00\n",
       "                               2018-12-31         12.00\n",
       "                               2019-03-31         12.00\n",
       "                               2019-06-30         12.00\n",
       "                               2019-09-30         12.00\n",
       "                               2019-12-31         12.00\n",
       "                               2020-03-31         12.00\n",
       "                               2020-06-30         12.00\n",
       "                               2020-09-30         12.00\n",
       "                               2020-12-31         12.00\n",
       "Expenses:Food:Coffee           2018-06-30          5.49"
      ]
     },
     "execution_count": 18,
     "metadata": {},
     "output_type": "execute_result"
    }
   ],
   "source": [
    "# Aggregate at quarter level\n",
    "df = df.groupby([\"Account\", pd.Grouper(freq='Q')]).sum()\n",
    "df.index.rename(names = [\"Account\", \"Quarter\"], inplace=True)\n",
    "df.head(20)"
   ]
  },
  {
   "cell_type": "markdown",
   "metadata": {},
   "source": [
    "## Pivoting a Table by Quarter"
   ]
  },
  {
   "cell_type": "code",
   "execution_count": 19,
   "metadata": {},
   "outputs": [
    {
     "data": {
      "text/html": [
       "<div>\n",
       "<style scoped>\n",
       "    .dataframe tbody tr th:only-of-type {\n",
       "        vertical-align: middle;\n",
       "    }\n",
       "\n",
       "    .dataframe tbody tr th {\n",
       "        vertical-align: top;\n",
       "    }\n",
       "\n",
       "    .dataframe thead tr th {\n",
       "        text-align: left;\n",
       "    }\n",
       "</style>\n",
       "<table border=\"1\" class=\"dataframe\">\n",
       "  <thead>\n",
       "    <tr>\n",
       "      <th></th>\n",
       "      <th>Account</th>\n",
       "      <th colspan=\"12\" halign=\"left\">Amount (USD)</th>\n",
       "    </tr>\n",
       "    <tr>\n",
       "      <th>Quarter</th>\n",
       "      <th></th>\n",
       "      <th>2018-Q1</th>\n",
       "      <th>2018-Q2</th>\n",
       "      <th>2018-Q3</th>\n",
       "      <th>2018-Q4</th>\n",
       "      <th>2019-Q1</th>\n",
       "      <th>2019-Q2</th>\n",
       "      <th>2019-Q3</th>\n",
       "      <th>2019-Q4</th>\n",
       "      <th>2020-Q1</th>\n",
       "      <th>2020-Q2</th>\n",
       "      <th>2020-Q3</th>\n",
       "      <th>2020-Q4</th>\n",
       "    </tr>\n",
       "  </thead>\n",
       "  <tbody>\n",
       "    <tr>\n",
       "      <th>0</th>\n",
       "      <td>Expenses:Financial:Commissions</td>\n",
       "      <td>0.00</td>\n",
       "      <td>0.00</td>\n",
       "      <td>0.00</td>\n",
       "      <td>116.35</td>\n",
       "      <td>0.00</td>\n",
       "      <td>44.75</td>\n",
       "      <td>71.60</td>\n",
       "      <td>8.95</td>\n",
       "      <td>0.00</td>\n",
       "      <td>98.45</td>\n",
       "      <td>62.65</td>\n",
       "      <td>71.60</td>\n",
       "    </tr>\n",
       "    <tr>\n",
       "      <th>1</th>\n",
       "      <td>Expenses:Financial:Fees</td>\n",
       "      <td>12.00</td>\n",
       "      <td>12.00</td>\n",
       "      <td>12.00</td>\n",
       "      <td>12.00</td>\n",
       "      <td>12.00</td>\n",
       "      <td>12.00</td>\n",
       "      <td>12.00</td>\n",
       "      <td>12.00</td>\n",
       "      <td>12.00</td>\n",
       "      <td>12.00</td>\n",
       "      <td>12.00</td>\n",
       "      <td>12.00</td>\n",
       "    </tr>\n",
       "    <tr>\n",
       "      <th>2</th>\n",
       "      <td>Expenses:Food:Coffee</td>\n",
       "      <td>0.00</td>\n",
       "      <td>5.49</td>\n",
       "      <td>0.00</td>\n",
       "      <td>0.00</td>\n",
       "      <td>0.00</td>\n",
       "      <td>0.00</td>\n",
       "      <td>36.76</td>\n",
       "      <td>0.00</td>\n",
       "      <td>0.00</td>\n",
       "      <td>0.00</td>\n",
       "      <td>43.07</td>\n",
       "      <td>0.00</td>\n",
       "    </tr>\n",
       "    <tr>\n",
       "      <th>3</th>\n",
       "      <td>Expenses:Food:Groceries</td>\n",
       "      <td>582.97</td>\n",
       "      <td>559.27</td>\n",
       "      <td>616.30</td>\n",
       "      <td>540.30</td>\n",
       "      <td>480.78</td>\n",
       "      <td>722.67</td>\n",
       "      <td>520.40</td>\n",
       "      <td>641.20</td>\n",
       "      <td>711.49</td>\n",
       "      <td>581.02</td>\n",
       "      <td>442.03</td>\n",
       "      <td>557.04</td>\n",
       "    </tr>\n",
       "    <tr>\n",
       "      <th>4</th>\n",
       "      <td>Expenses:Food:Restaurant</td>\n",
       "      <td>948.18</td>\n",
       "      <td>948.24</td>\n",
       "      <td>1139.92</td>\n",
       "      <td>1027.88</td>\n",
       "      <td>983.15</td>\n",
       "      <td>1127.47</td>\n",
       "      <td>1780.95</td>\n",
       "      <td>1064.27</td>\n",
       "      <td>1109.25</td>\n",
       "      <td>1143.04</td>\n",
       "      <td>1214.80</td>\n",
       "      <td>933.98</td>\n",
       "    </tr>\n",
       "  </tbody>\n",
       "</table>\n",
       "</div>"
      ],
      "text/plain": [
       "                                Account Amount (USD)                                                                                                \n",
       "Quarter                                      2018-Q1 2018-Q2  2018-Q3  2018-Q4 2019-Q1  2019-Q2  2019-Q3  2019-Q4  2020-Q1  2020-Q2  2020-Q3 2020-Q4\n",
       "0        Expenses:Financial:Commissions         0.00    0.00     0.00   116.35    0.00    44.75    71.60     8.95     0.00    98.45    62.65   71.60\n",
       "1               Expenses:Financial:Fees        12.00   12.00    12.00    12.00   12.00    12.00    12.00    12.00    12.00    12.00    12.00   12.00\n",
       "2                  Expenses:Food:Coffee         0.00    5.49     0.00     0.00    0.00     0.00    36.76     0.00     0.00     0.00    43.07    0.00\n",
       "3               Expenses:Food:Groceries       582.97  559.27   616.30   540.30  480.78   722.67   520.40   641.20   711.49   581.02   442.03  557.04\n",
       "4              Expenses:Food:Restaurant       948.18  948.24  1139.92  1027.88  983.15  1127.47  1780.95  1064.27  1109.25  1143.04  1214.80  933.98"
      ]
     },
     "execution_count": 19,
     "metadata": {},
     "output_type": "execute_result"
    }
   ],
   "source": [
    "df = df.pivot_table(index=\"Account\", columns=df.index.get_level_values(1).map(lambda s: s.strftime('%Y-%m')).astype('period[Q]').strftime('%F-Q%q')).fillna(0).reset_index()\n",
    "df.head()"
   ]
  },
  {
   "cell_type": "markdown",
   "metadata": {},
   "source": [
    "## Creating Multi-Level Accounts"
   ]
  },
  {
   "cell_type": "code",
   "execution_count": 20,
   "metadata": {},
   "outputs": [
    {
     "data": {
      "text/plain": [
       "6"
      ]
     },
     "execution_count": 20,
     "metadata": {},
     "output_type": "execute_result"
    }
   ],
   "source": [
    "n_levels = df[\"Account\"].str.count(\":\").max() + 1\n",
    "n_levels"
   ]
  },
  {
   "cell_type": "code",
   "execution_count": 21,
   "metadata": {},
   "outputs": [
    {
     "data": {
      "text/plain": [
       "['Account_L0',\n",
       " 'Account_L1',\n",
       " 'Account_L2',\n",
       " 'Account_L3',\n",
       " 'Account_L4',\n",
       " 'Account_L5']"
      ]
     },
     "execution_count": 21,
     "metadata": {},
     "output_type": "execute_result"
    }
   ],
   "source": [
    "cols = [\"Account_L{}\".format(k) for k in range(n_levels)]\n",
    "cols"
   ]
  },
  {
   "cell_type": "code",
   "execution_count": 22,
   "metadata": {},
   "outputs": [
    {
     "data": {
      "text/html": [
       "<div>\n",
       "<style scoped>\n",
       "    .dataframe tbody tr th:only-of-type {\n",
       "        vertical-align: middle;\n",
       "    }\n",
       "\n",
       "    .dataframe tbody tr th {\n",
       "        vertical-align: top;\n",
       "    }\n",
       "\n",
       "    .dataframe thead tr th {\n",
       "        text-align: left;\n",
       "    }\n",
       "\n",
       "    .dataframe thead tr:last-of-type th {\n",
       "        text-align: right;\n",
       "    }\n",
       "</style>\n",
       "<table border=\"1\" class=\"dataframe\">\n",
       "  <thead>\n",
       "    <tr>\n",
       "      <th></th>\n",
       "      <th></th>\n",
       "      <th></th>\n",
       "      <th></th>\n",
       "      <th></th>\n",
       "      <th></th>\n",
       "      <th colspan=\"12\" halign=\"left\">Amount (USD)</th>\n",
       "    </tr>\n",
       "    <tr>\n",
       "      <th></th>\n",
       "      <th></th>\n",
       "      <th></th>\n",
       "      <th></th>\n",
       "      <th></th>\n",
       "      <th>Quarter</th>\n",
       "      <th>2018-Q1</th>\n",
       "      <th>2018-Q2</th>\n",
       "      <th>2018-Q3</th>\n",
       "      <th>2018-Q4</th>\n",
       "      <th>2019-Q1</th>\n",
       "      <th>2019-Q2</th>\n",
       "      <th>2019-Q3</th>\n",
       "      <th>2019-Q4</th>\n",
       "      <th>2020-Q1</th>\n",
       "      <th>2020-Q2</th>\n",
       "      <th>2020-Q3</th>\n",
       "      <th>2020-Q4</th>\n",
       "    </tr>\n",
       "    <tr>\n",
       "      <th>Account_L0</th>\n",
       "      <th>Account_L1</th>\n",
       "      <th>Account_L2</th>\n",
       "      <th>Account_L3</th>\n",
       "      <th>Account_L4</th>\n",
       "      <th>Account_L5</th>\n",
       "      <th></th>\n",
       "      <th></th>\n",
       "      <th></th>\n",
       "      <th></th>\n",
       "      <th></th>\n",
       "      <th></th>\n",
       "      <th></th>\n",
       "      <th></th>\n",
       "      <th></th>\n",
       "      <th></th>\n",
       "      <th></th>\n",
       "      <th></th>\n",
       "    </tr>\n",
       "  </thead>\n",
       "  <tbody>\n",
       "    <tr>\n",
       "      <th rowspan=\"5\" valign=\"top\">Expenses</th>\n",
       "      <th rowspan=\"2\" valign=\"top\">Financial</th>\n",
       "      <th>Commissions</th>\n",
       "      <th></th>\n",
       "      <th></th>\n",
       "      <th></th>\n",
       "      <td>0.00</td>\n",
       "      <td>0.00</td>\n",
       "      <td>0.00</td>\n",
       "      <td>116.35</td>\n",
       "      <td>0.00</td>\n",
       "      <td>44.75</td>\n",
       "      <td>71.60</td>\n",
       "      <td>8.95</td>\n",
       "      <td>0.00</td>\n",
       "      <td>98.45</td>\n",
       "      <td>62.65</td>\n",
       "      <td>71.60</td>\n",
       "    </tr>\n",
       "    <tr>\n",
       "      <th>Fees</th>\n",
       "      <th></th>\n",
       "      <th></th>\n",
       "      <th></th>\n",
       "      <td>12.00</td>\n",
       "      <td>12.00</td>\n",
       "      <td>12.00</td>\n",
       "      <td>12.00</td>\n",
       "      <td>12.00</td>\n",
       "      <td>12.00</td>\n",
       "      <td>12.00</td>\n",
       "      <td>12.00</td>\n",
       "      <td>12.00</td>\n",
       "      <td>12.00</td>\n",
       "      <td>12.00</td>\n",
       "      <td>12.00</td>\n",
       "    </tr>\n",
       "    <tr>\n",
       "      <th rowspan=\"3\" valign=\"top\">Food</th>\n",
       "      <th>Coffee</th>\n",
       "      <th></th>\n",
       "      <th></th>\n",
       "      <th></th>\n",
       "      <td>0.00</td>\n",
       "      <td>5.49</td>\n",
       "      <td>0.00</td>\n",
       "      <td>0.00</td>\n",
       "      <td>0.00</td>\n",
       "      <td>0.00</td>\n",
       "      <td>36.76</td>\n",
       "      <td>0.00</td>\n",
       "      <td>0.00</td>\n",
       "      <td>0.00</td>\n",
       "      <td>43.07</td>\n",
       "      <td>0.00</td>\n",
       "    </tr>\n",
       "    <tr>\n",
       "      <th>Groceries</th>\n",
       "      <th></th>\n",
       "      <th></th>\n",
       "      <th></th>\n",
       "      <td>582.97</td>\n",
       "      <td>559.27</td>\n",
       "      <td>616.30</td>\n",
       "      <td>540.30</td>\n",
       "      <td>480.78</td>\n",
       "      <td>722.67</td>\n",
       "      <td>520.40</td>\n",
       "      <td>641.20</td>\n",
       "      <td>711.49</td>\n",
       "      <td>581.02</td>\n",
       "      <td>442.03</td>\n",
       "      <td>557.04</td>\n",
       "    </tr>\n",
       "    <tr>\n",
       "      <th>Restaurant</th>\n",
       "      <th></th>\n",
       "      <th></th>\n",
       "      <th></th>\n",
       "      <td>948.18</td>\n",
       "      <td>948.24</td>\n",
       "      <td>1139.92</td>\n",
       "      <td>1027.88</td>\n",
       "      <td>983.15</td>\n",
       "      <td>1127.47</td>\n",
       "      <td>1780.95</td>\n",
       "      <td>1064.27</td>\n",
       "      <td>1109.25</td>\n",
       "      <td>1143.04</td>\n",
       "      <td>1214.80</td>\n",
       "      <td>933.98</td>\n",
       "    </tr>\n",
       "  </tbody>\n",
       "</table>\n",
       "</div>"
      ],
      "text/plain": [
       "                                                                   Amount (USD)                                                                                                \n",
       "Quarter                                                                 2018-Q1 2018-Q2  2018-Q3  2018-Q4 2019-Q1  2019-Q2  2019-Q3  2019-Q4  2020-Q1  2020-Q2  2020-Q3 2020-Q4\n",
       "Account_L0 Account_L1 Account_L2  Account_L3 Account_L4 Account_L5                                                                                                             \n",
       "Expenses   Financial  Commissions                                          0.00    0.00     0.00   116.35    0.00    44.75    71.60     8.95     0.00    98.45    62.65   71.60\n",
       "                      Fees                                                12.00   12.00    12.00    12.00   12.00    12.00    12.00    12.00    12.00    12.00    12.00   12.00\n",
       "           Food       Coffee                                               0.00    5.49     0.00     0.00    0.00     0.00    36.76     0.00     0.00     0.00    43.07    0.00\n",
       "                      Groceries                                          582.97  559.27   616.30   540.30  480.78   722.67   520.40   641.20   711.49   581.02   442.03  557.04\n",
       "                      Restaurant                                         948.18  948.24  1139.92  1027.88  983.15  1127.47  1780.95  1064.27  1109.25  1143.04  1214.80  933.98"
      ]
     },
     "execution_count": 22,
     "metadata": {},
     "output_type": "execute_result"
    }
   ],
   "source": [
    "df[cols] = df[\"Account\"].str.split(':', n_levels - 1, expand=True)\n",
    "df = df.fillna('').drop(columns=\"Account\", level=0).set_index(cols)\n",
    "df.head()"
   ]
  },
  {
   "cell_type": "markdown",
   "metadata": {},
   "source": [
    "## Aggregation at Different Account Levels"
   ]
  },
  {
   "cell_type": "code",
   "execution_count": 23,
   "metadata": {},
   "outputs": [
    {
     "data": {
      "text/html": [
       "<style  type=\"text/css\" >\n",
       "    #T_eb5158be_4d8a_11eb_af30_74dfbff0a97c tr:hover {\n",
       "          background-color: yellow;\n",
       "    }</style><table id=\"T_eb5158be_4d8a_11eb_af30_74dfbff0a97c\" ><thead>    <tr>        <th class=\"blank\" ></th>        <th class=\"blank level0\" ></th>        <th class=\"col_heading level0 col0\" colspan=12>Amount (USD)</th>    </tr>    <tr>        <th class=\"blank\" ></th>        <th class=\"index_name level1\" >Quarter</th>        <th class=\"col_heading level1 col0\" >2018-Q1</th>        <th class=\"col_heading level1 col1\" >2018-Q2</th>        <th class=\"col_heading level1 col2\" >2018-Q3</th>        <th class=\"col_heading level1 col3\" >2018-Q4</th>        <th class=\"col_heading level1 col4\" >2019-Q1</th>        <th class=\"col_heading level1 col5\" >2019-Q2</th>        <th class=\"col_heading level1 col6\" >2019-Q3</th>        <th class=\"col_heading level1 col7\" >2019-Q4</th>        <th class=\"col_heading level1 col8\" >2020-Q1</th>        <th class=\"col_heading level1 col9\" >2020-Q2</th>        <th class=\"col_heading level1 col10\" >2020-Q3</th>        <th class=\"col_heading level1 col11\" >2020-Q4</th>    </tr>    <tr>        <th class=\"index_name level0\" >Account_L0</th>        <th class=\"index_name level1\" >Account_L1</th>        <th class=\"blank\" ></th>        <th class=\"blank\" ></th>        <th class=\"blank\" ></th>        <th class=\"blank\" ></th>        <th class=\"blank\" ></th>        <th class=\"blank\" ></th>        <th class=\"blank\" ></th>        <th class=\"blank\" ></th>        <th class=\"blank\" ></th>        <th class=\"blank\" ></th>        <th class=\"blank\" ></th>        <th class=\"blank\" ></th>    </tr></thead><tbody>\n",
       "                <tr>\n",
       "                        <th id=\"T_eb5158be_4d8a_11eb_af30_74dfbff0a97clevel0_row0\" class=\"row_heading level0 row0\" rowspan=7>Expenses</th>\n",
       "                        <th id=\"T_eb5158be_4d8a_11eb_af30_74dfbff0a97clevel1_row0\" class=\"row_heading level1 row0\" >Financial</th>\n",
       "                        <td id=\"T_eb5158be_4d8a_11eb_af30_74dfbff0a97crow0_col0\" class=\"data row0 col0\" >12.00</td>\n",
       "                        <td id=\"T_eb5158be_4d8a_11eb_af30_74dfbff0a97crow0_col1\" class=\"data row0 col1\" >12.00</td>\n",
       "                        <td id=\"T_eb5158be_4d8a_11eb_af30_74dfbff0a97crow0_col2\" class=\"data row0 col2\" >12.00</td>\n",
       "                        <td id=\"T_eb5158be_4d8a_11eb_af30_74dfbff0a97crow0_col3\" class=\"data row0 col3\" >128.35</td>\n",
       "                        <td id=\"T_eb5158be_4d8a_11eb_af30_74dfbff0a97crow0_col4\" class=\"data row0 col4\" >12.00</td>\n",
       "                        <td id=\"T_eb5158be_4d8a_11eb_af30_74dfbff0a97crow0_col5\" class=\"data row0 col5\" >56.75</td>\n",
       "                        <td id=\"T_eb5158be_4d8a_11eb_af30_74dfbff0a97crow0_col6\" class=\"data row0 col6\" >83.60</td>\n",
       "                        <td id=\"T_eb5158be_4d8a_11eb_af30_74dfbff0a97crow0_col7\" class=\"data row0 col7\" >20.95</td>\n",
       "                        <td id=\"T_eb5158be_4d8a_11eb_af30_74dfbff0a97crow0_col8\" class=\"data row0 col8\" >12.00</td>\n",
       "                        <td id=\"T_eb5158be_4d8a_11eb_af30_74dfbff0a97crow0_col9\" class=\"data row0 col9\" >110.45</td>\n",
       "                        <td id=\"T_eb5158be_4d8a_11eb_af30_74dfbff0a97crow0_col10\" class=\"data row0 col10\" >74.65</td>\n",
       "                        <td id=\"T_eb5158be_4d8a_11eb_af30_74dfbff0a97crow0_col11\" class=\"data row0 col11\" >83.60</td>\n",
       "            </tr>\n",
       "            <tr>\n",
       "                                <th id=\"T_eb5158be_4d8a_11eb_af30_74dfbff0a97clevel1_row1\" class=\"row_heading level1 row1\" >Food</th>\n",
       "                        <td id=\"T_eb5158be_4d8a_11eb_af30_74dfbff0a97crow1_col0\" class=\"data row1 col0\" >1531.15</td>\n",
       "                        <td id=\"T_eb5158be_4d8a_11eb_af30_74dfbff0a97crow1_col1\" class=\"data row1 col1\" >1513.00</td>\n",
       "                        <td id=\"T_eb5158be_4d8a_11eb_af30_74dfbff0a97crow1_col2\" class=\"data row1 col2\" >1756.22</td>\n",
       "                        <td id=\"T_eb5158be_4d8a_11eb_af30_74dfbff0a97crow1_col3\" class=\"data row1 col3\" >1568.18</td>\n",
       "                        <td id=\"T_eb5158be_4d8a_11eb_af30_74dfbff0a97crow1_col4\" class=\"data row1 col4\" >1463.93</td>\n",
       "                        <td id=\"T_eb5158be_4d8a_11eb_af30_74dfbff0a97crow1_col5\" class=\"data row1 col5\" >1850.14</td>\n",
       "                        <td id=\"T_eb5158be_4d8a_11eb_af30_74dfbff0a97crow1_col6\" class=\"data row1 col6\" >2338.11</td>\n",
       "                        <td id=\"T_eb5158be_4d8a_11eb_af30_74dfbff0a97crow1_col7\" class=\"data row1 col7\" >1705.47</td>\n",
       "                        <td id=\"T_eb5158be_4d8a_11eb_af30_74dfbff0a97crow1_col8\" class=\"data row1 col8\" >1820.74</td>\n",
       "                        <td id=\"T_eb5158be_4d8a_11eb_af30_74dfbff0a97crow1_col9\" class=\"data row1 col9\" >1724.06</td>\n",
       "                        <td id=\"T_eb5158be_4d8a_11eb_af30_74dfbff0a97crow1_col10\" class=\"data row1 col10\" >1699.90</td>\n",
       "                        <td id=\"T_eb5158be_4d8a_11eb_af30_74dfbff0a97crow1_col11\" class=\"data row1 col11\" >1491.02</td>\n",
       "            </tr>\n",
       "            <tr>\n",
       "                                <th id=\"T_eb5158be_4d8a_11eb_af30_74dfbff0a97clevel1_row2\" class=\"row_heading level1 row2\" >Health</th>\n",
       "                        <td id=\"T_eb5158be_4d8a_11eb_af30_74dfbff0a97crow2_col0\" class=\"data row2 col0\" >678.30</td>\n",
       "                        <td id=\"T_eb5158be_4d8a_11eb_af30_74dfbff0a97crow2_col1\" class=\"data row2 col1\" >581.40</td>\n",
       "                        <td id=\"T_eb5158be_4d8a_11eb_af30_74dfbff0a97crow2_col2\" class=\"data row2 col2\" >678.30</td>\n",
       "                        <td id=\"T_eb5158be_4d8a_11eb_af30_74dfbff0a97crow2_col3\" class=\"data row2 col3\" >581.40</td>\n",
       "                        <td id=\"T_eb5158be_4d8a_11eb_af30_74dfbff0a97crow2_col4\" class=\"data row2 col4\" >678.30</td>\n",
       "                        <td id=\"T_eb5158be_4d8a_11eb_af30_74dfbff0a97crow2_col5\" class=\"data row2 col5\" >581.40</td>\n",
       "                        <td id=\"T_eb5158be_4d8a_11eb_af30_74dfbff0a97crow2_col6\" class=\"data row2 col6\" >678.30</td>\n",
       "                        <td id=\"T_eb5158be_4d8a_11eb_af30_74dfbff0a97crow2_col7\" class=\"data row2 col7\" >581.40</td>\n",
       "                        <td id=\"T_eb5158be_4d8a_11eb_af30_74dfbff0a97crow2_col8\" class=\"data row2 col8\" >678.30</td>\n",
       "                        <td id=\"T_eb5158be_4d8a_11eb_af30_74dfbff0a97crow2_col9\" class=\"data row2 col9\" >581.40</td>\n",
       "                        <td id=\"T_eb5158be_4d8a_11eb_af30_74dfbff0a97crow2_col10\" class=\"data row2 col10\" >678.30</td>\n",
       "                        <td id=\"T_eb5158be_4d8a_11eb_af30_74dfbff0a97crow2_col11\" class=\"data row2 col11\" >678.30</td>\n",
       "            </tr>\n",
       "            <tr>\n",
       "                                <th id=\"T_eb5158be_4d8a_11eb_af30_74dfbff0a97clevel1_row3\" class=\"row_heading level1 row3\" >Home</th>\n",
       "                        <td id=\"T_eb5158be_4d8a_11eb_af30_74dfbff0a97crow3_col0\" class=\"data row3 col0\" >7803.20</td>\n",
       "                        <td id=\"T_eb5158be_4d8a_11eb_af30_74dfbff0a97crow3_col1\" class=\"data row3 col1\" >7810.58</td>\n",
       "                        <td id=\"T_eb5158be_4d8a_11eb_af30_74dfbff0a97crow3_col2\" class=\"data row3 col2\" >7790.05</td>\n",
       "                        <td id=\"T_eb5158be_4d8a_11eb_af30_74dfbff0a97crow3_col3\" class=\"data row3 col3\" >7806.36</td>\n",
       "                        <td id=\"T_eb5158be_4d8a_11eb_af30_74dfbff0a97crow3_col4\" class=\"data row3 col4\" >7798.26</td>\n",
       "                        <td id=\"T_eb5158be_4d8a_11eb_af30_74dfbff0a97crow3_col5\" class=\"data row3 col5\" >7821.55</td>\n",
       "                        <td id=\"T_eb5158be_4d8a_11eb_af30_74dfbff0a97crow3_col6\" class=\"data row3 col6\" >7820.87</td>\n",
       "                        <td id=\"T_eb5158be_4d8a_11eb_af30_74dfbff0a97crow3_col7\" class=\"data row3 col7\" >7828.41</td>\n",
       "                        <td id=\"T_eb5158be_4d8a_11eb_af30_74dfbff0a97crow3_col8\" class=\"data row3 col8\" >7819.90</td>\n",
       "                        <td id=\"T_eb5158be_4d8a_11eb_af30_74dfbff0a97crow3_col9\" class=\"data row3 col9\" >7819.41</td>\n",
       "                        <td id=\"T_eb5158be_4d8a_11eb_af30_74dfbff0a97crow3_col10\" class=\"data row3 col10\" >7820.04</td>\n",
       "                        <td id=\"T_eb5158be_4d8a_11eb_af30_74dfbff0a97crow3_col11\" class=\"data row3 col11\" >5234.56</td>\n",
       "            </tr>\n",
       "            <tr>\n",
       "                                <th id=\"T_eb5158be_4d8a_11eb_af30_74dfbff0a97clevel1_row4\" class=\"row_heading level1 row4\" >Taxes</th>\n",
       "                        <td id=\"T_eb5158be_4d8a_11eb_af30_74dfbff0a97crow4_col0\" class=\"data row4 col0\" >13945.40</td>\n",
       "                        <td id=\"T_eb5158be_4d8a_11eb_af30_74dfbff0a97crow4_col1\" class=\"data row4 col1\" >11953.20</td>\n",
       "                        <td id=\"T_eb5158be_4d8a_11eb_af30_74dfbff0a97crow4_col2\" class=\"data row4 col2\" >13945.40</td>\n",
       "                        <td id=\"T_eb5158be_4d8a_11eb_af30_74dfbff0a97crow4_col3\" class=\"data row4 col3\" >11633.20</td>\n",
       "                        <td id=\"T_eb5158be_4d8a_11eb_af30_74dfbff0a97crow4_col4\" class=\"data row4 col4\" >14854.39</td>\n",
       "                        <td id=\"T_eb5158be_4d8a_11eb_af30_74dfbff0a97crow4_col5\" class=\"data row4 col5\" >11953.20</td>\n",
       "                        <td id=\"T_eb5158be_4d8a_11eb_af30_74dfbff0a97crow4_col6\" class=\"data row4 col6\" >13945.40</td>\n",
       "                        <td id=\"T_eb5158be_4d8a_11eb_af30_74dfbff0a97crow4_col7\" class=\"data row4 col7\" >11633.20</td>\n",
       "                        <td id=\"T_eb5158be_4d8a_11eb_af30_74dfbff0a97crow4_col8\" class=\"data row4 col8\" >14882.13</td>\n",
       "                        <td id=\"T_eb5158be_4d8a_11eb_af30_74dfbff0a97crow4_col9\" class=\"data row4 col9\" >11953.20</td>\n",
       "                        <td id=\"T_eb5158be_4d8a_11eb_af30_74dfbff0a97crow4_col10\" class=\"data row4 col10\" >13945.40</td>\n",
       "                        <td id=\"T_eb5158be_4d8a_11eb_af30_74dfbff0a97crow4_col11\" class=\"data row4 col11\" >13343.86</td>\n",
       "            </tr>\n",
       "            <tr>\n",
       "                                <th id=\"T_eb5158be_4d8a_11eb_af30_74dfbff0a97clevel1_row5\" class=\"row_heading level1 row5\" >Transport</th>\n",
       "                        <td id=\"T_eb5158be_4d8a_11eb_af30_74dfbff0a97crow5_col0\" class=\"data row5 col0\" >360.00</td>\n",
       "                        <td id=\"T_eb5158be_4d8a_11eb_af30_74dfbff0a97crow5_col1\" class=\"data row5 col1\" >360.00</td>\n",
       "                        <td id=\"T_eb5158be_4d8a_11eb_af30_74dfbff0a97crow5_col2\" class=\"data row5 col2\" >360.00</td>\n",
       "                        <td id=\"T_eb5158be_4d8a_11eb_af30_74dfbff0a97crow5_col3\" class=\"data row5 col3\" >360.00</td>\n",
       "                        <td id=\"T_eb5158be_4d8a_11eb_af30_74dfbff0a97crow5_col4\" class=\"data row5 col4\" >360.00</td>\n",
       "                        <td id=\"T_eb5158be_4d8a_11eb_af30_74dfbff0a97crow5_col5\" class=\"data row5 col5\" >360.00</td>\n",
       "                        <td id=\"T_eb5158be_4d8a_11eb_af30_74dfbff0a97crow5_col6\" class=\"data row5 col6\" >240.00</td>\n",
       "                        <td id=\"T_eb5158be_4d8a_11eb_af30_74dfbff0a97crow5_col7\" class=\"data row5 col7\" >360.00</td>\n",
       "                        <td id=\"T_eb5158be_4d8a_11eb_af30_74dfbff0a97crow5_col8\" class=\"data row5 col8\" >360.00</td>\n",
       "                        <td id=\"T_eb5158be_4d8a_11eb_af30_74dfbff0a97crow5_col9\" class=\"data row5 col9\" >360.00</td>\n",
       "                        <td id=\"T_eb5158be_4d8a_11eb_af30_74dfbff0a97crow5_col10\" class=\"data row5 col10\" >360.00</td>\n",
       "                        <td id=\"T_eb5158be_4d8a_11eb_af30_74dfbff0a97crow5_col11\" class=\"data row5 col11\" >360.00</td>\n",
       "            </tr>\n",
       "            <tr>\n",
       "                                <th id=\"T_eb5158be_4d8a_11eb_af30_74dfbff0a97clevel1_row6\" class=\"row_heading level1 row6\" >Vacation</th>\n",
       "                        <td id=\"T_eb5158be_4d8a_11eb_af30_74dfbff0a97crow6_col0\" class=\"data row6 col0\" >0.00</td>\n",
       "                        <td id=\"T_eb5158be_4d8a_11eb_af30_74dfbff0a97crow6_col1\" class=\"data row6 col1\" >0.00</td>\n",
       "                        <td id=\"T_eb5158be_4d8a_11eb_af30_74dfbff0a97crow6_col2\" class=\"data row6 col2\" >0.00</td>\n",
       "                        <td id=\"T_eb5158be_4d8a_11eb_af30_74dfbff0a97crow6_col3\" class=\"data row6 col3\" >0.00</td>\n",
       "                        <td id=\"T_eb5158be_4d8a_11eb_af30_74dfbff0a97crow6_col4\" class=\"data row6 col4\" >0.00</td>\n",
       "                        <td id=\"T_eb5158be_4d8a_11eb_af30_74dfbff0a97crow6_col5\" class=\"data row6 col5\" >0.00</td>\n",
       "                        <td id=\"T_eb5158be_4d8a_11eb_af30_74dfbff0a97crow6_col6\" class=\"data row6 col6\" >0.00</td>\n",
       "                        <td id=\"T_eb5158be_4d8a_11eb_af30_74dfbff0a97crow6_col7\" class=\"data row6 col7\" >0.00</td>\n",
       "                        <td id=\"T_eb5158be_4d8a_11eb_af30_74dfbff0a97crow6_col8\" class=\"data row6 col8\" >0.00</td>\n",
       "                        <td id=\"T_eb5158be_4d8a_11eb_af30_74dfbff0a97crow6_col9\" class=\"data row6 col9\" >0.00</td>\n",
       "                        <td id=\"T_eb5158be_4d8a_11eb_af30_74dfbff0a97crow6_col10\" class=\"data row6 col10\" >0.00</td>\n",
       "                        <td id=\"T_eb5158be_4d8a_11eb_af30_74dfbff0a97crow6_col11\" class=\"data row6 col11\" >0.00</td>\n",
       "            </tr>\n",
       "            <tr>\n",
       "                        <th id=\"T_eb5158be_4d8a_11eb_af30_74dfbff0a97clevel0_row7\" class=\"row_heading level0 row7\" >Income</th>\n",
       "                        <th id=\"T_eb5158be_4d8a_11eb_af30_74dfbff0a97clevel1_row7\" class=\"row_heading level1 row7\" >US</th>\n",
       "                        <td id=\"T_eb5158be_4d8a_11eb_af30_74dfbff0a97crow7_col0\" class=\"data row7 col0\" >-36677.90</td>\n",
       "                        <td id=\"T_eb5158be_4d8a_11eb_af30_74dfbff0a97crow7_col1\" class=\"data row7 col1\" >-31438.20</td>\n",
       "                        <td id=\"T_eb5158be_4d8a_11eb_af30_74dfbff0a97crow7_col2\" class=\"data row7 col2\" >-33927.90</td>\n",
       "                        <td id=\"T_eb5158be_4d8a_11eb_af30_74dfbff0a97crow7_col3\" class=\"data row7 col3\" >-27955.98</td>\n",
       "                        <td id=\"T_eb5158be_4d8a_11eb_af30_74dfbff0a97crow7_col4\" class=\"data row7 col4\" >-36728.80</td>\n",
       "                        <td id=\"T_eb5158be_4d8a_11eb_af30_74dfbff0a97crow7_col5\" class=\"data row7 col5\" >-31368.23</td>\n",
       "                        <td id=\"T_eb5158be_4d8a_11eb_af30_74dfbff0a97crow7_col6\" class=\"data row7 col6\" >-34178.35</td>\n",
       "                        <td id=\"T_eb5158be_4d8a_11eb_af30_74dfbff0a97crow7_col7\" class=\"data row7 col7\" >-27953.46</td>\n",
       "                        <td id=\"T_eb5158be_4d8a_11eb_af30_74dfbff0a97crow7_col8\" class=\"data row7 col8\" >-36793.16</td>\n",
       "                        <td id=\"T_eb5158be_4d8a_11eb_af30_74dfbff0a97crow7_col9\" class=\"data row7 col9\" >-32343.17</td>\n",
       "                        <td id=\"T_eb5158be_4d8a_11eb_af30_74dfbff0a97crow7_col10\" class=\"data row7 col10\" >-34095.51</td>\n",
       "                        <td id=\"T_eb5158be_4d8a_11eb_af30_74dfbff0a97crow7_col11\" class=\"data row7 col11\" >-32699.05</td>\n",
       "            </tr>\n",
       "    </tbody></table>"
      ],
      "text/plain": [
       "<pandas.io.formats.style.Styler at 0x7f8f52b649a0>"
      ]
     },
     "execution_count": 23,
     "metadata": {},
     "output_type": "execute_result"
    }
   ],
   "source": [
    "df_L1 = df.groupby([\"Account_L0\", \"Account_L1\"]).sum()\n",
    "df_L1.style.set_table_styles(\n",
    "[{'selector': 'tr:hover',\n",
    "  'props': [('background-color', 'yellow')]}]\n",
    ")"
   ]
  },
  {
   "cell_type": "code",
   "execution_count": 24,
   "metadata": {},
   "outputs": [
    {
     "data": {
      "text/html": [
       "<style  type=\"text/css\" >\n",
       "    #T_eb557188_4d8a_11eb_af30_74dfbff0a97c tr:hover {\n",
       "          background-color: yellow;\n",
       "    }</style><table id=\"T_eb557188_4d8a_11eb_af30_74dfbff0a97c\" ><thead>    <tr>        <th class=\"blank level0\" ></th>        <th class=\"col_heading level0 col0\" colspan=12>Amount (USD)</th>    </tr>    <tr>        <th class=\"index_name level1\" >Quarter</th>        <th class=\"col_heading level1 col0\" >2018-Q1</th>        <th class=\"col_heading level1 col1\" >2018-Q2</th>        <th class=\"col_heading level1 col2\" >2018-Q3</th>        <th class=\"col_heading level1 col3\" >2018-Q4</th>        <th class=\"col_heading level1 col4\" >2019-Q1</th>        <th class=\"col_heading level1 col5\" >2019-Q2</th>        <th class=\"col_heading level1 col6\" >2019-Q3</th>        <th class=\"col_heading level1 col7\" >2019-Q4</th>        <th class=\"col_heading level1 col8\" >2020-Q1</th>        <th class=\"col_heading level1 col9\" >2020-Q2</th>        <th class=\"col_heading level1 col10\" >2020-Q3</th>        <th class=\"col_heading level1 col11\" >2020-Q4</th>    </tr>    <tr>        <th class=\"index_name level0\" >Account_L0</th>        <th class=\"blank\" ></th>        <th class=\"blank\" ></th>        <th class=\"blank\" ></th>        <th class=\"blank\" ></th>        <th class=\"blank\" ></th>        <th class=\"blank\" ></th>        <th class=\"blank\" ></th>        <th class=\"blank\" ></th>        <th class=\"blank\" ></th>        <th class=\"blank\" ></th>        <th class=\"blank\" ></th>        <th class=\"blank\" ></th>    </tr></thead><tbody>\n",
       "                <tr>\n",
       "                        <th id=\"T_eb557188_4d8a_11eb_af30_74dfbff0a97clevel0_row0\" class=\"row_heading level0 row0\" >Expenses</th>\n",
       "                        <td id=\"T_eb557188_4d8a_11eb_af30_74dfbff0a97crow0_col0\" class=\"data row0 col0\" >24330.05</td>\n",
       "                        <td id=\"T_eb557188_4d8a_11eb_af30_74dfbff0a97crow0_col1\" class=\"data row0 col1\" >22230.18</td>\n",
       "                        <td id=\"T_eb557188_4d8a_11eb_af30_74dfbff0a97crow0_col2\" class=\"data row0 col2\" >24541.97</td>\n",
       "                        <td id=\"T_eb557188_4d8a_11eb_af30_74dfbff0a97crow0_col3\" class=\"data row0 col3\" >22077.49</td>\n",
       "                        <td id=\"T_eb557188_4d8a_11eb_af30_74dfbff0a97crow0_col4\" class=\"data row0 col4\" >25166.88</td>\n",
       "                        <td id=\"T_eb557188_4d8a_11eb_af30_74dfbff0a97crow0_col5\" class=\"data row0 col5\" >22623.04</td>\n",
       "                        <td id=\"T_eb557188_4d8a_11eb_af30_74dfbff0a97crow0_col6\" class=\"data row0 col6\" >25106.28</td>\n",
       "                        <td id=\"T_eb557188_4d8a_11eb_af30_74dfbff0a97crow0_col7\" class=\"data row0 col7\" >22129.43</td>\n",
       "                        <td id=\"T_eb557188_4d8a_11eb_af30_74dfbff0a97crow0_col8\" class=\"data row0 col8\" >25573.07</td>\n",
       "                        <td id=\"T_eb557188_4d8a_11eb_af30_74dfbff0a97crow0_col9\" class=\"data row0 col9\" >22548.52</td>\n",
       "                        <td id=\"T_eb557188_4d8a_11eb_af30_74dfbff0a97crow0_col10\" class=\"data row0 col10\" >24578.29</td>\n",
       "                        <td id=\"T_eb557188_4d8a_11eb_af30_74dfbff0a97crow0_col11\" class=\"data row0 col11\" >21191.34</td>\n",
       "            </tr>\n",
       "            <tr>\n",
       "                        <th id=\"T_eb557188_4d8a_11eb_af30_74dfbff0a97clevel0_row1\" class=\"row_heading level0 row1\" >Income</th>\n",
       "                        <td id=\"T_eb557188_4d8a_11eb_af30_74dfbff0a97crow1_col0\" class=\"data row1 col0\" >-36677.90</td>\n",
       "                        <td id=\"T_eb557188_4d8a_11eb_af30_74dfbff0a97crow1_col1\" class=\"data row1 col1\" >-31438.20</td>\n",
       "                        <td id=\"T_eb557188_4d8a_11eb_af30_74dfbff0a97crow1_col2\" class=\"data row1 col2\" >-33927.90</td>\n",
       "                        <td id=\"T_eb557188_4d8a_11eb_af30_74dfbff0a97crow1_col3\" class=\"data row1 col3\" >-27955.98</td>\n",
       "                        <td id=\"T_eb557188_4d8a_11eb_af30_74dfbff0a97crow1_col4\" class=\"data row1 col4\" >-36728.80</td>\n",
       "                        <td id=\"T_eb557188_4d8a_11eb_af30_74dfbff0a97crow1_col5\" class=\"data row1 col5\" >-31368.23</td>\n",
       "                        <td id=\"T_eb557188_4d8a_11eb_af30_74dfbff0a97crow1_col6\" class=\"data row1 col6\" >-34178.35</td>\n",
       "                        <td id=\"T_eb557188_4d8a_11eb_af30_74dfbff0a97crow1_col7\" class=\"data row1 col7\" >-27953.46</td>\n",
       "                        <td id=\"T_eb557188_4d8a_11eb_af30_74dfbff0a97crow1_col8\" class=\"data row1 col8\" >-36793.16</td>\n",
       "                        <td id=\"T_eb557188_4d8a_11eb_af30_74dfbff0a97crow1_col9\" class=\"data row1 col9\" >-32343.17</td>\n",
       "                        <td id=\"T_eb557188_4d8a_11eb_af30_74dfbff0a97crow1_col10\" class=\"data row1 col10\" >-34095.51</td>\n",
       "                        <td id=\"T_eb557188_4d8a_11eb_af30_74dfbff0a97crow1_col11\" class=\"data row1 col11\" >-32699.05</td>\n",
       "            </tr>\n",
       "    </tbody></table>"
      ],
      "text/plain": [
       "<pandas.io.formats.style.Styler at 0x7f8f5086ea00>"
      ]
     },
     "execution_count": 24,
     "metadata": {},
     "output_type": "execute_result"
    }
   ],
   "source": [
    "df_L0 = df.groupby([\"Account_L0\"]).sum()\n",
    "df_L0.style.set_table_styles(\n",
    "[{'selector': 'tr:hover',\n",
    "  'props': [('background-color', 'yellow')]}]\n",
    ")"
   ]
  },
  {
   "cell_type": "code",
   "execution_count": 25,
   "metadata": {},
   "outputs": [
    {
     "data": {
      "text/html": [
       "<div>\n",
       "<style scoped>\n",
       "    .dataframe tbody tr th:only-of-type {\n",
       "        vertical-align: middle;\n",
       "    }\n",
       "\n",
       "    .dataframe tbody tr th {\n",
       "        vertical-align: top;\n",
       "    }\n",
       "\n",
       "    .dataframe thead tr th {\n",
       "        text-align: left;\n",
       "    }\n",
       "</style>\n",
       "<table border=\"1\" class=\"dataframe\">\n",
       "  <thead>\n",
       "    <tr>\n",
       "      <th></th>\n",
       "      <th colspan=\"12\" halign=\"left\">Amount (USD)</th>\n",
       "    </tr>\n",
       "    <tr>\n",
       "      <th>Quarter</th>\n",
       "      <th>2018-Q1</th>\n",
       "      <th>2018-Q2</th>\n",
       "      <th>2018-Q3</th>\n",
       "      <th>2018-Q4</th>\n",
       "      <th>2019-Q1</th>\n",
       "      <th>2019-Q2</th>\n",
       "      <th>2019-Q3</th>\n",
       "      <th>2019-Q4</th>\n",
       "      <th>2020-Q1</th>\n",
       "      <th>2020-Q2</th>\n",
       "      <th>2020-Q3</th>\n",
       "      <th>2020-Q4</th>\n",
       "    </tr>\n",
       "  </thead>\n",
       "  <tbody>\n",
       "    <tr>\n",
       "      <th>Net income</th>\n",
       "      <td>12347.85</td>\n",
       "      <td>9208.02</td>\n",
       "      <td>9385.93</td>\n",
       "      <td>5878.49</td>\n",
       "      <td>11561.92</td>\n",
       "      <td>8745.19</td>\n",
       "      <td>9072.07</td>\n",
       "      <td>5824.03</td>\n",
       "      <td>11220.09</td>\n",
       "      <td>9794.65</td>\n",
       "      <td>9517.22</td>\n",
       "      <td>11507.71</td>\n",
       "    </tr>\n",
       "  </tbody>\n",
       "</table>\n",
       "</div>"
      ],
      "text/plain": [
       "           Amount (USD)                                                                                                      \n",
       "Quarter         2018-Q1  2018-Q2  2018-Q3  2018-Q4   2019-Q1  2019-Q2  2019-Q3  2019-Q4   2020-Q1  2020-Q2  2020-Q3   2020-Q4\n",
       "Net income     12347.85  9208.02  9385.93  5878.49  11561.92  8745.19  9072.07  5824.03  11220.09  9794.65  9517.22  11507.71"
      ]
     },
     "execution_count": 25,
     "metadata": {},
     "output_type": "execute_result"
    }
   ],
   "source": [
    "# Net income\n",
    "-df_L0.sum(axis=0).to_frame().rename(columns={0: \"Net income\"}).transpose()"
   ]
  },
  {
   "cell_type": "code",
   "execution_count": 26,
   "metadata": {},
   "outputs": [
    {
     "data": {
      "text/html": [
       "<div>\n",
       "<style scoped>\n",
       "    .dataframe tbody tr th:only-of-type {\n",
       "        vertical-align: middle;\n",
       "    }\n",
       "\n",
       "    .dataframe tbody tr th {\n",
       "        vertical-align: top;\n",
       "    }\n",
       "\n",
       "    .dataframe thead th {\n",
       "        text-align: right;\n",
       "    }\n",
       "</style>\n",
       "<table border=\"1\" class=\"dataframe\">\n",
       "  <thead>\n",
       "    <tr style=\"text-align: right;\">\n",
       "      <th>Account_L0</th>\n",
       "      <th>level_0</th>\n",
       "      <th>Quarter</th>\n",
       "      <th>Expenses</th>\n",
       "      <th>Income</th>\n",
       "    </tr>\n",
       "  </thead>\n",
       "  <tbody>\n",
       "    <tr>\n",
       "      <th>0</th>\n",
       "      <td>Amount (USD)</td>\n",
       "      <td>2018-Q1</td>\n",
       "      <td>24330.05</td>\n",
       "      <td>36677.90</td>\n",
       "    </tr>\n",
       "    <tr>\n",
       "      <th>1</th>\n",
       "      <td>Amount (USD)</td>\n",
       "      <td>2018-Q2</td>\n",
       "      <td>22230.18</td>\n",
       "      <td>31438.20</td>\n",
       "    </tr>\n",
       "    <tr>\n",
       "      <th>2</th>\n",
       "      <td>Amount (USD)</td>\n",
       "      <td>2018-Q3</td>\n",
       "      <td>24541.97</td>\n",
       "      <td>33927.90</td>\n",
       "    </tr>\n",
       "    <tr>\n",
       "      <th>3</th>\n",
       "      <td>Amount (USD)</td>\n",
       "      <td>2018-Q4</td>\n",
       "      <td>22077.49</td>\n",
       "      <td>27955.98</td>\n",
       "    </tr>\n",
       "    <tr>\n",
       "      <th>4</th>\n",
       "      <td>Amount (USD)</td>\n",
       "      <td>2019-Q1</td>\n",
       "      <td>25166.88</td>\n",
       "      <td>36728.80</td>\n",
       "    </tr>\n",
       "    <tr>\n",
       "      <th>5</th>\n",
       "      <td>Amount (USD)</td>\n",
       "      <td>2019-Q2</td>\n",
       "      <td>22623.04</td>\n",
       "      <td>31368.23</td>\n",
       "    </tr>\n",
       "    <tr>\n",
       "      <th>6</th>\n",
       "      <td>Amount (USD)</td>\n",
       "      <td>2019-Q3</td>\n",
       "      <td>25106.28</td>\n",
       "      <td>34178.35</td>\n",
       "    </tr>\n",
       "    <tr>\n",
       "      <th>7</th>\n",
       "      <td>Amount (USD)</td>\n",
       "      <td>2019-Q4</td>\n",
       "      <td>22129.43</td>\n",
       "      <td>27953.46</td>\n",
       "    </tr>\n",
       "    <tr>\n",
       "      <th>8</th>\n",
       "      <td>Amount (USD)</td>\n",
       "      <td>2020-Q1</td>\n",
       "      <td>25573.07</td>\n",
       "      <td>36793.16</td>\n",
       "    </tr>\n",
       "    <tr>\n",
       "      <th>9</th>\n",
       "      <td>Amount (USD)</td>\n",
       "      <td>2020-Q2</td>\n",
       "      <td>22548.52</td>\n",
       "      <td>32343.17</td>\n",
       "    </tr>\n",
       "    <tr>\n",
       "      <th>10</th>\n",
       "      <td>Amount (USD)</td>\n",
       "      <td>2020-Q3</td>\n",
       "      <td>24578.29</td>\n",
       "      <td>34095.51</td>\n",
       "    </tr>\n",
       "    <tr>\n",
       "      <th>11</th>\n",
       "      <td>Amount (USD)</td>\n",
       "      <td>2020-Q4</td>\n",
       "      <td>21191.34</td>\n",
       "      <td>32699.05</td>\n",
       "    </tr>\n",
       "  </tbody>\n",
       "</table>\n",
       "</div>"
      ],
      "text/plain": [
       "Account_L0       level_0  Quarter  Expenses    Income\n",
       "0           Amount (USD)  2018-Q1  24330.05  36677.90\n",
       "1           Amount (USD)  2018-Q2  22230.18  31438.20\n",
       "2           Amount (USD)  2018-Q3  24541.97  33927.90\n",
       "3           Amount (USD)  2018-Q4  22077.49  27955.98\n",
       "4           Amount (USD)  2019-Q1  25166.88  36728.80\n",
       "5           Amount (USD)  2019-Q2  22623.04  31368.23\n",
       "6           Amount (USD)  2019-Q3  25106.28  34178.35\n",
       "7           Amount (USD)  2019-Q4  22129.43  27953.46\n",
       "8           Amount (USD)  2020-Q1  25573.07  36793.16\n",
       "9           Amount (USD)  2020-Q2  22548.52  32343.17\n",
       "10          Amount (USD)  2020-Q3  24578.29  34095.51\n",
       "11          Amount (USD)  2020-Q4  21191.34  32699.05"
      ]
     },
     "execution_count": 26,
     "metadata": {},
     "output_type": "execute_result"
    }
   ],
   "source": [
    "# Invert the sign of the \"Income\" account. Negative income is counter-intuitive.\n",
    "df_L0.loc[\"Income\"] = -df_L0.loc[\"Income\"]\n",
    "df_L0 = df_L0.transpose().reset_index()\n",
    "df_L0"
   ]
  },
  {
   "cell_type": "code",
   "execution_count": 27,
   "metadata": {},
   "outputs": [
    {
     "data": {
      "image/png": "[encoded data removed]",
      "text/plain": [
       "<Figure size 1080x360 with 1 Axes>"
      ]
     },
     "metadata": {
      "needs_background": "light"
     },
     "output_type": "display_data"
    }
   ],
   "source": [
    "df_L0.columns.name = \"Account\"\n",
    "df_L0.plot.bar(x=\"Quarter\", y=[\"Income\", \"Expenses\"], xlabel=\"Quarter\", ylabel=df_L0[\"level_0\"][0], rot=90)\n",
    "plt.show()"
   ]
  },
  {
   "cell_type": "markdown",
   "metadata": {},
   "source": [
    "## Treemap Plot of Expenses"
   ]
  },
  {
   "cell_type": "code",
   "execution_count": 28,
   "metadata": {},
   "outputs": [
    {
     "data": {
      "text/html": [
       "<div>\n",
       "<style scoped>\n",
       "    .dataframe tbody tr th:only-of-type {\n",
       "        vertical-align: middle;\n",
       "    }\n",
       "\n",
       "    .dataframe tbody tr th {\n",
       "        vertical-align: top;\n",
       "    }\n",
       "\n",
       "    .dataframe thead th {\n",
       "        text-align: right;\n",
       "    }\n",
       "</style>\n",
       "<table border=\"1\" class=\"dataframe\">\n",
       "  <thead>\n",
       "    <tr style=\"text-align: right;\">\n",
       "      <th></th>\n",
       "      <th></th>\n",
       "      <th>0</th>\n",
       "    </tr>\n",
       "    <tr>\n",
       "      <th>Account_L0</th>\n",
       "      <th>Account_L1</th>\n",
       "      <th></th>\n",
       "    </tr>\n",
       "  </thead>\n",
       "  <tbody>\n",
       "    <tr>\n",
       "      <th rowspan=\"7\" valign=\"top\">Expenses</th>\n",
       "      <th>Taxes</th>\n",
       "      <td>157987.98</td>\n",
       "    </tr>\n",
       "    <tr>\n",
       "      <th>Home</th>\n",
       "      <td>91173.19</td>\n",
       "    </tr>\n",
       "    <tr>\n",
       "      <th>Food</th>\n",
       "      <td>20461.92</td>\n",
       "    </tr>\n",
       "    <tr>\n",
       "      <th>Health</th>\n",
       "      <td>7655.10</td>\n",
       "    </tr>\n",
       "    <tr>\n",
       "      <th>Transport</th>\n",
       "      <td>4200.00</td>\n",
       "    </tr>\n",
       "    <tr>\n",
       "      <th>Financial</th>\n",
       "      <td>618.35</td>\n",
       "    </tr>\n",
       "    <tr>\n",
       "      <th>Vacation</th>\n",
       "      <td>0.00</td>\n",
       "    </tr>\n",
       "    <tr>\n",
       "      <th>Income</th>\n",
       "      <th>US</th>\n",
       "      <td>-396159.71</td>\n",
       "    </tr>\n",
       "  </tbody>\n",
       "</table>\n",
       "</div>"
      ],
      "text/plain": [
       "                               0\n",
       "Account_L0 Account_L1           \n",
       "Expenses   Taxes       157987.98\n",
       "           Home         91173.19\n",
       "           Food         20461.92\n",
       "           Health        7655.10\n",
       "           Transport     4200.00\n",
       "           Financial      618.35\n",
       "           Vacation         0.00\n",
       "Income     US         -396159.71"
      ]
     },
     "execution_count": 28,
     "metadata": {},
     "output_type": "execute_result"
    }
   ],
   "source": [
    "tot = df_L1.sum(axis=1).to_frame().sort_values(by=0, ascending=False)\n",
    "tot"
   ]
  },
  {
   "cell_type": "code",
   "execution_count": 29,
   "metadata": {},
   "outputs": [
    {
     "data": {
      "image/png": "[encoded data removed]",
      "text/plain": [
       "<Figure size 720x720 with 6 Axes>"
      ]
     },
     "metadata": {},
     "output_type": "display_data"
    }
   ],
   "source": [
    "data = tot.loc[\"Expenses\"].sort_values(by=0, ascending=False)\n",
    "idx = [k[0] != 0 for k in data.values]\n",
    "values = data.values[idx]\n",
    "labels = data.index[idx]\n",
    "\n",
    "width = 1\n",
    "height = 0.5\n",
    "values_norm = squarify.normalize_sizes(values, width, height)\n",
    "rects = squarify.squarify(values_norm, 0, 0, width, height)\n",
    "\n",
    "fig = plt.figure(figsize=(10, 10))\n",
    "fig.suptitle('Expenses', x=0.5, y=0.55, fontsize=16)\n",
    "axes = [fig.add_axes([rect['x'], rect['y'], rect['dx'], rect['dy'], ]) for rect in rects]\n",
    "\n",
    "for ax, txt, color in zip(axes, labels, plt.cm.Pastel1.colors):\n",
    "    ax.text(0.5, 0.5, txt, horizontalalignment='center', verticalalignment='center')\n",
    "    ax.set_yticks([])\n",
    "    ax.set_xticks([])\n",
    "    ax.set_facecolor(color)    \n",
    "plt.show()"
   ]
  }
 ],
 "metadata": {
  "kernelspec": {
   "display_name": "Python 3",
   "language": "python",
   "name": "python3"
  },
  "language_info": {
   "codemirror_mode": {
    "name": "ipython",
    "version": 3
   },
   "file_extension": ".py",
   "mimetype": "text/x-python",
   "name": "python",
   "nbconvert_exporter": "python",
   "pygments_lexer": "ipython3",
   "version": "3.9.1"
  }
 },
 "nbformat": 4,
 "nbformat_minor": 4
}
