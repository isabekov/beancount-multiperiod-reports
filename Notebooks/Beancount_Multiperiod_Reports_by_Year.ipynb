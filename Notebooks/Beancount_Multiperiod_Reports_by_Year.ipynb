{
 "cells": [
  {
   "cell_type": "markdown",
   "metadata": {},
   "source": [
    "# Multiperiod Reports by Year in Beancount\n",
    "If you've ever used [hledger](https://hledger.org/), you might like its ability to produce nice reports. One of the reports' feature is the table structure, where rows are accounts and columns are weeks, months, quarters or years. Looking at earnings and spendings as a function of time can give you more insights about your finances.\n",
    "\n",
    "However, if you are using [beancount](http://furius.ca/beancount/), this feature is not yet supported in the command line interface. You need to use [fava](https://github.com/beancount/fava), an awesome web-interface for beancount, which has a graph drawing capability as described in this tutorial. fava is not ideal and sometimes you might need more custom reports than the ones available in fava.\n",
    "\n",
    "This notebook provides methodology and tools to:\n",
    "- Process BQL query's output using Pandas library\n",
    "- Generate yearly totals (multiperiod reports by year) by pivoting a table\n",
    "- Aggregate values at different account levels for the provided account hierarchy\n",
    "- Draw treemap plots of expenses for all time period\n",
    "\n",
    "Details are in [this blog post](https://www.isabekov.pro/multiperiod-hledger-style-reports-in-beancount-pivoting-a-table/)."
   ]
  },
  {
   "cell_type": "code",
   "execution_count": 1,
   "metadata": {},
   "outputs": [],
   "source": [
    "from beancount.loader import load_file\n",
    "from beancount.query.query import run_query\n",
    "from beancount.query.numberify import numberify_results\n",
    "import os\n",
    "import numpy as np\n",
    "import pandas as pd\n",
    "pd.set_option('display.max_column', 15)\n",
    "pd.set_option('display.max_rows', 20)\n",
    "pd.set_option('display.max_seq_items',None)\n",
    "pd.set_option('display.max_colwidth', 50000)\n",
    "pd.set_option('display.width', 5000000)\n",
    "pd.set_option('display.expand_frame_repr', True)\n",
    "pd.set_option('display.notebook_repr_html', True)\n",
    "pd.set_option('precision', 2)\n",
    "pd.set_option('expand_frame_repr', True)\n",
    "import squarify\n",
    "from matplotlib import pyplot as plt\n",
    "font = {'weight' : 'normal',\n",
    "        'size'   : 12}\n",
    "plt.rc('font', **font)\n",
    "plt.rcParams[\"figure.figsize\"] = (15, 5)"
   ]
  },
  {
   "cell_type": "markdown",
   "metadata": {},
   "source": [
    "## Create and Load an Example Beancount Journal File"
   ]
  },
  {
   "cell_type": "code",
   "execution_count": 2,
   "metadata": {},
   "outputs": [
    {
     "data": {
      "text/plain": [
       "'USD'"
      ]
     },
     "execution_count": 2,
     "metadata": {},
     "output_type": "execute_result"
    }
   ],
   "source": [
    "FileName = \"example.beancount\"\n",
    "if not os.path.isfile(FileName):\n",
    "    os.system(\"bean-example > {}\".format(FileName))      \n",
    "    \n",
    "entries, _, opts = load_file(FileName)\n",
    "currency = opts[\"operating_currency\"][0]\n",
    "# Main currency\n",
    "currency"
   ]
  },
  {
   "cell_type": "markdown",
   "metadata": {},
   "source": [
    "## Investigating a Transaction"
   ]
  },
  {
   "cell_type": "code",
   "execution_count": 3,
   "metadata": {},
   "outputs": [
    {
     "data": {
      "text/plain": [
       "2245"
      ]
     },
     "execution_count": 3,
     "metadata": {},
     "output_type": "execute_result"
    }
   ],
   "source": [
    "# Not all of the entries are transactions\n",
    "len(entries)"
   ]
  },
  {
   "cell_type": "code",
   "execution_count": 4,
   "metadata": {},
   "outputs": [
    {
     "data": {
      "text/plain": [
       "beancount.core.data.Transaction"
      ]
     },
     "execution_count": 4,
     "metadata": {},
     "output_type": "execute_result"
    }
   ],
   "source": [
    "type(entries[-1])"
   ]
  },
  {
   "cell_type": "code",
   "execution_count": 5,
   "metadata": {},
   "outputs": [
    {
     "data": {
      "text/plain": [
       "'Assets:US:BofA:Checking'"
      ]
     },
     "execution_count": 5,
     "metadata": {},
     "output_type": "execute_result"
    }
   ],
   "source": [
    "entries[-1].postings[0].account"
   ]
  },
  {
   "cell_type": "code",
   "execution_count": 6,
   "metadata": {},
   "outputs": [
    {
     "data": {
      "text/plain": [
       "2832.14 USD"
      ]
     },
     "execution_count": 6,
     "metadata": {},
     "output_type": "execute_result"
    }
   ],
   "source": [
    "entries[-1].postings[0].units"
   ]
  },
  {
   "cell_type": "code",
   "execution_count": 7,
   "metadata": {},
   "outputs": [
    {
     "data": {
      "text/plain": [
       "'Hoogle'"
      ]
     },
     "execution_count": 7,
     "metadata": {},
     "output_type": "execute_result"
    }
   ],
   "source": [
    "entries[-1].payee"
   ]
  },
  {
   "cell_type": "code",
   "execution_count": 8,
   "metadata": {},
   "outputs": [
    {
     "data": {
      "text/plain": [
       "'Payroll'"
      ]
     },
     "execution_count": 8,
     "metadata": {},
     "output_type": "execute_result"
    }
   ],
   "source": [
    "entries[-1].narration"
   ]
  },
  {
   "cell_type": "markdown",
   "metadata": {},
   "source": [
    "## Executing a BQL Query"
   ]
  },
  {
   "cell_type": "code",
   "execution_count": 9,
   "metadata": {},
   "outputs": [
    {
     "data": {
      "text/plain": [
       "[('account', str),\n",
       " ('year', int),\n",
       " ('amount', beancount.core.inventory.Inventory)]"
      ]
     },
     "execution_count": 9,
     "metadata": {},
     "output_type": "execute_result"
    }
   ],
   "source": [
    "cols, rows = run_query(entries, opts, \n",
    "                       \"SELECT   account,   YEAR(date) AS year,   SUM(convert(position, '{}', date)) AS amount\\\n",
    "                        WHERE    account ~ 'Expenses'\\\n",
    "                        OR       account ~ 'Income'\\\n",
    "                        GROUP BY account, year ORDER BY account, year\".format(currency)\n",
    "                      )\n",
    "cols"
   ]
  },
  {
   "cell_type": "code",
   "execution_count": 10,
   "metadata": {},
   "outputs": [
    {
     "data": {
      "text/plain": [
       "[ResultRow(account='Expenses:Financial:Commissions', year=2018, amount=(116.35 USD)),\n",
       " ResultRow(account='Expenses:Financial:Commissions', year=2019, amount=(125.30 USD)),\n",
       " ResultRow(account='Expenses:Financial:Commissions', year=2020, amount=(232.70 USD))]"
      ]
     },
     "execution_count": 10,
     "metadata": {},
     "output_type": "execute_result"
    }
   ],
   "source": [
    "rows[:3]"
   ]
  },
  {
   "cell_type": "code",
   "execution_count": 11,
   "metadata": {},
   "outputs": [
    {
     "data": {
      "text/plain": [
       "[('account', str),\n",
       " ('year', int),\n",
       " ('amount (USD)', decimal.Decimal),\n",
       " ('amount (VACHR)', decimal.Decimal),\n",
       " ('amount (IRAUSD)', decimal.Decimal)]"
      ]
     },
     "execution_count": 11,
     "metadata": {},
     "output_type": "execute_result"
    }
   ],
   "source": [
    "cols, rows = numberify_results(cols, rows)\n",
    "cols"
   ]
  },
  {
   "cell_type": "code",
   "execution_count": 12,
   "metadata": {},
   "outputs": [
    {
     "data": {
      "text/plain": [
       "[['Expenses:Financial:Commissions', 2018, Decimal('116.35'), None, None],\n",
       " ['Expenses:Financial:Commissions', 2019, Decimal('125.30'), None, None],\n",
       " ['Expenses:Financial:Commissions', 2020, Decimal('232.70'), None, None]]"
      ]
     },
     "execution_count": 12,
     "metadata": {},
     "output_type": "execute_result"
    }
   ],
   "source": [
    "rows[:3]"
   ]
  },
  {
   "cell_type": "markdown",
   "metadata": {},
   "source": [
    "## Converting Result Rows to a Pandas Dataframe"
   ]
  },
  {
   "cell_type": "code",
   "execution_count": 13,
   "metadata": {},
   "outputs": [
    {
     "data": {
      "text/html": [
       "<div>\n",
       "<style scoped>\n",
       "    .dataframe tbody tr th:only-of-type {\n",
       "        vertical-align: middle;\n",
       "    }\n",
       "\n",
       "    .dataframe tbody tr th {\n",
       "        vertical-align: top;\n",
       "    }\n",
       "\n",
       "    .dataframe thead th {\n",
       "        text-align: right;\n",
       "    }\n",
       "</style>\n",
       "<table border=\"1\" class=\"dataframe\">\n",
       "  <thead>\n",
       "    <tr style=\"text-align: right;\">\n",
       "      <th></th>\n",
       "      <th>account</th>\n",
       "      <th>year</th>\n",
       "      <th>amount (USD)</th>\n",
       "      <th>amount (VACHR)</th>\n",
       "      <th>amount (IRAUSD)</th>\n",
       "    </tr>\n",
       "  </thead>\n",
       "  <tbody>\n",
       "    <tr>\n",
       "      <th>0</th>\n",
       "      <td>Expenses:Financial:Commissions</td>\n",
       "      <td>2018</td>\n",
       "      <td>116.35</td>\n",
       "      <td>None</td>\n",
       "      <td>None</td>\n",
       "    </tr>\n",
       "    <tr>\n",
       "      <th>1</th>\n",
       "      <td>Expenses:Financial:Commissions</td>\n",
       "      <td>2019</td>\n",
       "      <td>125.30</td>\n",
       "      <td>None</td>\n",
       "      <td>None</td>\n",
       "    </tr>\n",
       "    <tr>\n",
       "      <th>2</th>\n",
       "      <td>Expenses:Financial:Commissions</td>\n",
       "      <td>2020</td>\n",
       "      <td>232.70</td>\n",
       "      <td>None</td>\n",
       "      <td>None</td>\n",
       "    </tr>\n",
       "    <tr>\n",
       "      <th>3</th>\n",
       "      <td>Expenses:Financial:Fees</td>\n",
       "      <td>2018</td>\n",
       "      <td>48.00</td>\n",
       "      <td>None</td>\n",
       "      <td>None</td>\n",
       "    </tr>\n",
       "    <tr>\n",
       "      <th>4</th>\n",
       "      <td>Expenses:Financial:Fees</td>\n",
       "      <td>2019</td>\n",
       "      <td>48.00</td>\n",
       "      <td>None</td>\n",
       "      <td>None</td>\n",
       "    </tr>\n",
       "  </tbody>\n",
       "</table>\n",
       "</div>"
      ],
      "text/plain": [
       "                          account  year amount (USD) amount (VACHR) amount (IRAUSD)\n",
       "0  Expenses:Financial:Commissions  2018       116.35           None            None\n",
       "1  Expenses:Financial:Commissions  2019       125.30           None            None\n",
       "2  Expenses:Financial:Commissions  2020       232.70           None            None\n",
       "3         Expenses:Financial:Fees  2018        48.00           None            None\n",
       "4         Expenses:Financial:Fees  2019        48.00           None            None"
      ]
     },
     "execution_count": 13,
     "metadata": {},
     "output_type": "execute_result"
    }
   ],
   "source": [
    "df = pd.DataFrame(rows, columns=[k[0] for k in cols])\n",
    "df.head()"
   ]
  },
  {
   "cell_type": "code",
   "execution_count": 14,
   "metadata": {},
   "outputs": [
    {
     "data": {
      "text/plain": [
       "Account            object\n",
       "Year                int64\n",
       "Amount (USD)       object\n",
       "amount (VACHR)     object\n",
       "amount (IRAUSD)    object\n",
       "dtype: object"
      ]
     },
     "execution_count": 14,
     "metadata": {},
     "output_type": "execute_result"
    }
   ],
   "source": [
    "df.rename(columns={\"account\": \"Account\", \"year\":\"Year\", \"amount ({})\".format(currency): \"Amount ({})\".format(currency)}, inplace=True)\n",
    "df.dtypes"
   ]
  },
  {
   "cell_type": "code",
   "execution_count": 15,
   "metadata": {},
   "outputs": [
    {
     "data": {
      "text/html": [
       "<div>\n",
       "<style scoped>\n",
       "    .dataframe tbody tr th:only-of-type {\n",
       "        vertical-align: middle;\n",
       "    }\n",
       "\n",
       "    .dataframe tbody tr th {\n",
       "        vertical-align: top;\n",
       "    }\n",
       "\n",
       "    .dataframe thead th {\n",
       "        text-align: right;\n",
       "    }\n",
       "</style>\n",
       "<table border=\"1\" class=\"dataframe\">\n",
       "  <thead>\n",
       "    <tr style=\"text-align: right;\">\n",
       "      <th></th>\n",
       "      <th>Account</th>\n",
       "      <th>Year</th>\n",
       "      <th>Amount (USD)</th>\n",
       "    </tr>\n",
       "  </thead>\n",
       "  <tbody>\n",
       "    <tr>\n",
       "      <th>0</th>\n",
       "      <td>Expenses:Financial:Commissions</td>\n",
       "      <td>2018</td>\n",
       "      <td>116.35</td>\n",
       "    </tr>\n",
       "    <tr>\n",
       "      <th>1</th>\n",
       "      <td>Expenses:Financial:Commissions</td>\n",
       "      <td>2019</td>\n",
       "      <td>125.30</td>\n",
       "    </tr>\n",
       "    <tr>\n",
       "      <th>2</th>\n",
       "      <td>Expenses:Financial:Commissions</td>\n",
       "      <td>2020</td>\n",
       "      <td>232.70</td>\n",
       "    </tr>\n",
       "    <tr>\n",
       "      <th>3</th>\n",
       "      <td>Expenses:Financial:Fees</td>\n",
       "      <td>2018</td>\n",
       "      <td>48.00</td>\n",
       "    </tr>\n",
       "    <tr>\n",
       "      <th>4</th>\n",
       "      <td>Expenses:Financial:Fees</td>\n",
       "      <td>2019</td>\n",
       "      <td>48.00</td>\n",
       "    </tr>\n",
       "  </tbody>\n",
       "</table>\n",
       "</div>"
      ],
      "text/plain": [
       "                          Account  Year  Amount (USD)\n",
       "0  Expenses:Financial:Commissions  2018        116.35\n",
       "1  Expenses:Financial:Commissions  2019        125.30\n",
       "2  Expenses:Financial:Commissions  2020        232.70\n",
       "3         Expenses:Financial:Fees  2018         48.00\n",
       "4         Expenses:Financial:Fees  2019         48.00"
      ]
     },
     "execution_count": 15,
     "metadata": {},
     "output_type": "execute_result"
    }
   ],
   "source": [
    "df = df.astype({\"Account\": str, \"Year\": int, \"Amount ({})\".format(currency): np.float})\n",
    "df = df[[\"Account\", \"Year\", \"Amount ({})\".format(currency)]].fillna(0)\n",
    "df.head()"
   ]
  },
  {
   "cell_type": "markdown",
   "metadata": {},
   "source": [
    "## Pivoting a Table by Year"
   ]
  },
  {
   "cell_type": "code",
   "execution_count": 16,
   "metadata": {},
   "outputs": [
    {
     "data": {
      "text/html": [
       "<div>\n",
       "<style scoped>\n",
       "    .dataframe tbody tr th:only-of-type {\n",
       "        vertical-align: middle;\n",
       "    }\n",
       "\n",
       "    .dataframe tbody tr th {\n",
       "        vertical-align: top;\n",
       "    }\n",
       "\n",
       "    .dataframe thead tr th {\n",
       "        text-align: left;\n",
       "    }\n",
       "</style>\n",
       "<table border=\"1\" class=\"dataframe\">\n",
       "  <thead>\n",
       "    <tr>\n",
       "      <th></th>\n",
       "      <th>Account</th>\n",
       "      <th colspan=\"3\" halign=\"left\">Amount (USD)</th>\n",
       "    </tr>\n",
       "    <tr>\n",
       "      <th>Year</th>\n",
       "      <th></th>\n",
       "      <th>2018</th>\n",
       "      <th>2019</th>\n",
       "      <th>2020</th>\n",
       "    </tr>\n",
       "  </thead>\n",
       "  <tbody>\n",
       "    <tr>\n",
       "      <th>0</th>\n",
       "      <td>Expenses:Financial:Commissions</td>\n",
       "      <td>116.35</td>\n",
       "      <td>125.30</td>\n",
       "      <td>232.70</td>\n",
       "    </tr>\n",
       "    <tr>\n",
       "      <th>1</th>\n",
       "      <td>Expenses:Financial:Fees</td>\n",
       "      <td>48.00</td>\n",
       "      <td>48.00</td>\n",
       "      <td>48.00</td>\n",
       "    </tr>\n",
       "    <tr>\n",
       "      <th>2</th>\n",
       "      <td>Expenses:Food:Coffee</td>\n",
       "      <td>5.49</td>\n",
       "      <td>36.76</td>\n",
       "      <td>43.07</td>\n",
       "    </tr>\n",
       "    <tr>\n",
       "      <th>3</th>\n",
       "      <td>Expenses:Food:Groceries</td>\n",
       "      <td>2298.84</td>\n",
       "      <td>2365.05</td>\n",
       "      <td>2291.58</td>\n",
       "    </tr>\n",
       "    <tr>\n",
       "      <th>4</th>\n",
       "      <td>Expenses:Food:Restaurant</td>\n",
       "      <td>4064.22</td>\n",
       "      <td>4955.84</td>\n",
       "      <td>4401.07</td>\n",
       "    </tr>\n",
       "  </tbody>\n",
       "</table>\n",
       "</div>"
      ],
      "text/plain": [
       "                             Account Amount (USD)                  \n",
       "Year                                         2018     2019     2020\n",
       "0     Expenses:Financial:Commissions       116.35   125.30   232.70\n",
       "1            Expenses:Financial:Fees        48.00    48.00    48.00\n",
       "2               Expenses:Food:Coffee         5.49    36.76    43.07\n",
       "3            Expenses:Food:Groceries      2298.84  2365.05  2291.58\n",
       "4           Expenses:Food:Restaurant      4064.22  4955.84  4401.07"
      ]
     },
     "execution_count": 16,
     "metadata": {},
     "output_type": "execute_result"
    }
   ],
   "source": [
    "df = df.pivot_table(index=\"Account\", columns=['Year']).fillna(0).reset_index()\n",
    "df.head()"
   ]
  },
  {
   "cell_type": "markdown",
   "metadata": {},
   "source": [
    "## Creating Multi-Level Accounts"
   ]
  },
  {
   "cell_type": "code",
   "execution_count": 17,
   "metadata": {},
   "outputs": [
    {
     "data": {
      "text/plain": [
       "6"
      ]
     },
     "execution_count": 17,
     "metadata": {},
     "output_type": "execute_result"
    }
   ],
   "source": [
    "n_levels = df[\"Account\"].str.count(\":\").max() + 1\n",
    "n_levels"
   ]
  },
  {
   "cell_type": "code",
   "execution_count": 18,
   "metadata": {},
   "outputs": [
    {
     "data": {
      "text/plain": [
       "['Account_L0',\n",
       " 'Account_L1',\n",
       " 'Account_L2',\n",
       " 'Account_L3',\n",
       " 'Account_L4',\n",
       " 'Account_L5']"
      ]
     },
     "execution_count": 18,
     "metadata": {},
     "output_type": "execute_result"
    }
   ],
   "source": [
    "cols = [\"Account_L{}\".format(k) for k in range(n_levels)]\n",
    "cols"
   ]
  },
  {
   "cell_type": "code",
   "execution_count": 19,
   "metadata": {},
   "outputs": [
    {
     "data": {
      "text/html": [
       "<div>\n",
       "<style scoped>\n",
       "    .dataframe tbody tr th:only-of-type {\n",
       "        vertical-align: middle;\n",
       "    }\n",
       "\n",
       "    .dataframe tbody tr th {\n",
       "        vertical-align: top;\n",
       "    }\n",
       "\n",
       "    .dataframe thead tr th {\n",
       "        text-align: left;\n",
       "    }\n",
       "\n",
       "    .dataframe thead tr:last-of-type th {\n",
       "        text-align: right;\n",
       "    }\n",
       "</style>\n",
       "<table border=\"1\" class=\"dataframe\">\n",
       "  <thead>\n",
       "    <tr>\n",
       "      <th></th>\n",
       "      <th></th>\n",
       "      <th></th>\n",
       "      <th></th>\n",
       "      <th></th>\n",
       "      <th></th>\n",
       "      <th colspan=\"3\" halign=\"left\">Amount (USD)</th>\n",
       "    </tr>\n",
       "    <tr>\n",
       "      <th></th>\n",
       "      <th></th>\n",
       "      <th></th>\n",
       "      <th></th>\n",
       "      <th></th>\n",
       "      <th>Year</th>\n",
       "      <th>2018</th>\n",
       "      <th>2019</th>\n",
       "      <th>2020</th>\n",
       "    </tr>\n",
       "    <tr>\n",
       "      <th>Account_L0</th>\n",
       "      <th>Account_L1</th>\n",
       "      <th>Account_L2</th>\n",
       "      <th>Account_L3</th>\n",
       "      <th>Account_L4</th>\n",
       "      <th>Account_L5</th>\n",
       "      <th></th>\n",
       "      <th></th>\n",
       "      <th></th>\n",
       "    </tr>\n",
       "  </thead>\n",
       "  <tbody>\n",
       "    <tr>\n",
       "      <th rowspan=\"5\" valign=\"top\">Expenses</th>\n",
       "      <th rowspan=\"2\" valign=\"top\">Financial</th>\n",
       "      <th>Commissions</th>\n",
       "      <th></th>\n",
       "      <th></th>\n",
       "      <th></th>\n",
       "      <td>116.35</td>\n",
       "      <td>125.30</td>\n",
       "      <td>232.70</td>\n",
       "    </tr>\n",
       "    <tr>\n",
       "      <th>Fees</th>\n",
       "      <th></th>\n",
       "      <th></th>\n",
       "      <th></th>\n",
       "      <td>48.00</td>\n",
       "      <td>48.00</td>\n",
       "      <td>48.00</td>\n",
       "    </tr>\n",
       "    <tr>\n",
       "      <th rowspan=\"3\" valign=\"top\">Food</th>\n",
       "      <th>Coffee</th>\n",
       "      <th></th>\n",
       "      <th></th>\n",
       "      <th></th>\n",
       "      <td>5.49</td>\n",
       "      <td>36.76</td>\n",
       "      <td>43.07</td>\n",
       "    </tr>\n",
       "    <tr>\n",
       "      <th>Groceries</th>\n",
       "      <th></th>\n",
       "      <th></th>\n",
       "      <th></th>\n",
       "      <td>2298.84</td>\n",
       "      <td>2365.05</td>\n",
       "      <td>2291.58</td>\n",
       "    </tr>\n",
       "    <tr>\n",
       "      <th>Restaurant</th>\n",
       "      <th></th>\n",
       "      <th></th>\n",
       "      <th></th>\n",
       "      <td>4064.22</td>\n",
       "      <td>4955.84</td>\n",
       "      <td>4401.07</td>\n",
       "    </tr>\n",
       "  </tbody>\n",
       "</table>\n",
       "</div>"
      ],
      "text/plain": [
       "                                                                   Amount (USD)                  \n",
       "Year                                                                       2018     2019     2020\n",
       "Account_L0 Account_L1 Account_L2  Account_L3 Account_L4 Account_L5                               \n",
       "Expenses   Financial  Commissions                                        116.35   125.30   232.70\n",
       "                      Fees                                                48.00    48.00    48.00\n",
       "           Food       Coffee                                               5.49    36.76    43.07\n",
       "                      Groceries                                         2298.84  2365.05  2291.58\n",
       "                      Restaurant                                        4064.22  4955.84  4401.07"
      ]
     },
     "execution_count": 19,
     "metadata": {},
     "output_type": "execute_result"
    }
   ],
   "source": [
    "df[cols] = df[\"Account\"].str.split(':', n_levels - 1, expand=True)\n",
    "df = df.fillna('').drop(columns=\"Account\", level=0).set_index(cols)\n",
    "df.head()"
   ]
  },
  {
   "cell_type": "markdown",
   "metadata": {},
   "source": [
    "## Aggregation at Different Account Levels"
   ]
  },
  {
   "cell_type": "code",
   "execution_count": 20,
   "metadata": {},
   "outputs": [
    {
     "data": {
      "text/html": [
       "<style  type=\"text/css\" >\n",
       "    #T_26a6c0d4_4d8b_11eb_80e1_74dfbff0a97c tr:hover {\n",
       "          background-color: yellow;\n",
       "    }</style><table id=\"T_26a6c0d4_4d8b_11eb_80e1_74dfbff0a97c\" ><thead>    <tr>        <th class=\"blank\" ></th>        <th class=\"blank level0\" ></th>        <th class=\"col_heading level0 col0\" colspan=3>Amount (USD)</th>    </tr>    <tr>        <th class=\"blank\" ></th>        <th class=\"index_name level1\" >Year</th>        <th class=\"col_heading level1 col0\" >2018</th>        <th class=\"col_heading level1 col1\" >2019</th>        <th class=\"col_heading level1 col2\" >2020</th>    </tr>    <tr>        <th class=\"index_name level0\" >Account_L0</th>        <th class=\"index_name level1\" >Account_L1</th>        <th class=\"blank\" ></th>        <th class=\"blank\" ></th>        <th class=\"blank\" ></th>    </tr></thead><tbody>\n",
       "                <tr>\n",
       "                        <th id=\"T_26a6c0d4_4d8b_11eb_80e1_74dfbff0a97clevel0_row0\" class=\"row_heading level0 row0\" rowspan=7>Expenses</th>\n",
       "                        <th id=\"T_26a6c0d4_4d8b_11eb_80e1_74dfbff0a97clevel1_row0\" class=\"row_heading level1 row0\" >Financial</th>\n",
       "                        <td id=\"T_26a6c0d4_4d8b_11eb_80e1_74dfbff0a97crow0_col0\" class=\"data row0 col0\" >164.35</td>\n",
       "                        <td id=\"T_26a6c0d4_4d8b_11eb_80e1_74dfbff0a97crow0_col1\" class=\"data row0 col1\" >173.30</td>\n",
       "                        <td id=\"T_26a6c0d4_4d8b_11eb_80e1_74dfbff0a97crow0_col2\" class=\"data row0 col2\" >280.70</td>\n",
       "            </tr>\n",
       "            <tr>\n",
       "                                <th id=\"T_26a6c0d4_4d8b_11eb_80e1_74dfbff0a97clevel1_row1\" class=\"row_heading level1 row1\" >Food</th>\n",
       "                        <td id=\"T_26a6c0d4_4d8b_11eb_80e1_74dfbff0a97crow1_col0\" class=\"data row1 col0\" >6368.55</td>\n",
       "                        <td id=\"T_26a6c0d4_4d8b_11eb_80e1_74dfbff0a97crow1_col1\" class=\"data row1 col1\" >7357.65</td>\n",
       "                        <td id=\"T_26a6c0d4_4d8b_11eb_80e1_74dfbff0a97crow1_col2\" class=\"data row1 col2\" >6735.72</td>\n",
       "            </tr>\n",
       "            <tr>\n",
       "                                <th id=\"T_26a6c0d4_4d8b_11eb_80e1_74dfbff0a97clevel1_row2\" class=\"row_heading level1 row2\" >Health</th>\n",
       "                        <td id=\"T_26a6c0d4_4d8b_11eb_80e1_74dfbff0a97crow2_col0\" class=\"data row2 col0\" >2519.40</td>\n",
       "                        <td id=\"T_26a6c0d4_4d8b_11eb_80e1_74dfbff0a97crow2_col1\" class=\"data row2 col1\" >2519.40</td>\n",
       "                        <td id=\"T_26a6c0d4_4d8b_11eb_80e1_74dfbff0a97crow2_col2\" class=\"data row2 col2\" >2616.30</td>\n",
       "            </tr>\n",
       "            <tr>\n",
       "                                <th id=\"T_26a6c0d4_4d8b_11eb_80e1_74dfbff0a97clevel1_row3\" class=\"row_heading level1 row3\" >Home</th>\n",
       "                        <td id=\"T_26a6c0d4_4d8b_11eb_80e1_74dfbff0a97crow3_col0\" class=\"data row3 col0\" >31210.19</td>\n",
       "                        <td id=\"T_26a6c0d4_4d8b_11eb_80e1_74dfbff0a97crow3_col1\" class=\"data row3 col1\" >31269.09</td>\n",
       "                        <td id=\"T_26a6c0d4_4d8b_11eb_80e1_74dfbff0a97crow3_col2\" class=\"data row3 col2\" >28693.91</td>\n",
       "            </tr>\n",
       "            <tr>\n",
       "                                <th id=\"T_26a6c0d4_4d8b_11eb_80e1_74dfbff0a97clevel1_row4\" class=\"row_heading level1 row4\" >Taxes</th>\n",
       "                        <td id=\"T_26a6c0d4_4d8b_11eb_80e1_74dfbff0a97crow4_col0\" class=\"data row4 col0\" >51477.20</td>\n",
       "                        <td id=\"T_26a6c0d4_4d8b_11eb_80e1_74dfbff0a97crow4_col1\" class=\"data row4 col1\" >52386.19</td>\n",
       "                        <td id=\"T_26a6c0d4_4d8b_11eb_80e1_74dfbff0a97crow4_col2\" class=\"data row4 col2\" >54124.59</td>\n",
       "            </tr>\n",
       "            <tr>\n",
       "                                <th id=\"T_26a6c0d4_4d8b_11eb_80e1_74dfbff0a97clevel1_row5\" class=\"row_heading level1 row5\" >Transport</th>\n",
       "                        <td id=\"T_26a6c0d4_4d8b_11eb_80e1_74dfbff0a97crow5_col0\" class=\"data row5 col0\" >1440.00</td>\n",
       "                        <td id=\"T_26a6c0d4_4d8b_11eb_80e1_74dfbff0a97crow5_col1\" class=\"data row5 col1\" >1320.00</td>\n",
       "                        <td id=\"T_26a6c0d4_4d8b_11eb_80e1_74dfbff0a97crow5_col2\" class=\"data row5 col2\" >1440.00</td>\n",
       "            </tr>\n",
       "            <tr>\n",
       "                                <th id=\"T_26a6c0d4_4d8b_11eb_80e1_74dfbff0a97clevel1_row6\" class=\"row_heading level1 row6\" >Vacation</th>\n",
       "                        <td id=\"T_26a6c0d4_4d8b_11eb_80e1_74dfbff0a97crow6_col0\" class=\"data row6 col0\" >0.00</td>\n",
       "                        <td id=\"T_26a6c0d4_4d8b_11eb_80e1_74dfbff0a97crow6_col1\" class=\"data row6 col1\" >0.00</td>\n",
       "                        <td id=\"T_26a6c0d4_4d8b_11eb_80e1_74dfbff0a97crow6_col2\" class=\"data row6 col2\" >0.00</td>\n",
       "            </tr>\n",
       "            <tr>\n",
       "                        <th id=\"T_26a6c0d4_4d8b_11eb_80e1_74dfbff0a97clevel0_row7\" class=\"row_heading level0 row7\" >Income</th>\n",
       "                        <th id=\"T_26a6c0d4_4d8b_11eb_80e1_74dfbff0a97clevel1_row7\" class=\"row_heading level1 row7\" >US</th>\n",
       "                        <td id=\"T_26a6c0d4_4d8b_11eb_80e1_74dfbff0a97crow7_col0\" class=\"data row7 col0\" >-129999.98</td>\n",
       "                        <td id=\"T_26a6c0d4_4d8b_11eb_80e1_74dfbff0a97crow7_col1\" class=\"data row7 col1\" >-130228.84</td>\n",
       "                        <td id=\"T_26a6c0d4_4d8b_11eb_80e1_74dfbff0a97crow7_col2\" class=\"data row7 col2\" >-135930.89</td>\n",
       "            </tr>\n",
       "    </tbody></table>"
      ],
      "text/plain": [
       "<pandas.io.formats.style.Styler at 0x7fe8ea0acb20>"
      ]
     },
     "execution_count": 20,
     "metadata": {},
     "output_type": "execute_result"
    }
   ],
   "source": [
    "df_L1 = df.groupby([\"Account_L0\", \"Account_L1\"]).sum()\n",
    "df_L1.style.set_table_styles(\n",
    "[{'selector': 'tr:hover',\n",
    "  'props': [('background-color', 'yellow')]}]\n",
    ")"
   ]
  },
  {
   "cell_type": "code",
   "execution_count": 21,
   "metadata": {},
   "outputs": [
    {
     "data": {
      "text/html": [
       "<style  type=\"text/css\" >\n",
       "    #T_26b970c6_4d8b_11eb_80e1_74dfbff0a97c tr:hover {\n",
       "          background-color: yellow;\n",
       "    }</style><table id=\"T_26b970c6_4d8b_11eb_80e1_74dfbff0a97c\" ><thead>    <tr>        <th class=\"blank level0\" ></th>        <th class=\"col_heading level0 col0\" colspan=3>Amount (USD)</th>    </tr>    <tr>        <th class=\"index_name level1\" >Year</th>        <th class=\"col_heading level1 col0\" >2018</th>        <th class=\"col_heading level1 col1\" >2019</th>        <th class=\"col_heading level1 col2\" >2020</th>    </tr>    <tr>        <th class=\"index_name level0\" >Account_L0</th>        <th class=\"blank\" ></th>        <th class=\"blank\" ></th>        <th class=\"blank\" ></th>    </tr></thead><tbody>\n",
       "                <tr>\n",
       "                        <th id=\"T_26b970c6_4d8b_11eb_80e1_74dfbff0a97clevel0_row0\" class=\"row_heading level0 row0\" >Expenses</th>\n",
       "                        <td id=\"T_26b970c6_4d8b_11eb_80e1_74dfbff0a97crow0_col0\" class=\"data row0 col0\" >93179.69</td>\n",
       "                        <td id=\"T_26b970c6_4d8b_11eb_80e1_74dfbff0a97crow0_col1\" class=\"data row0 col1\" >95025.63</td>\n",
       "                        <td id=\"T_26b970c6_4d8b_11eb_80e1_74dfbff0a97crow0_col2\" class=\"data row0 col2\" >93891.22</td>\n",
       "            </tr>\n",
       "            <tr>\n",
       "                        <th id=\"T_26b970c6_4d8b_11eb_80e1_74dfbff0a97clevel0_row1\" class=\"row_heading level0 row1\" >Income</th>\n",
       "                        <td id=\"T_26b970c6_4d8b_11eb_80e1_74dfbff0a97crow1_col0\" class=\"data row1 col0\" >-129999.98</td>\n",
       "                        <td id=\"T_26b970c6_4d8b_11eb_80e1_74dfbff0a97crow1_col1\" class=\"data row1 col1\" >-130228.84</td>\n",
       "                        <td id=\"T_26b970c6_4d8b_11eb_80e1_74dfbff0a97crow1_col2\" class=\"data row1 col2\" >-135930.89</td>\n",
       "            </tr>\n",
       "    </tbody></table>"
      ],
      "text/plain": [
       "<pandas.io.formats.style.Styler at 0x7fe8ea0ac970>"
      ]
     },
     "execution_count": 21,
     "metadata": {},
     "output_type": "execute_result"
    }
   ],
   "source": [
    "df_L0 = df.groupby([\"Account_L0\"]).sum()\n",
    "df_L0.style.set_table_styles(\n",
    "[{'selector': 'tr:hover',\n",
    "  'props': [('background-color', 'yellow')]}]\n",
    ")"
   ]
  },
  {
   "cell_type": "code",
   "execution_count": 22,
   "metadata": {},
   "outputs": [
    {
     "data": {
      "text/html": [
       "<div>\n",
       "<style scoped>\n",
       "    .dataframe tbody tr th:only-of-type {\n",
       "        vertical-align: middle;\n",
       "    }\n",
       "\n",
       "    .dataframe tbody tr th {\n",
       "        vertical-align: top;\n",
       "    }\n",
       "\n",
       "    .dataframe thead tr th {\n",
       "        text-align: left;\n",
       "    }\n",
       "</style>\n",
       "<table border=\"1\" class=\"dataframe\">\n",
       "  <thead>\n",
       "    <tr>\n",
       "      <th></th>\n",
       "      <th colspan=\"3\" halign=\"left\">Amount (USD)</th>\n",
       "    </tr>\n",
       "    <tr>\n",
       "      <th>Year</th>\n",
       "      <th>2018</th>\n",
       "      <th>2019</th>\n",
       "      <th>2020</th>\n",
       "    </tr>\n",
       "  </thead>\n",
       "  <tbody>\n",
       "    <tr>\n",
       "      <th>Net income</th>\n",
       "      <td>36820.29</td>\n",
       "      <td>35203.21</td>\n",
       "      <td>42039.67</td>\n",
       "    </tr>\n",
       "  </tbody>\n",
       "</table>\n",
       "</div>"
      ],
      "text/plain": [
       "           Amount (USD)                    \n",
       "Year               2018      2019      2020\n",
       "Net income     36820.29  35203.21  42039.67"
      ]
     },
     "execution_count": 22,
     "metadata": {},
     "output_type": "execute_result"
    }
   ],
   "source": [
    "# Net income\n",
    "-df_L0.sum(axis=0).to_frame().rename(columns={0: \"Net income\"}).transpose()"
   ]
  },
  {
   "cell_type": "code",
   "execution_count": 23,
   "metadata": {},
   "outputs": [
    {
     "data": {
      "text/html": [
       "<div>\n",
       "<style scoped>\n",
       "    .dataframe tbody tr th:only-of-type {\n",
       "        vertical-align: middle;\n",
       "    }\n",
       "\n",
       "    .dataframe tbody tr th {\n",
       "        vertical-align: top;\n",
       "    }\n",
       "\n",
       "    .dataframe thead th {\n",
       "        text-align: right;\n",
       "    }\n",
       "</style>\n",
       "<table border=\"1\" class=\"dataframe\">\n",
       "  <thead>\n",
       "    <tr style=\"text-align: right;\">\n",
       "      <th>Account_L0</th>\n",
       "      <th>level_0</th>\n",
       "      <th>Year</th>\n",
       "      <th>Expenses</th>\n",
       "      <th>Income</th>\n",
       "    </tr>\n",
       "  </thead>\n",
       "  <tbody>\n",
       "    <tr>\n",
       "      <th>0</th>\n",
       "      <td>Amount (USD)</td>\n",
       "      <td>2018</td>\n",
       "      <td>93179.69</td>\n",
       "      <td>129999.98</td>\n",
       "    </tr>\n",
       "    <tr>\n",
       "      <th>1</th>\n",
       "      <td>Amount (USD)</td>\n",
       "      <td>2019</td>\n",
       "      <td>95025.63</td>\n",
       "      <td>130228.84</td>\n",
       "    </tr>\n",
       "    <tr>\n",
       "      <th>2</th>\n",
       "      <td>Amount (USD)</td>\n",
       "      <td>2020</td>\n",
       "      <td>93891.22</td>\n",
       "      <td>135930.89</td>\n",
       "    </tr>\n",
       "  </tbody>\n",
       "</table>\n",
       "</div>"
      ],
      "text/plain": [
       "Account_L0       level_0  Year  Expenses     Income\n",
       "0           Amount (USD)  2018  93179.69  129999.98\n",
       "1           Amount (USD)  2019  95025.63  130228.84\n",
       "2           Amount (USD)  2020  93891.22  135930.89"
      ]
     },
     "execution_count": 23,
     "metadata": {},
     "output_type": "execute_result"
    }
   ],
   "source": [
    "# Invert the sign of the \"Income\" account. Negative income is counter-intuitive.\n",
    "df_L0.loc[\"Income\"] = -df_L0.loc[\"Income\"]\n",
    "df_L0 = df_L0.transpose().reset_index()\n",
    "df_L0"
   ]
  },
  {
   "cell_type": "code",
   "execution_count": 24,
   "metadata": {},
   "outputs": [
    {
     "data": {
      "image/png": "[encoded data removed]",
      "text/plain": [
       "<Figure size 1080x360 with 1 Axes>"
      ]
     },
     "metadata": {
      "needs_background": "light"
     },
     "output_type": "display_data"
    }
   ],
   "source": [
    "df_L0.columns.name = \"Account\"\n",
    "df_L0.plot.bar(x=\"Year\", y=[\"Income\", \"Expenses\"], xlabel=\"Year\", ylabel=df_L0[\"level_0\"][0], rot=90)\n",
    "plt.show()"
   ]
  },
  {
   "cell_type": "markdown",
   "metadata": {},
   "source": [
    "## Treemap Plot of Expenses"
   ]
  },
  {
   "cell_type": "code",
   "execution_count": 25,
   "metadata": {},
   "outputs": [
    {
     "data": {
      "text/html": [
       "<div>\n",
       "<style scoped>\n",
       "    .dataframe tbody tr th:only-of-type {\n",
       "        vertical-align: middle;\n",
       "    }\n",
       "\n",
       "    .dataframe tbody tr th {\n",
       "        vertical-align: top;\n",
       "    }\n",
       "\n",
       "    .dataframe thead th {\n",
       "        text-align: right;\n",
       "    }\n",
       "</style>\n",
       "<table border=\"1\" class=\"dataframe\">\n",
       "  <thead>\n",
       "    <tr style=\"text-align: right;\">\n",
       "      <th></th>\n",
       "      <th></th>\n",
       "      <th>0</th>\n",
       "    </tr>\n",
       "    <tr>\n",
       "      <th>Account_L0</th>\n",
       "      <th>Account_L1</th>\n",
       "      <th></th>\n",
       "    </tr>\n",
       "  </thead>\n",
       "  <tbody>\n",
       "    <tr>\n",
       "      <th rowspan=\"7\" valign=\"top\">Expenses</th>\n",
       "      <th>Taxes</th>\n",
       "      <td>157987.98</td>\n",
       "    </tr>\n",
       "    <tr>\n",
       "      <th>Home</th>\n",
       "      <td>91173.19</td>\n",
       "    </tr>\n",
       "    <tr>\n",
       "      <th>Food</th>\n",
       "      <td>20461.92</td>\n",
       "    </tr>\n",
       "    <tr>\n",
       "      <th>Health</th>\n",
       "      <td>7655.10</td>\n",
       "    </tr>\n",
       "    <tr>\n",
       "      <th>Transport</th>\n",
       "      <td>4200.00</td>\n",
       "    </tr>\n",
       "    <tr>\n",
       "      <th>Financial</th>\n",
       "      <td>618.35</td>\n",
       "    </tr>\n",
       "    <tr>\n",
       "      <th>Vacation</th>\n",
       "      <td>0.00</td>\n",
       "    </tr>\n",
       "    <tr>\n",
       "      <th>Income</th>\n",
       "      <th>US</th>\n",
       "      <td>-396159.71</td>\n",
       "    </tr>\n",
       "  </tbody>\n",
       "</table>\n",
       "</div>"
      ],
      "text/plain": [
       "                               0\n",
       "Account_L0 Account_L1           \n",
       "Expenses   Taxes       157987.98\n",
       "           Home         91173.19\n",
       "           Food         20461.92\n",
       "           Health        7655.10\n",
       "           Transport     4200.00\n",
       "           Financial      618.35\n",
       "           Vacation         0.00\n",
       "Income     US         -396159.71"
      ]
     },
     "execution_count": 25,
     "metadata": {},
     "output_type": "execute_result"
    }
   ],
   "source": [
    "tot = df_L1.sum(axis=1).to_frame().sort_values(by=0, ascending=False)\n",
    "tot"
   ]
  },
  {
   "cell_type": "code",
   "execution_count": 26,
   "metadata": {},
   "outputs": [
    {
     "data": {
      "image/png": "[encoded data removed]",
      "text/plain": [
       "<Figure size 720x720 with 6 Axes>"
      ]
     },
     "metadata": {},
     "output_type": "display_data"
    }
   ],
   "source": [
    "data = tot.loc[\"Expenses\"].sort_values(by=0, ascending=False)\n",
    "idx = [k[0] != 0 for k in data.values]\n",
    "values = data.values[idx]\n",
    "labels = data.index[idx]\n",
    "\n",
    "width = 1\n",
    "height = 0.5\n",
    "values_norm = squarify.normalize_sizes(values, width, height)\n",
    "rects = squarify.squarify(values_norm, 0, 0, width, height)\n",
    "\n",
    "fig = plt.figure(figsize=(10, 10))\n",
    "fig.suptitle('Expenses', x=0.5, y=0.55, fontsize=16)\n",
    "axes = [fig.add_axes([rect['x'], rect['y'], rect['dx'], rect['dy'], ]) for rect in rects]\n",
    "\n",
    "for ax, txt, color in zip(axes, labels, plt.cm.Pastel1.colors):\n",
    "    ax.text(0.5, 0.5, txt, horizontalalignment='center', verticalalignment='center')\n",
    "    ax.set_yticks([])\n",
    "    ax.set_xticks([])\n",
    "    ax.set_facecolor(color)    \n",
    "plt.show()"
   ]
  }
 ],
 "metadata": {
  "kernelspec": {
   "display_name": "Python 3",
   "language": "python",
   "name": "python3"
  },
  "language_info": {
   "codemirror_mode": {
    "name": "ipython",
    "version": 3
   },
   "file_extension": ".py",
   "mimetype": "text/x-python",
   "name": "python",
   "nbconvert_exporter": "python",
   "pygments_lexer": "ipython3",
   "version": "3.9.1"
  }
 },
 "nbformat": 4,
 "nbformat_minor": 4
}
